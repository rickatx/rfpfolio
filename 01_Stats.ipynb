{
 "cells": [
  {
   "cell_type": "code",
   "execution_count": null,
   "metadata": {},
   "outputs": [
    {
     "name": "stdout",
     "output_type": "stream",
     "text": [
      "The autoreload extension is already loaded. To reload it, use:\n",
      "  %reload_ext autoreload\n"
     ]
    }
   ],
   "source": [
    "# This should allow automatically reading in the new modules as soon as the python file changes\n",
    "# (Helpful for nbdev-generated modules, such as rfpfolio)\n",
    "%load_ext autoreload\n",
    "%autoreload 2"
   ]
  },
  {
   "cell_type": "code",
   "execution_count": null,
   "metadata": {},
   "outputs": [],
   "source": [
    "#default_exp stats"
   ]
  },
  {
   "cell_type": "markdown",
   "metadata": {},
   "source": [
    "# stats\n",
    "\n",
    "> Stats and analysis of portofolio performance"
   ]
  },
  {
   "cell_type": "code",
   "execution_count": null,
   "metadata": {},
   "outputs": [],
   "source": [
    "#hide\n",
    "from nbdev.showdoc import show_doc\n",
    "from fastcore.test import *\n",
    "from nbdev.export import notebook2script"
   ]
  },
  {
   "cell_type": "code",
   "execution_count": null,
   "metadata": {},
   "outputs": [],
   "source": [
    "#export\n",
    "import pandas as pd\n",
    "import numpy as np\n",
    "import os.path\n",
    "import empyrical.stats as estats\n",
    "from typing import NamedTuple\n",
    "import datetime\n",
    "import rfpfolio as rfp\n",
    "import matplotlib.pyplot as plt"
   ]
  },
  {
   "cell_type": "code",
   "execution_count": null,
   "metadata": {},
   "outputs": [],
   "source": [
    "%matplotlib inline"
   ]
  },
  {
   "cell_type": "markdown",
   "metadata": {},
   "source": [
    "## Return and Volatility of Asset Combos\n",
    "\n",
    "See how return/volatility vary with varying ratios of asset pairs.\n",
    "\n",
    "This can be used, for example for \"bullet plots\" which show the efficient frontier of a pair of assets."
   ]
  },
  {
   "cell_type": "code",
   "execution_count": null,
   "metadata": {},
   "outputs": [],
   "source": [
    "# Some data to work with\n",
    "src1 = rfp.PriceSource(r'..\\data\\EPB_Macro_Compare', subdir_default='monthly')"
   ]
  },
  {
   "cell_type": "code",
   "execution_count": null,
   "metadata": {},
   "outputs": [
    {
     "name": "stdout",
     "output_type": "stream",
     "text": [
      "2017-04-01 => 2020-06-01  AGG.csv\n",
      "2017-04-01 => 2020-06-01  EPB_Macro.csv\n",
      "2017-04-01 => 2020-06-01  EPB_Macro15.csv\n",
      "2017-04-01 => 2020-06-01  GLD.csv\n",
      "2017-04-01 => 2020-06-01  IEI.csv\n",
      "2017-04-01 => 2020-06-01  PDBC.csv\n",
      "2017-04-01 => 2020-06-01  SHV.csv\n",
      "2017-04-01 => 2020-06-01  SPY.csv\n",
      "2017-04-01 => 2020-06-01  TLT.csv\n",
      "2017-04-01 => 2020-06-01  VT.csv\n",
      "2017-04-01 => 2020-06-01  VTI.csv\n"
     ]
    }
   ],
   "source": [
    "src1.list_return_dates()"
   ]
  },
  {
   "cell_type": "markdown",
   "metadata": {},
   "source": [
    "We would like to combine two return sequences. Assume that each return sequence is the output of `computePortfolioReturns()` (possibly a single-asset portfolio.)"
   ]
  },
  {
   "cell_type": "code",
   "execution_count": null,
   "metadata": {},
   "outputs": [],
   "source": [
    "# Example: Interested in combining 60-40 portfolio with gold\n",
    "pf_6040 = rfp.computePortfolioReturns(src1, [('IEI', .40), ('SPY', .60)], \"Pf_6040\", \n",
    "                                      rebal_period=3, period='monthly')\n",
    "gold = rfp.computePortfolioReturns(src1, [('GLD', 1,)], \"Gold\", rebal_period=3, period='monthly')"
   ]
  },
  {
   "cell_type": "code",
   "execution_count": null,
   "metadata": {},
   "outputs": [
    {
     "data": {
      "text/html": [
       "<div>\n",
       "<style scoped>\n",
       "    .dataframe tbody tr th:only-of-type {\n",
       "        vertical-align: middle;\n",
       "    }\n",
       "\n",
       "    .dataframe tbody tr th {\n",
       "        vertical-align: top;\n",
       "    }\n",
       "\n",
       "    .dataframe thead th {\n",
       "        text-align: right;\n",
       "    }\n",
       "</style>\n",
       "<table border=\"1\" class=\"dataframe\">\n",
       "  <thead>\n",
       "    <tr style=\"text-align: right;\">\n",
       "      <th></th>\n",
       "      <th>Pf_6040</th>\n",
       "    </tr>\n",
       "    <tr>\n",
       "      <th>Date</th>\n",
       "      <th></th>\n",
       "    </tr>\n",
       "  </thead>\n",
       "  <tbody>\n",
       "    <tr>\n",
       "      <th>2017-05-01</th>\n",
       "      <td>0.010199</td>\n",
       "    </tr>\n",
       "    <tr>\n",
       "      <th>2017-06-01</th>\n",
       "      <td>-0.000358</td>\n",
       "    </tr>\n",
       "    <tr>\n",
       "      <th>2017-07-01</th>\n",
       "      <td>0.016895</td>\n",
       "    </tr>\n",
       "  </tbody>\n",
       "</table>\n",
       "</div>"
      ],
      "text/plain": [
       "             Pf_6040\n",
       "Date                \n",
       "2017-05-01  0.010199\n",
       "2017-06-01 -0.000358\n",
       "2017-07-01  0.016895"
      ]
     },
     "execution_count": null,
     "metadata": {},
     "output_type": "execute_result"
    }
   ],
   "source": [
    "pf_6040.head(3)"
   ]
  },
  {
   "cell_type": "code",
   "execution_count": null,
   "metadata": {},
   "outputs": [
    {
     "data": {
      "text/html": [
       "<div>\n",
       "<style scoped>\n",
       "    .dataframe tbody tr th:only-of-type {\n",
       "        vertical-align: middle;\n",
       "    }\n",
       "\n",
       "    .dataframe tbody tr th {\n",
       "        vertical-align: top;\n",
       "    }\n",
       "\n",
       "    .dataframe thead th {\n",
       "        text-align: right;\n",
       "    }\n",
       "</style>\n",
       "<table border=\"1\" class=\"dataframe\">\n",
       "  <thead>\n",
       "    <tr style=\"text-align: right;\">\n",
       "      <th></th>\n",
       "      <th>Gold</th>\n",
       "    </tr>\n",
       "    <tr>\n",
       "      <th>Date</th>\n",
       "      <th></th>\n",
       "    </tr>\n",
       "  </thead>\n",
       "  <tbody>\n",
       "    <tr>\n",
       "      <th>2017-05-01</th>\n",
       "      <td>-0.001242</td>\n",
       "    </tr>\n",
       "    <tr>\n",
       "      <th>2017-06-01</th>\n",
       "      <td>-0.021555</td>\n",
       "    </tr>\n",
       "    <tr>\n",
       "      <th>2017-07-01</th>\n",
       "      <td>0.023132</td>\n",
       "    </tr>\n",
       "  </tbody>\n",
       "</table>\n",
       "</div>"
      ],
      "text/plain": [
       "                Gold\n",
       "Date                \n",
       "2017-05-01 -0.001242\n",
       "2017-06-01 -0.021555\n",
       "2017-07-01  0.023132"
      ]
     },
     "execution_count": null,
     "metadata": {},
     "output_type": "execute_result"
    }
   ],
   "source": [
    "gold.head(3)"
   ]
  },
  {
   "cell_type": "code",
   "execution_count": null,
   "metadata": {},
   "outputs": [],
   "source": [
    "#export\n",
    "\n",
    "class DateRange(NamedTuple):\n",
    "    start_date: datetime.date\n",
    "    end_date: datetime.date\n",
    "\n",
    "def ret_vol_combos(ret1, ret2, nsteps, period='monthly', rebal_period=3):\n",
    "    \"\"\"Return and volatility that results from combining two return series in proportions from 0 to 100%.\n",
    "    \n",
    "    Args:\n",
    "     - ret1: return series 1 (sequence of period returns, such as output by computePortfolioReturns())\n",
    "     - ret2: return series 2\n",
    "     - nsteps: number of steps to take in allocation to the returns, between 0 and 100%\n",
    "     - period: return interval in `ret1`, `ret2`: {'daily', 'weekly', 'monthly'}\n",
    "     - rebal_period: interval for rebalancing the allocation; expressed as number of periods of type `period`\n",
    "     \n",
    "     Return:\n",
    "      - Dataframe with results for each allocation between 0 and 100%\n",
    "        - annualized return\n",
    "        - annualized standard deviation\n",
    "        - annualized downside deviation\n",
    "      - Date range of returns used for these results\n",
    "    \"\"\"\n",
    "    # convert period returns to wr's\n",
    "    ret1 = ret1.copy() + 1\n",
    "    ret2 = ret2.copy() + 1\n",
    "    \n",
    "    # combine the two return sequences\n",
    "    combined = pd.concat([ret1, ret2], axis=1, join='inner')\n",
    "    # Note: the concat/join ensures we have the same date range for both return sequences; \n",
    "    # computing the date range here ensures that it accurately reflects dates to compute results\n",
    "    date_range = DateRange(min(combined.index).date(), max(combined.index).date())\n",
    "    \n",
    "    stepsize = 1 / nsteps\n",
    "    return_list = []\n",
    "    vol_list = []\n",
    "    downside_list = []\n",
    "    w1_list = []\n",
    "    for ix in range(nsteps+1):\n",
    "        w1 = 1 - ix*stepsize\n",
    "        w2 = ix*stepsize\n",
    "        res = rfp.pf_period_returns(combined, [w1, w2], rebal_period, f'combined_{w1:4.2}')\n",
    "        # print(res.head())\n",
    "        ann_ret = estats.annual_return(res.values, period=period)\n",
    "        ann_vol = estats.annual_volatility(res.values, period=period)\n",
    "        ann_downside = estats.downside_risk(res.values, period=period) # option to add `required_return` parameter\n",
    "        #print(w1, w2, ann_ret, ann_vol)\n",
    "        return_list.append(ann_ret[0])\n",
    "        vol_list.append(ann_vol[0])\n",
    "        downside_list.append(ann_downside[0])\n",
    "        w1_list.append(w1)\n",
    "        \n",
    "    df = pd.DataFrame({'w1':w1_list, 'ann_ret':return_list, 'standard_dev':vol_list, 'downside_dev':downside_list})\n",
    "    return df, date_range"
   ]
  },
  {
   "cell_type": "markdown",
   "metadata": {},
   "source": [
    "**Usage example:** Over this period, gold had strong returns, and is not highly correlated with the 60/40 portfolio. So, as we start from 100% 60/40 and increase allocation to gold in steps of 10%, we see that the portfolio annual return increases, **and** both measures of volatility decline."
   ]
  },
  {
   "cell_type": "code",
   "execution_count": null,
   "metadata": {},
   "outputs": [
    {
     "data": {
      "text/html": [
       "<div>\n",
       "<style scoped>\n",
       "    .dataframe tbody tr th:only-of-type {\n",
       "        vertical-align: middle;\n",
       "    }\n",
       "\n",
       "    .dataframe tbody tr th {\n",
       "        vertical-align: top;\n",
       "    }\n",
       "\n",
       "    .dataframe thead th {\n",
       "        text-align: right;\n",
       "    }\n",
       "</style>\n",
       "<table border=\"1\" class=\"dataframe\">\n",
       "  <thead>\n",
       "    <tr style=\"text-align: right;\">\n",
       "      <th></th>\n",
       "      <th>w1</th>\n",
       "      <th>ann_ret</th>\n",
       "      <th>standard_dev</th>\n",
       "      <th>downside_dev</th>\n",
       "    </tr>\n",
       "  </thead>\n",
       "  <tbody>\n",
       "    <tr>\n",
       "      <th>0</th>\n",
       "      <td>1.0</td>\n",
       "      <td>0.082506</td>\n",
       "      <td>0.093022</td>\n",
       "      <td>0.060488</td>\n",
       "    </tr>\n",
       "    <tr>\n",
       "      <th>1</th>\n",
       "      <td>0.9</td>\n",
       "      <td>0.085765</td>\n",
       "      <td>0.086408</td>\n",
       "      <td>0.052984</td>\n",
       "    </tr>\n",
       "    <tr>\n",
       "      <th>2</th>\n",
       "      <td>0.8</td>\n",
       "      <td>0.088882</td>\n",
       "      <td>0.081268</td>\n",
       "      <td>0.045876</td>\n",
       "    </tr>\n",
       "    <tr>\n",
       "      <th>3</th>\n",
       "      <td>0.7</td>\n",
       "      <td>0.091856</td>\n",
       "      <td>0.077895</td>\n",
       "      <td>0.039586</td>\n",
       "    </tr>\n",
       "    <tr>\n",
       "      <th>4</th>\n",
       "      <td>0.6</td>\n",
       "      <td>0.094685</td>\n",
       "      <td>0.076527</td>\n",
       "      <td>0.034601</td>\n",
       "    </tr>\n",
       "  </tbody>\n",
       "</table>\n",
       "</div>"
      ],
      "text/plain": [
       "    w1   ann_ret  standard_dev  downside_dev\n",
       "0  1.0  0.082506      0.093022      0.060488\n",
       "1  0.9  0.085765      0.086408      0.052984\n",
       "2  0.8  0.088882      0.081268      0.045876\n",
       "3  0.7  0.091856      0.077895      0.039586\n",
       "4  0.6  0.094685      0.076527      0.034601"
      ]
     },
     "execution_count": null,
     "metadata": {},
     "output_type": "execute_result"
    }
   ],
   "source": [
    "df, date_range = ret_vol_combos(pf_6040, gold, 10)\n",
    "df.head()"
   ]
  },
  {
   "cell_type": "code",
   "execution_count": null,
   "metadata": {},
   "outputs": [],
   "source": [
    "#hide\n",
    "# a simple test of ret_vol_combos()\n",
    "test_close(list(df.ann_ret)[:5], [0.082506, 0.085765, 0.088882, 0.091856, 0.094685])\n",
    "test_close(list(df.standard_dev)[:5], [0.093022, 0.086408, 0.081268, 0.077895, 0.076527])\n",
    "test_close(list(df.downside_dev)[:5], [0.060488, 0.052984, 0.045876, 0.039586, 0.034601])\n",
    "\n",
    "test_close(list(df.w1), [1.0, 0.9, 0.8, 0.7, 0.6, 0.5, 0.4, 0.3, 0.2, 0.1, 0.0])"
   ]
  },
  {
   "cell_type": "markdown",
   "metadata": {},
   "source": [
    "### Bullet Plots\n",
    "\n",
    "A plot of return vs. volatility for various allocations of two return series illustrates the efficient frontier for the pair."
   ]
  },
  {
   "cell_type": "code",
   "execution_count": null,
   "metadata": {},
   "outputs": [],
   "source": [
    "#export\n",
    "\n",
    "VOL_STANDARD = 1  # Indicates standard deviation as volatility measure\n",
    "VOL_DOWNSIDE = 2  # Indicates downside deviation as volatility measure\n",
    "\n",
    "def plot_bullet(ret1, ret2, nsteps, period='monthly', rebal_period=3, vol=VOL_STANDARD, fig_size=(14,10)):\n",
    "    \"\"\"Generate a plot of return vs. volatility that results from combining two return series in proportions from 0 to 100%.\n",
    "    \n",
    "    Args:\n",
    "     - ret1: return series 1 (sequence of period returns, such as output by computePortfolioReturns())\n",
    "     - ret2: return series 2\n",
    "     - nsteps: number of steps to take in allocation to the returns, between 0 and 100%\n",
    "     - period: return interval in `ret1`, `ret2`: {'daily', 'weekly', 'monthly'}\n",
    "     - rebal_period: interval for rebalancing the allocation; expressed as number of periods of type `period`\n",
    "     - vol: which volatility measure(s) to include in the plot can be one of {VOL_STANDARD, VOL_DOWNSIDE}, or a \n",
    "     boolean or of these values (indicating to plot both)\n",
    "     - fig_size: size of plot\n",
    "     \"\"\"\n",
    "    \n",
    "    df, date_range = ret_vol_combos(ret1, ret2, nsteps, period, rebal_period)\n",
    "    \n",
    "    # extract values needed for plot from df\n",
    "    w1_list = [f\"{w1:5.2}\" for w1 in df.w1] # text to annotate points on scatter plot\n",
    "    return_list = df.ann_ret\n",
    "    vol_list = df.standard_dev\n",
    "    downside_list = df.downside_dev\n",
    "        \n",
    "    fig = plt.figure(figsize=fig_size)\n",
    "    ax1 = fig.add_subplot(111)\n",
    "    ax1.set_ylabel('annualized return')\n",
    "    ax1.set_xlabel('standard deviation')\n",
    "    \n",
    "    # If we are plotting 2 types of deviation, create another x axis, duplicating y-axis\n",
    "    if vol >= VOL_STANDARD | VOL_DOWNSIDE:\n",
    "        ax2 = ax1.twiny()\n",
    "        ax2.set_xlabel('downside deviation')\n",
    "    else:\n",
    "        ax2 = ax1\n",
    "        if vol & VOL_DOWNSIDE:\n",
    "            ax1.set_xlabel('downside deviation')\n",
    "            \n",
    "    # Plot return vs. volatility (one or more types of volatility)\n",
    "    if vol & VOL_STANDARD:\n",
    "        ax1.scatter(vol_list, return_list, marker=\"D\", c='b', label=\"standard deviation\")\n",
    "    if vol & VOL_DOWNSIDE:\n",
    "        ax2.scatter(downside_list, return_list, marker=\"s\", c='g', label=\"downside deviation\")\n",
    "        \n",
    "    # Title\n",
    "    start_date = date_range.start_date.strftime('%b %Y')\n",
    "    end_date = date_range.end_date.strftime('%b %Y')\n",
    "    fig.suptitle(f'{ret1.columns[0]}(1.0) --> {ret2.columns[0]}(0.0) - {start_date} to {end_date}')\n",
    "    \n",
    "    fig.legend()\n",
    "    \n",
    "    for txt, x1, x2, y in zip (w1_list, vol_list, downside_list, return_list):\n",
    "        if vol & VOL_STANDARD:\n",
    "            ax1.annotate(txt, (x1, y), fontsize=8)\n",
    "        if vol & VOL_DOWNSIDE:\n",
    "            ax2.annotate(txt, (x2, y), fontsize=8)"
   ]
  },
  {
   "cell_type": "markdown",
   "metadata": {},
   "source": [
    "Plot returns for various portfolio combinations of the pair versus the portfolio's **standard deviation**."
   ]
  },
  {
   "cell_type": "code",
   "execution_count": null,
   "metadata": {},
   "outputs": [
    {
     "data": {
      "image/png": "[encoded data removed]",
      "text/plain": [
       "<Figure size 1008x720 with 1 Axes>"
      ]
     },
     "metadata": {
      "needs_background": "light"
     },
     "output_type": "display_data"
    }
   ],
   "source": [
    "plot_bullet(gold, pf_6040, 20)"
   ]
  },
  {
   "cell_type": "markdown",
   "metadata": {},
   "source": [
    "Plot returns for various portfolio combinations of the pair versus the portfolio's **downside deviation**."
   ]
  },
  {
   "cell_type": "code",
   "execution_count": null,
   "metadata": {},
   "outputs": [
    {
     "data": {
      "image/png": "[encoded data removed]",
      "text/plain": [
       "<Figure size 1008x720 with 1 Axes>"
      ]
     },
     "metadata": {
      "needs_background": "light"
     },
     "output_type": "display_data"
    }
   ],
   "source": [
    "plot_bullet(gold, pf_6040, 20, vol=VOL_DOWNSIDE)"
   ]
  },
  {
   "cell_type": "markdown",
   "metadata": {},
   "source": [
    "Plot returns for various portfolio combinations of the pair versus the portfolios' **standard deviation AND downside deviation**."
   ]
  },
  {
   "cell_type": "code",
   "execution_count": null,
   "metadata": {},
   "outputs": [
    {
     "data": {
      "image/png": "[encoded data removed]",
      "text/plain": [
       "<Figure size 1008x720 with 2 Axes>"
      ]
     },
     "metadata": {
      "needs_background": "light"
     },
     "output_type": "display_data"
    }
   ],
   "source": [
    "plot_bullet(gold, pf_6040, 20, vol=VOL_STANDARD|VOL_DOWNSIDE)"
   ]
  },
  {
   "cell_type": "markdown",
   "metadata": {},
   "source": [
    "### Window Computations"
   ]
  },
  {
   "cell_type": "code",
   "execution_count": null,
   "metadata": {},
   "outputs": [],
   "source": [
    "#export\n",
    "\n",
    "def window_gen(datetime_index, window_len, window_step):\n",
    "    \"\"\"Create a sequence of (start_date, end_date) for a fixed-width rolling window.\n",
    "    \n",
    "    Args:\n",
    "     - datetime_index: iterable of dates that index some dataset (exptected to be at a fixed period, say weekly)\n",
    "     - window_len: size of the window, expressed in number of `datetime_index1 intervals\n",
    "     - window_step: number of periods to advance window on each iteration\n",
    "    \"\"\"\n",
    "    for start_ix in range(0, len(datetime_index) - window_len + 1, window_step):\n",
    "        yield(datetime_index[start_ix], datetime_index[start_ix + window_len - 1])"
   ]
  },
  {
   "cell_type": "markdown",
   "metadata": {},
   "source": [
    "An example call to the `window_gen` generator."
   ]
  },
  {
   "cell_type": "code",
   "execution_count": null,
   "metadata": {},
   "outputs": [
    {
     "data": {
      "text/plain": [
       "Index(['2012-01', '2012-02', '2012-03', '2012-04', '2012-05'], dtype='object')"
      ]
     },
     "execution_count": null,
     "metadata": {},
     "output_type": "execute_result"
    }
   ],
   "source": [
    "index1_list = ['2012-01', '2012-02', '2012-03', '2012-04', '2012-05' ]\n",
    "index1 = pd.DataFrame(index = index1_list).index\n",
    "index1"
   ]
  },
  {
   "cell_type": "markdown",
   "metadata": {},
   "source": [
    "Index length is 5; find the width 3 windows with stepsize 1"
   ]
  },
  {
   "cell_type": "code",
   "execution_count": null,
   "metadata": {},
   "outputs": [],
   "source": [
    "wg1 = window_gen(index1, 3, 1)\n",
    "assert list(wg1) == [('2012-01', '2012-03'), ('2012-02', '2012-04'), ('2012-03', '2012-05')]"
   ]
  },
  {
   "cell_type": "markdown",
   "metadata": {},
   "source": [
    "With stepsize two, there are only 2 width 3 windows."
   ]
  },
  {
   "cell_type": "code",
   "execution_count": null,
   "metadata": {},
   "outputs": [],
   "source": [
    "wg2 = window_gen(index1, 3, 2)\n",
    "assert list(wg2) == [('2012-01', '2012-03'), ('2012-03', '2012-05')]"
   ]
  },
  {
   "cell_type": "markdown",
   "metadata": {},
   "source": [
    "With window_len == window_step, windows are non-overlapping. Also notice here that when step size is not equal to 1, data at the end of the series will be excluded that does not constitute a full-width window."
   ]
  },
  {
   "cell_type": "code",
   "execution_count": null,
   "metadata": {},
   "outputs": [],
   "source": [
    "wg3 = window_gen(index1, 2, 2)\n",
    "assert list(wg3) == [('2012-01', '2012-02'), ('2012-03', '2012-04')]"
   ]
  },
  {
   "cell_type": "markdown",
   "metadata": {},
   "source": [
    "-------"
   ]
  },
  {
   "cell_type": "code",
   "execution_count": null,
   "metadata": {},
   "outputs": [],
   "source": [
    "#export\n",
    "\n",
    "def window_stats(return_series, window_len, window_step, stat_fns):\n",
    "    \"\"\"Compute statistics over a rolling window of the specified return series.\n",
    "    \n",
    "    Args:\n",
    "     - return_series: a sequence of period returns (.01 = 1% return), indexed by date\n",
    "     - window_len: length of window of return series to use for computation of stats, repeatedly\n",
    "     - window_step: number of periods to advance window on each iteration (`window_step` == `window_len`\n",
    "     => contiguous nonoverlapping windows)\n",
    "     - stat_fns: a sequence of functions, each accepts an iterable of period returns as its only arg\n",
    "     \n",
    "     Returns:\n",
    "      - A datframe whose columns are the outputs of `stat_fns`, applied to the window at each step, and \n",
    "      indexed by the date of the last period of the window at this step. The column order corresponds to the \n",
    "      order of stat_fns.\n",
    "    \"\"\"\n",
    "    date_list = []\n",
    "    stats_list = []\n",
    "    rs_len = return_series.shape[0]\n",
    "    \n",
    "    for start_date, end_date in window_gen(return_series.index, window_len, window_step):\n",
    "        window = return_series[start_date : end_date]\n",
    "        \n",
    "        # compute stats on this window\n",
    "        stats_list.append([fn(window) for fn in stat_fns])\n",
    "        \n",
    "        # date corresponding to value for the window is the last date included in the window\n",
    "        date_list.append(end_date)\n",
    "        \n",
    "    return pd.DataFrame(stats_list, index=date_list)"
   ]
  },
  {
   "cell_type": "markdown",
   "metadata": {},
   "source": [
    "Example usage of `window_stats()`. Compute stats on year long windows, every 3 months."
   ]
  },
  {
   "cell_type": "code",
   "execution_count": null,
   "metadata": {},
   "outputs": [],
   "source": [
    "from functools import partial"
   ]
  },
  {
   "cell_type": "code",
   "execution_count": null,
   "metadata": {},
   "outputs": [],
   "source": [
    "stat_fns = [partial(estats.annual_return, period='monthly'), partial(estats.annual_volatility, period='monthly')]\n",
    "df = window_stats(pf_6040.Pf_6040, 12, 3, stat_fns)"
   ]
  },
  {
   "cell_type": "code",
   "execution_count": null,
   "metadata": {},
   "outputs": [
    {
     "data": {
      "text/html": [
       "<div>\n",
       "<style scoped>\n",
       "    .dataframe tbody tr th:only-of-type {\n",
       "        vertical-align: middle;\n",
       "    }\n",
       "\n",
       "    .dataframe tbody tr th {\n",
       "        vertical-align: top;\n",
       "    }\n",
       "\n",
       "    .dataframe thead th {\n",
       "        text-align: right;\n",
       "    }\n",
       "</style>\n",
       "<table border=\"1\" class=\"dataframe\">\n",
       "  <thead>\n",
       "    <tr style=\"text-align: right;\">\n",
       "      <th></th>\n",
       "      <th>annual_return</th>\n",
       "      <th>annual_volatility</th>\n",
       "    </tr>\n",
       "  </thead>\n",
       "  <tbody>\n",
       "    <tr>\n",
       "      <th>2018-04-01</th>\n",
       "      <td>0.071596</td>\n",
       "      <td>0.053426</td>\n",
       "    </tr>\n",
       "    <tr>\n",
       "      <th>2018-07-01</th>\n",
       "      <td>0.088161</td>\n",
       "      <td>0.056362</td>\n",
       "    </tr>\n",
       "    <tr>\n",
       "      <th>2018-10-01</th>\n",
       "      <td>0.037995</td>\n",
       "      <td>0.074464</td>\n",
       "    </tr>\n",
       "    <tr>\n",
       "      <th>2019-01-01</th>\n",
       "      <td>-0.001307</td>\n",
       "      <td>0.100596</td>\n",
       "    </tr>\n",
       "    <tr>\n",
       "      <th>2019-04-01</th>\n",
       "      <td>0.100668</td>\n",
       "      <td>0.098406</td>\n",
       "    </tr>\n",
       "    <tr>\n",
       "      <th>2019-07-01</th>\n",
       "      <td>0.076751</td>\n",
       "      <td>0.109930</td>\n",
       "    </tr>\n",
       "    <tr>\n",
       "      <th>2019-10-01</th>\n",
       "      <td>0.122824</td>\n",
       "      <td>0.097511</td>\n",
       "    </tr>\n",
       "    <tr>\n",
       "      <th>2020-01-01</th>\n",
       "      <td>0.156083</td>\n",
       "      <td>0.059892</td>\n",
       "    </tr>\n",
       "    <tr>\n",
       "      <th>2020-04-01</th>\n",
       "      <td>0.049096</td>\n",
       "      <td>0.125988</td>\n",
       "    </tr>\n",
       "  </tbody>\n",
       "</table>\n",
       "</div>"
      ],
      "text/plain": [
       "            annual_return  annual_volatility\n",
       "2018-04-01       0.071596           0.053426\n",
       "2018-07-01       0.088161           0.056362\n",
       "2018-10-01       0.037995           0.074464\n",
       "2019-01-01      -0.001307           0.100596\n",
       "2019-04-01       0.100668           0.098406\n",
       "2019-07-01       0.076751           0.109930\n",
       "2019-10-01       0.122824           0.097511\n",
       "2020-01-01       0.156083           0.059892\n",
       "2020-04-01       0.049096           0.125988"
      ]
     },
     "execution_count": null,
     "metadata": {},
     "output_type": "execute_result"
    }
   ],
   "source": [
    "df.columns = ['annual_return', 'annual_volatility']\n",
    "df"
   ]
  },
  {
   "cell_type": "code",
   "execution_count": null,
   "metadata": {},
   "outputs": [
    {
     "data": {
      "text/plain": [
       "DatetimeIndex(['2019-07-01', '2019-08-01', '2019-09-01', '2019-10-01',\n",
       "               '2019-11-01', '2019-12-01', '2020-01-01', '2020-02-01',\n",
       "               '2020-03-01', '2020-04-01', '2020-05-01', '2020-06-01'],\n",
       "              dtype='datetime64[ns]', name='Date', freq=None)"
      ]
     },
     "execution_count": null,
     "metadata": {},
     "output_type": "execute_result"
    }
   ],
   "source": [
    "pf_6040.index[-12:]"
   ]
  },
  {
   "cell_type": "markdown",
   "metadata": {},
   "source": [
    "#### Dev scratch"
   ]
  },
  {
   "cell_type": "code",
   "execution_count": null,
   "metadata": {},
   "outputs": [
    {
     "data": {
      "text/plain": [
       "[('2017-05-01', '2018-04-01'),\n",
       " ('2017-08-01', '2018-07-01'),\n",
       " ('2017-11-01', '2018-10-01'),\n",
       " ('2018-02-01', '2019-01-01'),\n",
       " ('2018-05-01', '2019-04-01'),\n",
       " ('2018-08-01', '2019-07-01'),\n",
       " ('2018-11-01', '2019-10-01'),\n",
       " ('2019-02-01', '2020-01-01'),\n",
       " ('2019-05-01', '2020-04-01'),\n",
       " ('2019-08-01', '2017-05-01'),\n",
       " ('2019-11-01', '2017-08-01'),\n",
       " ('2020-02-01', '2017-11-01'),\n",
       " ('2020-05-01', '2018-02-01'),\n",
       " ('2017-06-01', '2018-05-01'),\n",
       " ('2017-09-01', '2018-08-01'),\n",
       " ('2017-12-01', '2018-11-01'),\n",
       " ('2018-03-01', '2019-02-01'),\n",
       " ('2018-06-01', '2019-05-01'),\n",
       " ('2018-09-01', '2019-08-01'),\n",
       " ('2018-12-01', '2019-11-01'),\n",
       " ('2019-03-01', '2020-02-01'),\n",
       " ('2019-06-01', '2020-05-01')]"
      ]
     },
     "execution_count": null,
     "metadata": {},
     "output_type": "execute_result"
    }
   ],
   "source": [
    "index_fail = ['2017-05-01', '2017-06-01', '2017-07-01', '2017-08-01',\n",
    "               '2017-09-01', '2017-10-01', '2017-11-01', '2017-12-01',\n",
    "               '2018-01-01', '2018-02-01', '2018-03-01', '2018-04-01',\n",
    "               '2018-05-01', '2018-06-01', '2018-07-01', '2018-08-01',\n",
    "               '2018-09-01', '2018-10-01', '2018-11-01', '2018-12-01',\n",
    "               '2019-01-01', '2019-02-01', '2019-03-01', '2019-04-01',\n",
    "               '2019-05-01', '2019-06-01', '2019-07-01', '2019-08-01',\n",
    "               '2019-09-01', '2019-10-01', '2019-11-01', '2019-12-01',\n",
    "               '2020-01-01', '2020-02-01', '2020-03-01', '2020-04-01',\n",
    "               '2020-05-01', '2020-06-01', '2017-05-01', '2017-06-01',\n",
    "               '2017-07-01', '2017-08-01', '2017-09-01', '2017-10-01',\n",
    "               '2017-11-01', '2017-12-01', '2018-01-01', '2018-02-01',\n",
    "               '2018-03-01', '2018-04-01', '2018-05-01', '2018-06-01',\n",
    "               '2018-07-01', '2018-08-01', '2018-09-01', '2018-10-01',\n",
    "               '2018-11-01', '2018-12-01', '2019-01-01', '2019-02-01',\n",
    "               '2019-03-01', '2019-04-01', '2019-05-01', '2019-06-01',\n",
    "               '2019-07-01', '2019-08-01', '2019-09-01', '2019-10-01',\n",
    "               '2019-11-01', '2019-12-01', '2020-01-01', '2020-02-01',\n",
    "               '2020-03-01', '2020-04-01', '2020-05-01', '2020-06-01']\n",
    "wg_fail = window_gen(index_fail, 12, 3)\n",
    "list(wg_fail)"
   ]
  },
  {
   "cell_type": "markdown",
   "metadata": {},
   "source": [
    "2017-05-01 00:00:00 2018-04-01 00:00:00\n",
    "2017-08-01 00:00:00 2018-07-01 00:00:00\n",
    "2017-11-01 00:00:00 2018-10-01 00:00:00\n",
    "2018-02-01 00:00:00 2019-01-01 00:00:00\n",
    "2018-05-01 00:00:00 2019-04-01 00:00:00\n",
    "2018-08-01 00:00:00 2019-07-01 00:00:00\n",
    "2018-11-01 00:00:00 2019-10-01 00:00:00\n",
    "2019-02-01 00:00:00 2020-01-01 00:00:00\n",
    "2019-05-01 00:00:00 2020-04-01 00:00:00\n",
    "2019-08-01 00:00:00 2017-05-01 00:00:00"
   ]
  },
  {
   "cell_type": "code",
   "execution_count": null,
   "metadata": {},
   "outputs": [
    {
     "data": {
      "text/plain": [
       "38"
      ]
     },
     "execution_count": null,
     "metadata": {},
     "output_type": "execute_result"
    }
   ],
   "source": [
    "period='monthly'\n",
    "window_len=12\n",
    "window_step=3\n",
    "return_series = pf_6040.Pf_6040\n",
    "rs_len = return_series.shape[0]\n",
    "rs_len"
   ]
  },
  {
   "cell_type": "markdown",
   "metadata": {},
   "source": [
    "Final index of the window is chosen so that there are `window` more values remaining. If window_step is > 1, this can mean that some values at the end are not used."
   ]
  },
  {
   "cell_type": "code",
   "execution_count": null,
   "metadata": {},
   "outputs": [
    {
     "data": {
      "text/plain": [
       "[0, 3, 6, 9, 12, 15, 18, 21, 24]"
      ]
     },
     "execution_count": null,
     "metadata": {},
     "output_type": "execute_result"
    }
   ],
   "source": [
    "list(range(0, rs_len - window_len, window_step))"
   ]
  },
  {
   "cell_type": "code",
   "execution_count": null,
   "metadata": {},
   "outputs": [
    {
     "name": "stdout",
     "output_type": "stream",
     "text": [
      "[0.07159592315354191, 0.08816056895858226, 0.03799535104134821, -0.001307454275117359, 0.10066832877977916, 0.07675104136527655, 0.12282406820585123, 0.15608320260741881, 0.0490961861831114]\n",
      "[datetime.date(2018, 4, 1), datetime.date(2018, 7, 1), datetime.date(2018, 10, 1), datetime.date(2019, 1, 1), datetime.date(2019, 4, 1), datetime.date(2019, 7, 1), datetime.date(2019, 10, 1), datetime.date(2020, 1, 1), datetime.date(2020, 4, 1)]\n"
     ]
    }
   ],
   "source": [
    "return_list = []\n",
    "vol_list = []\n",
    "date_list = []\n",
    "for start_ix in range(0, rs_len - window_len, window_step):\n",
    "    window = return_series.iloc[start_ix : start_ix + window_len]\n",
    "    return_list.append(estats.annual_return(window.values, period=period))\n",
    "    vol_list.append(estats.annual_volatility(window.values, period=period))\n",
    "    # date corresponding to value for the window is the last date included in the window\n",
    "    date_list.append(return_series.index[start_ix + window_len - 1].date())\n",
    "    \n",
    "print(return_list)\n",
    "print(date_list)"
   ]
  },
  {
   "cell_type": "markdown",
   "metadata": {},
   "source": [
    "Note that the first date in `date_list` aligns with the last row in the first window:"
   ]
  },
  {
   "cell_type": "code",
   "execution_count": null,
   "metadata": {},
   "outputs": [
    {
     "data": {
      "text/plain": [
       "Date\n",
       "2017-05-01    0.010199\n",
       "2017-06-01   -0.000358\n",
       "2017-07-01    0.016895\n",
       "2017-08-01    0.004765\n",
       "2017-09-01    0.005867\n",
       "2017-10-01    0.016573\n",
       "2017-11-01    0.017876\n",
       "2017-12-01    0.002655\n",
       "2018-01-01    0.033965\n",
       "2018-02-01   -0.023838\n",
       "2018-03-01   -0.016067\n",
       "2018-04-01    0.002121\n",
       "Name: Pf_6040, dtype: float64"
      ]
     },
     "execution_count": null,
     "metadata": {},
     "output_type": "execute_result"
    }
   ],
   "source": [
    "return_series.iloc[:12]"
   ]
  },
  {
   "cell_type": "code",
   "execution_count": null,
   "metadata": {},
   "outputs": [
    {
     "data": {
      "text/plain": [
       "Date\n",
       "2017-05-01    0.010199\n",
       "2017-06-01   -0.000358\n",
       "2017-07-01    0.016895\n",
       "Name: Pf_6040, dtype: float64"
      ]
     },
     "execution_count": null,
     "metadata": {},
     "output_type": "execute_result"
    }
   ],
   "source": [
    "return_series.loc['2017-05-01':'2017-07-01']"
   ]
  },
  {
   "cell_type": "code",
   "execution_count": null,
   "metadata": {},
   "outputs": [],
   "source": [
    "return_series.loc['2017-05-01']"
   ]
  },
  {
   "cell_type": "code",
   "execution_count": null,
   "metadata": {},
   "outputs": [
    {
     "data": {
      "text/plain": [
       "<matplotlib.collections.PathCollection at 0x1c067d248c8>"
      ]
     },
     "execution_count": null,
     "metadata": {},
     "output_type": "execute_result"
    },
    {
     "data": {
      "image/png": "[encoded data removed]",
      "text/plain": [
       "<Figure size 720x432 with 1 Axes>"
      ]
     },
     "metadata": {
      "needs_background": "light"
     },
     "output_type": "display_data"
    }
   ],
   "source": [
    "fig = plt.figure(figsize=(10,6))\n",
    "ax1 = fig.add_subplot(111)\n",
    "plt.plot(date_list, return_list);\n",
    "plt.scatter(date_list, vol_list, marker=\"s\", c='g')"
   ]
  },
  {
   "cell_type": "markdown",
   "metadata": {},
   "source": [
    "## Optimal Asset Combo Window Computations"
   ]
  },
  {
   "cell_type": "code",
   "execution_count": null,
   "metadata": {},
   "outputs": [],
   "source": [
    "#export\n",
    "def rolling_optimal_combo_stats(ret1, ret2, window_len, window_step, nsteps=20, period='monthly', rebal_period=3):\n",
    "    \"\"\"Find the optimal (volatility-minimizing) combination of two return series over a rolling window.\n",
    "    \n",
    "    Args:\n",
    "     - ret1: a sequence of period returns (.01 = 1% return), indexed by date\n",
    "     - ret2: a sequence of period returns (.01 = 1% return), indexed by date\n",
    "     - window_len: length of window of return series to use for computation of stats, repeatedly\n",
    "     - window_step: number of periods to advance window on each iteration (`window_step` == `window_len`\n",
    "     => contiguous nonoverlapping windows)\n",
    "     - nsteps: divide toe [0.0, 1.0] interval into this many steps in the search for the min vol combination\n",
    "     - period: return interval in `ret1`, `ret2`: {'daily', 'weekly', 'monthly'}\n",
    "     - rebal_period: interval for rebalancing the allocation; expressed as number of periods of type `period`\n",
    "    \n",
    "    Return:\n",
    "     - DataFrame containing portfolio performance stats for the optimal portfolio over each window.\n",
    "    \"\"\"\n",
    "    # find the inner-joined indices of the two return series\n",
    "    joined_index = pd.concat([ret1, ret2], axis=1, join='inner').index\n",
    "    \n",
    "    #print(joined_index)\n",
    "    \n",
    "    data = []\n",
    "    dates = []\n",
    "    for start_date, end_date in window_gen(joined_index, window_len, window_step):\n",
    "        print(start_date, end_date)\n",
    "        df, _ = ret_vol_combos(ret1[start_date:end_date], ret2[start_date:end_date], nsteps, period, rebal_period)\n",
    "        \n",
    "        # pick \"optimal\" portfolio -- choose one with minimum volatility (could use std or downside)\n",
    "        # index of row with lowest value for downside_dev\n",
    "        best_row_idx = sorted(enumerate(df.downside_dev), key=lambda x: x[1])[0][0]\n",
    "        \n",
    "        data.append(df.iloc[best_row_idx])\n",
    "        dates.append(end_date)\n",
    "        \n",
    "    return pd.DataFrame(data, index=dates)"
   ]
  },
  {
   "cell_type": "code",
   "execution_count": null,
   "metadata": {},
   "outputs": [
    {
     "name": "stdout",
     "output_type": "stream",
     "text": [
      "2017-05-01 00:00:00 2018-04-01 00:00:00\n",
      "2017-08-01 00:00:00 2018-07-01 00:00:00\n",
      "2017-11-01 00:00:00 2018-10-01 00:00:00\n",
      "2018-02-01 00:00:00 2019-01-01 00:00:00\n",
      "2018-05-01 00:00:00 2019-04-01 00:00:00\n",
      "2018-08-01 00:00:00 2019-07-01 00:00:00\n",
      "2018-11-01 00:00:00 2019-10-01 00:00:00\n",
      "2019-02-01 00:00:00 2020-01-01 00:00:00\n",
      "2019-05-01 00:00:00 2020-04-01 00:00:00\n"
     ]
    },
    {
     "data": {
      "text/html": [
       "<div>\n",
       "<style scoped>\n",
       "    .dataframe tbody tr th:only-of-type {\n",
       "        vertical-align: middle;\n",
       "    }\n",
       "\n",
       "    .dataframe tbody tr th {\n",
       "        vertical-align: top;\n",
       "    }\n",
       "\n",
       "    .dataframe thead th {\n",
       "        text-align: right;\n",
       "    }\n",
       "</style>\n",
       "<table border=\"1\" class=\"dataframe\">\n",
       "  <thead>\n",
       "    <tr style=\"text-align: right;\">\n",
       "      <th></th>\n",
       "      <th>w1</th>\n",
       "      <th>ann_ret</th>\n",
       "      <th>standard_dev</th>\n",
       "      <th>downside_dev</th>\n",
       "    </tr>\n",
       "  </thead>\n",
       "  <tbody>\n",
       "    <tr>\n",
       "      <th>2018-04-01</th>\n",
       "      <td>0.25</td>\n",
       "      <td>0.061628</td>\n",
       "      <td>0.051864</td>\n",
       "      <td>0.026310</td>\n",
       "    </tr>\n",
       "    <tr>\n",
       "      <th>2018-07-01</th>\n",
       "      <td>0.20</td>\n",
       "      <td>0.062506</td>\n",
       "      <td>0.051739</td>\n",
       "      <td>0.026849</td>\n",
       "    </tr>\n",
       "    <tr>\n",
       "      <th>2018-10-01</th>\n",
       "      <td>0.50</td>\n",
       "      <td>-0.003109</td>\n",
       "      <td>0.050251</td>\n",
       "      <td>0.030846</td>\n",
       "    </tr>\n",
       "    <tr>\n",
       "      <th>2019-01-01</th>\n",
       "      <td>0.50</td>\n",
       "      <td>-0.009917</td>\n",
       "      <td>0.054091</td>\n",
       "      <td>0.030850</td>\n",
       "    </tr>\n",
       "    <tr>\n",
       "      <th>2019-04-01</th>\n",
       "      <td>0.50</td>\n",
       "      <td>0.037989</td>\n",
       "      <td>0.048794</td>\n",
       "      <td>0.020418</td>\n",
       "    </tr>\n",
       "  </tbody>\n",
       "</table>\n",
       "</div>"
      ],
      "text/plain": [
       "              w1   ann_ret  standard_dev  downside_dev\n",
       "2018-04-01  0.25  0.061628      0.051864      0.026310\n",
       "2018-07-01  0.20  0.062506      0.051739      0.026849\n",
       "2018-10-01  0.50 -0.003109      0.050251      0.030846\n",
       "2019-01-01  0.50 -0.009917      0.054091      0.030850\n",
       "2019-04-01  0.50  0.037989      0.048794      0.020418"
      ]
     },
     "execution_count": null,
     "metadata": {},
     "output_type": "execute_result"
    }
   ],
   "source": [
    "# example\n",
    "optimal_stats = rolling_optimal_combo_stats(gold, pf_6040, 12, 3)\n",
    "optimal_stats.head()"
   ]
  },
  {
   "cell_type": "code",
   "execution_count": null,
   "metadata": {},
   "outputs": [
    {
     "data": {
      "text/html": [
       "<div>\n",
       "<style scoped>\n",
       "    .dataframe tbody tr th:only-of-type {\n",
       "        vertical-align: middle;\n",
       "    }\n",
       "\n",
       "    .dataframe tbody tr th {\n",
       "        vertical-align: top;\n",
       "    }\n",
       "\n",
       "    .dataframe thead th {\n",
       "        text-align: right;\n",
       "    }\n",
       "</style>\n",
       "<table border=\"1\" class=\"dataframe\">\n",
       "  <thead>\n",
       "    <tr style=\"text-align: right;\">\n",
       "      <th></th>\n",
       "      <th>w1</th>\n",
       "      <th>ann_ret</th>\n",
       "      <th>standard_dev</th>\n",
       "      <th>downside_dev</th>\n",
       "    </tr>\n",
       "  </thead>\n",
       "  <tbody>\n",
       "    <tr>\n",
       "      <th>2019-04-01</th>\n",
       "      <td>0.5</td>\n",
       "      <td>0.037989</td>\n",
       "      <td>0.048794</td>\n",
       "      <td>0.020418</td>\n",
       "    </tr>\n",
       "    <tr>\n",
       "      <th>2019-07-01</th>\n",
       "      <td>0.6</td>\n",
       "      <td>0.121595</td>\n",
       "      <td>0.072490</td>\n",
       "      <td>0.008260</td>\n",
       "    </tr>\n",
       "    <tr>\n",
       "      <th>2019-10-01</th>\n",
       "      <td>0.5</td>\n",
       "      <td>0.181368</td>\n",
       "      <td>0.076936</td>\n",
       "      <td>0.016057</td>\n",
       "    </tr>\n",
       "    <tr>\n",
       "      <th>2020-01-01</th>\n",
       "      <td>0.4</td>\n",
       "      <td>0.174450</td>\n",
       "      <td>0.066432</td>\n",
       "      <td>0.015652</td>\n",
       "    </tr>\n",
       "    <tr>\n",
       "      <th>2020-04-01</th>\n",
       "      <td>0.7</td>\n",
       "      <td>0.227943</td>\n",
       "      <td>0.120308</td>\n",
       "      <td>0.038281</td>\n",
       "    </tr>\n",
       "  </tbody>\n",
       "</table>\n",
       "</div>"
      ],
      "text/plain": [
       "             w1   ann_ret  standard_dev  downside_dev\n",
       "2019-04-01  0.5  0.037989      0.048794      0.020418\n",
       "2019-07-01  0.6  0.121595      0.072490      0.008260\n",
       "2019-10-01  0.5  0.181368      0.076936      0.016057\n",
       "2020-01-01  0.4  0.174450      0.066432      0.015652\n",
       "2020-04-01  0.7  0.227943      0.120308      0.038281"
      ]
     },
     "execution_count": null,
     "metadata": {},
     "output_type": "execute_result"
    }
   ],
   "source": [
    "optimal_stats.tail()"
   ]
  },
  {
   "cell_type": "markdown",
   "metadata": {},
   "source": [
    "### Dev Scratch"
   ]
  },
  {
   "cell_type": "code",
   "execution_count": null,
   "metadata": {},
   "outputs": [
    {
     "data": {
      "text/html": [
       "<div>\n",
       "<style scoped>\n",
       "    .dataframe tbody tr th:only-of-type {\n",
       "        vertical-align: middle;\n",
       "    }\n",
       "\n",
       "    .dataframe tbody tr th {\n",
       "        vertical-align: top;\n",
       "    }\n",
       "\n",
       "    .dataframe thead th {\n",
       "        text-align: right;\n",
       "    }\n",
       "</style>\n",
       "<table border=\"1\" class=\"dataframe\">\n",
       "  <thead>\n",
       "    <tr style=\"text-align: right;\">\n",
       "      <th></th>\n",
       "      <th>w1</th>\n",
       "      <th>ann_ret</th>\n",
       "      <th>standard_dev</th>\n",
       "      <th>downside_dev</th>\n",
       "    </tr>\n",
       "  </thead>\n",
       "  <tbody>\n",
       "    <tr>\n",
       "      <th>0</th>\n",
       "      <td>1.0</td>\n",
       "      <td>0.082506</td>\n",
       "      <td>0.093022</td>\n",
       "      <td>0.060488</td>\n",
       "    </tr>\n",
       "    <tr>\n",
       "      <th>1</th>\n",
       "      <td>0.9</td>\n",
       "      <td>0.085765</td>\n",
       "      <td>0.086408</td>\n",
       "      <td>0.052984</td>\n",
       "    </tr>\n",
       "    <tr>\n",
       "      <th>2</th>\n",
       "      <td>0.8</td>\n",
       "      <td>0.088882</td>\n",
       "      <td>0.081268</td>\n",
       "      <td>0.045876</td>\n",
       "    </tr>\n",
       "    <tr>\n",
       "      <th>3</th>\n",
       "      <td>0.7</td>\n",
       "      <td>0.091856</td>\n",
       "      <td>0.077895</td>\n",
       "      <td>0.039586</td>\n",
       "    </tr>\n",
       "    <tr>\n",
       "      <th>4</th>\n",
       "      <td>0.6</td>\n",
       "      <td>0.094685</td>\n",
       "      <td>0.076527</td>\n",
       "      <td>0.034601</td>\n",
       "    </tr>\n",
       "  </tbody>\n",
       "</table>\n",
       "</div>"
      ],
      "text/plain": [
       "    w1   ann_ret  standard_dev  downside_dev\n",
       "0  1.0  0.082506      0.093022      0.060488\n",
       "1  0.9  0.085765      0.086408      0.052984\n",
       "2  0.8  0.088882      0.081268      0.045876\n",
       "3  0.7  0.091856      0.077895      0.039586\n",
       "4  0.6  0.094685      0.076527      0.034601"
      ]
     },
     "execution_count": null,
     "metadata": {},
     "output_type": "execute_result"
    }
   ],
   "source": [
    "df, date_range = ret_vol_combos(pf_6040, gold, 10)\n",
    "df.head()"
   ]
  },
  {
   "cell_type": "code",
   "execution_count": null,
   "metadata": {},
   "outputs": [
    {
     "data": {
      "text/plain": [
       "w1              0.600000\n",
       "ann_ret         0.094685\n",
       "standard_dev    0.076527\n",
       "downside_dev    0.034601\n",
       "Name: 4, dtype: float64"
      ]
     },
     "execution_count": null,
     "metadata": {},
     "output_type": "execute_result"
    }
   ],
   "source": [
    "row4 = df.iloc[4]\n",
    "row4"
   ]
  },
  {
   "cell_type": "code",
   "execution_count": null,
   "metadata": {},
   "outputs": [
    {
     "data": {
      "text/plain": [
       "array([0.6       , 0.09468505, 0.07652684, 0.03460073])"
      ]
     },
     "execution_count": null,
     "metadata": {},
     "output_type": "execute_result"
    }
   ],
   "source": [
    "row4.values"
   ]
  },
  {
   "cell_type": "code",
   "execution_count": null,
   "metadata": {},
   "outputs": [],
   "source": [
    "data = [df.iloc[4], df.iloc[3]]"
   ]
  },
  {
   "cell_type": "code",
   "execution_count": null,
   "metadata": {},
   "outputs": [
    {
     "data": {
      "text/html": [
       "<div>\n",
       "<style scoped>\n",
       "    .dataframe tbody tr th:only-of-type {\n",
       "        vertical-align: middle;\n",
       "    }\n",
       "\n",
       "    .dataframe tbody tr th {\n",
       "        vertical-align: top;\n",
       "    }\n",
       "\n",
       "    .dataframe thead th {\n",
       "        text-align: right;\n",
       "    }\n",
       "</style>\n",
       "<table border=\"1\" class=\"dataframe\">\n",
       "  <thead>\n",
       "    <tr style=\"text-align: right;\">\n",
       "      <th></th>\n",
       "      <th>w1</th>\n",
       "      <th>ann_ret</th>\n",
       "      <th>standard_dev</th>\n",
       "      <th>downside_dev</th>\n",
       "    </tr>\n",
       "  </thead>\n",
       "  <tbody>\n",
       "    <tr>\n",
       "      <th>4</th>\n",
       "      <td>0.6</td>\n",
       "      <td>0.094685</td>\n",
       "      <td>0.076527</td>\n",
       "      <td>0.034601</td>\n",
       "    </tr>\n",
       "    <tr>\n",
       "      <th>3</th>\n",
       "      <td>0.7</td>\n",
       "      <td>0.091856</td>\n",
       "      <td>0.077895</td>\n",
       "      <td>0.039586</td>\n",
       "    </tr>\n",
       "  </tbody>\n",
       "</table>\n",
       "</div>"
      ],
      "text/plain": [
       "    w1   ann_ret  standard_dev  downside_dev\n",
       "4  0.6  0.094685      0.076527      0.034601\n",
       "3  0.7  0.091856      0.077895      0.039586"
      ]
     },
     "execution_count": null,
     "metadata": {},
     "output_type": "execute_result"
    }
   ],
   "source": [
    "pd.DataFrame(data)"
   ]
  },
  {
   "cell_type": "code",
   "execution_count": null,
   "metadata": {},
   "outputs": [
    {
     "data": {
      "text/plain": [
       "pandas.core.series.Series"
      ]
     },
     "execution_count": null,
     "metadata": {},
     "output_type": "execute_result"
    }
   ],
   "source": [
    "type(df.iloc[4])"
   ]
  },
  {
   "cell_type": "code",
   "execution_count": null,
   "metadata": {},
   "outputs": [
    {
     "data": {
      "text/plain": [
       "[(4, 0.0765268410551348),\n",
       " (5, 0.07727163751513509),\n",
       " (3, 0.0778954490381338),\n",
       " (6, 0.08007450604070476),\n",
       " (2, 0.08126796998024934),\n",
       " (7, 0.08473561500152263),\n",
       " (1, 0.08640819651660174),\n",
       " (8, 0.09097433905184177),\n",
       " (0, 0.09302248375269594),\n",
       " (9, 0.0984961928247948),\n",
       " (10, 0.10703604233004647)]"
      ]
     },
     "execution_count": null,
     "metadata": {},
     "output_type": "execute_result"
    }
   ],
   "source": [
    "sorted_sd = sorted(enumerate(df.standard_dev), key=lambda x: x[1])\n",
    "sorted_sd"
   ]
  },
  {
   "cell_type": "code",
   "execution_count": null,
   "metadata": {},
   "outputs": [
    {
     "data": {
      "text/plain": [
       "4"
      ]
     },
     "execution_count": null,
     "metadata": {},
     "output_type": "execute_result"
    }
   ],
   "source": [
    "sorted_sd[0][0]"
   ]
  },
  {
   "cell_type": "code",
   "execution_count": null,
   "metadata": {},
   "outputs": [],
   "source": []
  },
  {
   "cell_type": "code",
   "execution_count": null,
   "metadata": {},
   "outputs": [
    {
     "data": {
      "text/plain": [
       "[(0, 0.09302248375269594),\n",
       " (1, 0.08640819651660174),\n",
       " (2, 0.08126796998024934),\n",
       " (3, 0.0778954490381338),\n",
       " (4, 0.0765268410551348),\n",
       " (5, 0.07727163751513509),\n",
       " (6, 0.08007450604070476),\n",
       " (7, 0.08473561500152263),\n",
       " (8, 0.09097433905184177),\n",
       " (9, 0.0984961928247948),\n",
       " (10, 0.10703604233004647)]"
      ]
     },
     "execution_count": null,
     "metadata": {},
     "output_type": "execute_result"
    }
   ],
   "source": [
    "list(enumerate(df.standard_dev))"
   ]
  },
  {
   "cell_type": "markdown",
   "metadata": {},
   "source": [
    "# Notebook Export"
   ]
  },
  {
   "cell_type": "code",
   "execution_count": null,
   "metadata": {},
   "outputs": [
    {
     "name": "stdout",
     "output_type": "stream",
     "text": [
      "Converted 00_core.ipynb.\n",
      "Converted 01_Stats.ipynb.\n",
      "Converted index.ipynb.\n"
     ]
    }
   ],
   "source": [
    "#hide\n",
    "notebook2script()"
   ]
  }
 ],
 "metadata": {
  "kernelspec": {
   "display_name": "Python 3",
   "language": "python",
   "name": "python3"
  }
 },
 "nbformat": 4,
 "nbformat_minor": 4
}
