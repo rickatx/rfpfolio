{
 "cells": [
  {
   "cell_type": "code",
   "execution_count": null,
   "metadata": {},
   "outputs": [],
   "source": [
    "#default_exp core"
   ]
  },
  {
   "cell_type": "markdown",
   "metadata": {},
   "source": [
    "# rfpfolio\n",
    "\n",
    "> Create portfolios with rebalancing, and measure performance."
   ]
  },
  {
   "cell_type": "code",
   "execution_count": null,
   "metadata": {},
   "outputs": [],
   "source": [
    "#hide\n",
    "\n",
    "# Do this to see possible %nbdev_ magics\n",
    "from nbdev import *"
   ]
  },
  {
   "cell_type": "code",
   "execution_count": null,
   "metadata": {},
   "outputs": [],
   "source": [
    "#hide\n",
    "from nbdev.showdoc import *\n",
    "from fastcore.test import *"
   ]
  },
  {
   "cell_type": "markdown",
   "metadata": {},
   "source": [
    "## Load Price Data"
   ]
  },
  {
   "cell_type": "code",
   "execution_count": null,
   "metadata": {},
   "outputs": [],
   "source": [
    "%nbdev_export\n",
    "import pandas as pd\n",
    "import numpy as np\n",
    "import array\n",
    "import os.path"
   ]
  },
  {
   "cell_type": "code",
   "execution_count": null,
   "metadata": {},
   "outputs": [],
   "source": [
    "%nbdev_export\n",
    "class PriceSource:\n",
    "    \n",
    "    def __init__(self, data_root):\n",
    "        \"\"\"\n",
    "        Args:\n",
    "            data_root (str): Relative or absolute path to the root directory to load data from.\n",
    "            In the root should be one or more directories named 'weekly', 'monthly', etc.\n",
    "        \"\"\"\n",
    "        self.data_root = os.path.abspath(data_root)\n",
    "        \n",
    "    def __repr__(self):\n",
    "        return (self.__class__.__qualname__ + f\"(data_root={self.data_root})\")\n",
    "    \n",
    "    def loadAdjustedPrices(self, ticker, subdir='weekly'):\n",
    "        \"\"\"\n",
    "        Load data in to single column dataframe, indexed by date.\n",
    "        The column has the name of the ticker, and is the adjusted price.\n",
    "        Note: for Yahoo weekly data, the adj price is the adjusted closing price for the \n",
    "        week beginning on the specified date.\n",
    "        \n",
    "        Args:\n",
    "            ticker (str): Name of file to load, without '.csv' extension.\n",
    "            subdir (str): Subdir of data_root wherein to find file to load.\n",
    "            \n",
    "        Returns:\n",
    "            A dataframe with the specified data, indexed by date.\n",
    "        \"\"\"\n",
    "        csv_path =  os.path.join(self.data_root, subdir, f\"{ticker}.csv\")\n",
    "        prices = pd.read_csv(csv_path, parse_dates=[0])\n",
    "        prices = prices[['Date', 'Adj Close']]\n",
    "        prices.columns = ['Date', ticker]\n",
    "        return prices.set_index('Date')\n",
    "    \n",
    "    def loadAllAdjustedPrices(self, tik_list, subdir='weekly'):\n",
    "        \"\"\"\n",
    "        Load adjusted price data for all tickers to a dataframe, indexed by date.\n",
    "        Each column name is a ticker, and the column values are the sequence of adjusted prices.\n",
    "        \n",
    "        Returns:\n",
    "            A dataframe with the specified data, indexed by date.\n",
    "        \"\"\"\n",
    "        tik_dict = {tik:  self.loadAdjustedPrices(tik, subdir) for tik in tik_list}\n",
    "        return pd.concat([tik_dict[tik] for tik in tik_list], axis=1, join='inner')"
   ]
  },
  {
   "cell_type": "markdown",
   "metadata": {},
   "source": [
    "Here is an example of loading some weekly data:"
   ]
  },
  {
   "cell_type": "code",
   "execution_count": null,
   "metadata": {},
   "outputs": [],
   "source": [
    "tst_src = PriceSource('testdata/2017-Apr')"
   ]
  },
  {
   "cell_type": "code",
   "execution_count": null,
   "metadata": {},
   "outputs": [
    {
     "data": {
      "text/html": [
       "<div>\n",
       "<style scoped>\n",
       "    .dataframe tbody tr th:only-of-type {\n",
       "        vertical-align: middle;\n",
       "    }\n",
       "\n",
       "    .dataframe tbody tr th {\n",
       "        vertical-align: top;\n",
       "    }\n",
       "\n",
       "    .dataframe thead th {\n",
       "        text-align: right;\n",
       "    }\n",
       "</style>\n",
       "<table border=\"1\" class=\"dataframe\">\n",
       "  <thead>\n",
       "    <tr style=\"text-align: right;\">\n",
       "      <th></th>\n",
       "      <th>SPY</th>\n",
       "      <th>IEI</th>\n",
       "      <th>GLD</th>\n",
       "    </tr>\n",
       "    <tr>\n",
       "      <th>Date</th>\n",
       "      <th></th>\n",
       "      <th></th>\n",
       "      <th></th>\n",
       "    </tr>\n",
       "  </thead>\n",
       "  <tbody>\n",
       "    <tr>\n",
       "      <th>2017-04-03</th>\n",
       "      <td>220.896225</td>\n",
       "      <td>115.845558</td>\n",
       "      <td>119.459999</td>\n",
       "    </tr>\n",
       "    <tr>\n",
       "      <th>2017-04-10</th>\n",
       "      <td>218.369843</td>\n",
       "      <td>116.867851</td>\n",
       "      <td>122.599998</td>\n",
       "    </tr>\n",
       "    <tr>\n",
       "      <th>2017-04-17</th>\n",
       "      <td>220.323349</td>\n",
       "      <td>116.943314</td>\n",
       "      <td>122.309998</td>\n",
       "    </tr>\n",
       "    <tr>\n",
       "      <th>2017-04-24</th>\n",
       "      <td>223.601120</td>\n",
       "      <td>116.688652</td>\n",
       "      <td>120.769997</td>\n",
       "    </tr>\n",
       "    <tr>\n",
       "      <th>2017-05-01</th>\n",
       "      <td>225.122589</td>\n",
       "      <td>116.301956</td>\n",
       "      <td>117.010002</td>\n",
       "    </tr>\n",
       "  </tbody>\n",
       "</table>\n",
       "</div>"
      ],
      "text/plain": [
       "                   SPY         IEI         GLD\n",
       "Date                                          \n",
       "2017-04-03  220.896225  115.845558  119.459999\n",
       "2017-04-10  218.369843  116.867851  122.599998\n",
       "2017-04-17  220.323349  116.943314  122.309998\n",
       "2017-04-24  223.601120  116.688652  120.769997\n",
       "2017-05-01  225.122589  116.301956  117.010002"
      ]
     },
     "execution_count": null,
     "metadata": {},
     "output_type": "execute_result"
    }
   ],
   "source": [
    "price_data = tst_src.loadAllAdjustedPrices(['SPY', 'IEI', 'GLD'])\n",
    "price_data.head()"
   ]
  },
  {
   "cell_type": "code",
   "execution_count": null,
   "metadata": {},
   "outputs": [],
   "source": [
    "%nbdev_hide\n",
    "# top 5 rows of data\n",
    "spy_5 = price_data.loc[:'2017-05-01', 'SPY']\n",
    "test_close(list(spy_5), [220.896225, 218.369843, 220.323349, 223.60112, 225.122589])\n",
    "\n",
    "iei_5 = price_data.loc[:'2017-05-01', 'IEI']\n",
    "test_close(list(iei_5), [115.845558, 116.867851, 116.943314, 116.688652, 116.301956])\n",
    "\n",
    "gld_5 = price_data.loc[:'2017-05-01', 'GLD']\n",
    "test_close(list(gld_5), [119.459999, 122.599998, 122.309998, 120.769997, 117.010002])\n",
    "\n",
    "# last row of data\n",
    "last = price_data.iloc[-1:,:]\n",
    "# 2020-06-29 data for spy, iei, gld\n",
    "last.to_numpy()[0] = np.array([310.519989, 133.316208, 166.619995])"
   ]
  }
 ],
 "metadata": {
  "kernelspec": {
   "display_name": "Python 3",
   "language": "python",
   "name": "python3"
  }
 },
 "nbformat": 4,
 "nbformat_minor": 2
}
