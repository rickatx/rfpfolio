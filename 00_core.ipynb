{
 "cells": [
  {
   "cell_type": "code",
   "execution_count": null,
   "metadata": {},
   "outputs": [],
   "source": [
    "#default_exp core"
   ]
  },
  {
   "cell_type": "markdown",
   "metadata": {},
   "source": [
    "# rfpfolio\n",
    "\n",
    "> Create portfolios with rebalancing, and measure performance."
   ]
  },
  {
   "cell_type": "code",
   "execution_count": null,
   "metadata": {},
   "outputs": [],
   "source": [
    "#hide\n",
    "\n",
    "# Do this to see possible %nbdev_ magics\n",
    "from nbdev import *"
   ]
  },
  {
   "cell_type": "code",
   "execution_count": null,
   "metadata": {},
   "outputs": [],
   "source": [
    "#hide\n",
    "from nbdev.showdoc import *\n",
    "from fastcore.test import *"
   ]
  },
  {
   "cell_type": "markdown",
   "metadata": {},
   "source": [
    "## Load Price Data"
   ]
  },
  {
   "cell_type": "code",
   "execution_count": null,
   "metadata": {},
   "outputs": [],
   "source": [
    "%nbdev_export\n",
    "import pandas as pd\n",
    "import numpy as np\n",
    "import array\n",
    "import os.path"
   ]
  },
  {
   "cell_type": "code",
   "execution_count": null,
   "metadata": {},
   "outputs": [],
   "source": [
    "%nbdev_export\n",
    "class PriceSource:\n",
    "    \n",
    "    def __init__(self, data_root):\n",
    "        \"\"\"\n",
    "        Args:\n",
    "            data_root (str): Relative or absolute path to the root directory to load data from.\n",
    "            In the root should be one or more directories named 'weekly', 'monthly', etc.\n",
    "        \"\"\"\n",
    "        self.data_root = os.path.abspath(data_root)\n",
    "        \n",
    "    def __repr__(self):\n",
    "        return (self.__class__.__qualname__ + f\"(data_root={self.data_root})\")\n",
    "    \n",
    "    def loadAdjustedPrices(self, ticker, subdir='weekly'):\n",
    "        \"\"\"\n",
    "        Load data in to single column dataframe, indexed by date.\n",
    "        The column has the name of the ticker, and is the adjusted price.\n",
    "        Note: for Yahoo weekly data, the adj price is the adjusted closing price for the \n",
    "        week beginning on the specified date.\n",
    "        \n",
    "        Args:\n",
    "            ticker (str): Name of file to load, without '.csv' extension.\n",
    "            subdir (str): Subdir of data_root wherein to find file to load.\n",
    "            \n",
    "        Returns:\n",
    "            A dataframe with the specified data, indexed by date.\n",
    "        \"\"\"\n",
    "        csv_path =  os.path.join(self.data_root, subdir, f\"{ticker}.csv\")\n",
    "        prices = pd.read_csv(csv_path, parse_dates=[0])\n",
    "        prices = prices[['Date', 'Adj Close']]\n",
    "        prices.columns = ['Date', ticker]\n",
    "        return prices.set_index('Date')\n",
    "    \n",
    "    def loadAllAdjustedPrices(self, tik_list, subdir='weekly'):\n",
    "        \"\"\"\n",
    "        Load adjusted price data for all tickers to a dataframe, indexed by date.\n",
    "        Each column name is a ticker, and the column values are the sequence of adjusted prices.\n",
    "        \n",
    "        Returns:\n",
    "            A dataframe with the specified data, indexed by date.\n",
    "        \"\"\"\n",
    "        tik_dict = {tik:  self.loadAdjustedPrices(tik, subdir) for tik in tik_list}\n",
    "        return pd.concat([tik_dict[tik] for tik in tik_list], axis=1, join='inner')"
   ]
  },
  {
   "cell_type": "markdown",
   "metadata": {},
   "source": [
    "Here is an example of loading some weekly data:"
   ]
  },
  {
   "cell_type": "code",
   "execution_count": null,
   "metadata": {},
   "outputs": [],
   "source": [
    "tst_src = PriceSource('testdata/2017-Apr')"
   ]
  },
  {
   "cell_type": "code",
   "execution_count": null,
   "metadata": {},
   "outputs": [
    {
     "data": {
      "text/html": [
       "<div>\n",
       "<style scoped>\n",
       "    .dataframe tbody tr th:only-of-type {\n",
       "        vertical-align: middle;\n",
       "    }\n",
       "\n",
       "    .dataframe tbody tr th {\n",
       "        vertical-align: top;\n",
       "    }\n",
       "\n",
       "    .dataframe thead th {\n",
       "        text-align: right;\n",
       "    }\n",
       "</style>\n",
       "<table border=\"1\" class=\"dataframe\">\n",
       "  <thead>\n",
       "    <tr style=\"text-align: right;\">\n",
       "      <th></th>\n",
       "      <th>SPY</th>\n",
       "      <th>IEI</th>\n",
       "      <th>GLD</th>\n",
       "    </tr>\n",
       "    <tr>\n",
       "      <th>Date</th>\n",
       "      <th></th>\n",
       "      <th></th>\n",
       "      <th></th>\n",
       "    </tr>\n",
       "  </thead>\n",
       "  <tbody>\n",
       "    <tr>\n",
       "      <th>2017-04-03</th>\n",
       "      <td>220.896225</td>\n",
       "      <td>115.845558</td>\n",
       "      <td>119.459999</td>\n",
       "    </tr>\n",
       "    <tr>\n",
       "      <th>2017-04-10</th>\n",
       "      <td>218.369843</td>\n",
       "      <td>116.867851</td>\n",
       "      <td>122.599998</td>\n",
       "    </tr>\n",
       "    <tr>\n",
       "      <th>2017-04-17</th>\n",
       "      <td>220.323349</td>\n",
       "      <td>116.943314</td>\n",
       "      <td>122.309998</td>\n",
       "    </tr>\n",
       "    <tr>\n",
       "      <th>2017-04-24</th>\n",
       "      <td>223.601120</td>\n",
       "      <td>116.688652</td>\n",
       "      <td>120.769997</td>\n",
       "    </tr>\n",
       "    <tr>\n",
       "      <th>2017-05-01</th>\n",
       "      <td>225.122589</td>\n",
       "      <td>116.301956</td>\n",
       "      <td>117.010002</td>\n",
       "    </tr>\n",
       "  </tbody>\n",
       "</table>\n",
       "</div>"
      ],
      "text/plain": [
       "                   SPY         IEI         GLD\n",
       "Date                                          \n",
       "2017-04-03  220.896225  115.845558  119.459999\n",
       "2017-04-10  218.369843  116.867851  122.599998\n",
       "2017-04-17  220.323349  116.943314  122.309998\n",
       "2017-04-24  223.601120  116.688652  120.769997\n",
       "2017-05-01  225.122589  116.301956  117.010002"
      ]
     },
     "execution_count": null,
     "metadata": {},
     "output_type": "execute_result"
    }
   ],
   "source": [
    "price_data = tst_src.loadAllAdjustedPrices(['SPY', 'IEI', 'GLD'])\n",
    "price_data.head()"
   ]
  },
  {
   "cell_type": "code",
   "execution_count": null,
   "metadata": {},
   "outputs": [],
   "source": [
    "%nbdev_hide\n",
    "# top 5 rows of data\n",
    "spy_5 = price_data.loc[:'2017-05-01', 'SPY']\n",
    "test_close(list(spy_5), [220.896225, 218.369843, 220.323349, 223.60112, 225.122589])\n",
    "\n",
    "iei_5 = price_data.loc[:'2017-05-01', 'IEI']\n",
    "test_close(list(iei_5), [115.845558, 116.867851, 116.943314, 116.688652, 116.301956])\n",
    "\n",
    "gld_5 = price_data.loc[:'2017-05-01', 'GLD']\n",
    "test_close(list(gld_5), [119.459999, 122.599998, 122.309998, 120.769997, 117.010002])\n",
    "\n",
    "# last row of data\n",
    "last = price_data.iloc[-1:,:]\n",
    "# 2020-06-29 data for spy, iei, gld\n",
    "last.to_numpy()[0] = np.array([310.519989, 133.316208, 166.619995])"
   ]
  },
  {
   "cell_type": "markdown",
   "metadata": {},
   "source": [
    "## Compute Returns"
   ]
  },
  {
   "cell_type": "code",
   "execution_count": null,
   "metadata": {},
   "outputs": [],
   "source": [
    "%nbdev_export\n",
    "def period_returns_from_prices(tik_prices, wr=False):\n",
    "    \"\"\"\n",
    "    Given one or more sequences of prices, compute the returns over each adjacent pair of rows.\n",
    "    Returns a dataframe containing period returns with row count one less than `tik_prices`.\n",
    "    \n",
    "    Arguments:\n",
    "        tik_prices: DataFrame of ordered prices: ticker column names, rows indexed by date\n",
    "        wr: if true, returns are represented as wealth ratios (1.01 <=> 1% return), else as \n",
    "        fractional returns (0.01 <=> 1% return)\n",
    "    \"\"\"\n",
    "    prices = tik_prices.to_numpy()\n",
    "    # 1st row of ratios is 2nd row of prices divided by first, & so forth\n",
    "    ratios = prices[1:] / prices[:-1]\n",
    "    returns = ratios - 1\n",
    "    return pd.DataFrame(ratios if wr else returns, index=tik_prices.index[1:], columns=tik_prices.columns)"
   ]
  },
  {
   "cell_type": "markdown",
   "metadata": {},
   "source": [
    "Create some example data to demonstrate usage of `period_returns_from_prices()`:"
   ]
  },
  {
   "cell_type": "code",
   "execution_count": null,
   "metadata": {},
   "outputs": [
    {
     "data": {
      "text/html": [
       "<div>\n",
       "<style scoped>\n",
       "    .dataframe tbody tr th:only-of-type {\n",
       "        vertical-align: middle;\n",
       "    }\n",
       "\n",
       "    .dataframe tbody tr th {\n",
       "        vertical-align: top;\n",
       "    }\n",
       "\n",
       "    .dataframe thead th {\n",
       "        text-align: right;\n",
       "    }\n",
       "</style>\n",
       "<table border=\"1\" class=\"dataframe\">\n",
       "  <thead>\n",
       "    <tr style=\"text-align: right;\">\n",
       "      <th></th>\n",
       "      <th>A</th>\n",
       "      <th>B</th>\n",
       "    </tr>\n",
       "    <tr>\n",
       "      <th>Date</th>\n",
       "      <th></th>\n",
       "      <th></th>\n",
       "    </tr>\n",
       "  </thead>\n",
       "  <tbody>\n",
       "    <tr>\n",
       "      <th>2017-05-01</th>\n",
       "      <td>1.00</td>\n",
       "      <td>1.00</td>\n",
       "    </tr>\n",
       "    <tr>\n",
       "      <th>2017-05-08</th>\n",
       "      <td>1.01</td>\n",
       "      <td>1.02</td>\n",
       "    </tr>\n",
       "    <tr>\n",
       "      <th>2017-05-15</th>\n",
       "      <td>1.00</td>\n",
       "      <td>1.10</td>\n",
       "    </tr>\n",
       "  </tbody>\n",
       "</table>\n",
       "</div>"
      ],
      "text/plain": [
       "               A     B\n",
       "Date                  \n",
       "2017-05-01  1.00  1.00\n",
       "2017-05-08  1.01  1.02\n",
       "2017-05-15  1.00  1.10"
      ]
     },
     "execution_count": null,
     "metadata": {},
     "output_type": "execute_result"
    }
   ],
   "source": [
    "# An easy way to get a datetime index\n",
    "spy_wk = tst_src.loadAdjustedPrices('SPY')\n",
    "\n",
    "# These values are ajdusted prices\n",
    "xmpl_data = pd.DataFrame({'A': [1.0, 1.01, 1.0],\n",
    "                          'B': [1.0, 1.02, 1.1]},\n",
    "                         index = spy_wk.index[4:7])\n",
    "xmpl_data"
   ]
  },
  {
   "cell_type": "markdown",
   "metadata": {},
   "source": [
    "Compute period returns."
   ]
  },
  {
   "cell_type": "code",
   "execution_count": null,
   "metadata": {},
   "outputs": [
    {
     "data": {
      "text/html": [
       "<div>\n",
       "<style scoped>\n",
       "    .dataframe tbody tr th:only-of-type {\n",
       "        vertical-align: middle;\n",
       "    }\n",
       "\n",
       "    .dataframe tbody tr th {\n",
       "        vertical-align: top;\n",
       "    }\n",
       "\n",
       "    .dataframe thead th {\n",
       "        text-align: right;\n",
       "    }\n",
       "</style>\n",
       "<table border=\"1\" class=\"dataframe\">\n",
       "  <thead>\n",
       "    <tr style=\"text-align: right;\">\n",
       "      <th></th>\n",
       "      <th>A</th>\n",
       "      <th>B</th>\n",
       "    </tr>\n",
       "    <tr>\n",
       "      <th>Date</th>\n",
       "      <th></th>\n",
       "      <th></th>\n",
       "    </tr>\n",
       "  </thead>\n",
       "  <tbody>\n",
       "    <tr>\n",
       "      <th>2017-05-08</th>\n",
       "      <td>0.010000</td>\n",
       "      <td>0.020000</td>\n",
       "    </tr>\n",
       "    <tr>\n",
       "      <th>2017-05-15</th>\n",
       "      <td>-0.009901</td>\n",
       "      <td>0.078431</td>\n",
       "    </tr>\n",
       "  </tbody>\n",
       "</table>\n",
       "</div>"
      ],
      "text/plain": [
       "                   A         B\n",
       "Date                          \n",
       "2017-05-08  0.010000  0.020000\n",
       "2017-05-15 -0.009901  0.078431"
      ]
     },
     "execution_count": null,
     "metadata": {},
     "output_type": "execute_result"
    }
   ],
   "source": [
    "per_rets = period_returns_from_prices(xmpl_data)\n",
    "per_rets"
   ]
  },
  {
   "cell_type": "markdown",
   "metadata": {},
   "source": [
    "Compute period returns as wealth ratios."
   ]
  },
  {
   "cell_type": "code",
   "execution_count": null,
   "metadata": {},
   "outputs": [
    {
     "data": {
      "text/html": [
       "<div>\n",
       "<style scoped>\n",
       "    .dataframe tbody tr th:only-of-type {\n",
       "        vertical-align: middle;\n",
       "    }\n",
       "\n",
       "    .dataframe tbody tr th {\n",
       "        vertical-align: top;\n",
       "    }\n",
       "\n",
       "    .dataframe thead th {\n",
       "        text-align: right;\n",
       "    }\n",
       "</style>\n",
       "<table border=\"1\" class=\"dataframe\">\n",
       "  <thead>\n",
       "    <tr style=\"text-align: right;\">\n",
       "      <th></th>\n",
       "      <th>A</th>\n",
       "      <th>B</th>\n",
       "    </tr>\n",
       "    <tr>\n",
       "      <th>Date</th>\n",
       "      <th></th>\n",
       "      <th></th>\n",
       "    </tr>\n",
       "  </thead>\n",
       "  <tbody>\n",
       "    <tr>\n",
       "      <th>2017-05-08</th>\n",
       "      <td>1.010000</td>\n",
       "      <td>1.020000</td>\n",
       "    </tr>\n",
       "    <tr>\n",
       "      <th>2017-05-15</th>\n",
       "      <td>0.990099</td>\n",
       "      <td>1.078431</td>\n",
       "    </tr>\n",
       "  </tbody>\n",
       "</table>\n",
       "</div>"
      ],
      "text/plain": [
       "                   A         B\n",
       "Date                          \n",
       "2017-05-08  1.010000  1.020000\n",
       "2017-05-15  0.990099  1.078431"
      ]
     },
     "execution_count": null,
     "metadata": {},
     "output_type": "execute_result"
    }
   ],
   "source": [
    "per_rets_wr = period_returns_from_prices(xmpl_data, wr=True)\n",
    "per_rets_wr"
   ]
  },
  {
   "cell_type": "code",
   "execution_count": null,
   "metadata": {},
   "outputs": [],
   "source": [
    "%nbdev_hide\n",
    "\n",
    "# Automated Tests\n",
    "\n",
    "# period returns\n",
    "res1 = period_returns_from_prices(xmpl_data)\n",
    "test_eq(res1.iloc[0, 0], 1.01 / 1.0 - 1)\n",
    "test_eq(res1.iloc[1, 0], 1.00 / 1.01 - 1)\n",
    "test_eq(res1.iloc[0, 1], 1.02 / 1.0 - 1)\n",
    "test_eq(res1.iloc[1, 1], 1.1 / 1.02 - 1)\n",
    "\n",
    "# wealth ratios\n",
    "res1 = period_returns_from_prices(xmpl_data, wr=True)\n",
    "test_eq(res1.iloc[0, 0], 1.01 / 1.0)\n",
    "test_eq(res1.iloc[1, 0], 1.00 / 1.01)\n",
    "test_eq(res1.iloc[0, 1], 1.02 / 1.0)\n",
    "test_eq(res1.iloc[1, 1], 1.1 / 1.02)"
   ]
  },
  {
   "cell_type": "markdown",
   "metadata": {},
   "source": [
    "**Internal use: for portfolio returns:**"
   ]
  },
  {
   "cell_type": "code",
   "execution_count": null,
   "metadata": {},
   "outputs": [],
   "source": [
    "%nbdev_export_internal\n",
    "\n",
    "def cum_wr_to_period_returns(cum_wr_ar, use_log = False):\n",
    "    \"\"\"\n",
    "    Convert 1D array of cumulative wealth ratios to period fractional returns (0.01 = 1% return)\n",
    "    The first element of `cum_wr_ar` is the wealth ratio for the corresponding period. (e.g., the first\n",
    "    element will be 1.01 if the corresponding period return is 1%.)\n",
    "    \n",
    "    Cumulative wealth ratios are used in the computation of rebalanced portfolio returns; use this \n",
    "    to convert from portfolio cum wr to portfolio period returns.\n",
    "    \n",
    "    Arguments:\n",
    "        cum_wr_ar: numpy array - dim 0 is time\n",
    "        \n",
    "    Return: \n",
    "        numpy array of period returns\n",
    "    \"\"\"\n",
    "    # add initial 1 so the ratio of `cum_wr_ar` offset by one with itself will be period returns\n",
    "    row1 = np.array([1.0])\n",
    "    ar_plus = np.concatenate([row1, cum_wr_ar], 0)\n",
    "    \n",
    "    if use_log:\n",
    "        return np.exp(np.log(ar_plus[1:]) - np.log(ar_plus[:-1])) - 1\n",
    "    else:\n",
    "        return ar_plus[1:] / ar_plus[:-1] - 1"
   ]
  },
  {
   "cell_type": "markdown",
   "metadata": {},
   "source": [
    "    Example data to show usage of `cum_wr_to_period_returns()`"
   ]
  },
  {
   "cell_type": "code",
   "execution_count": null,
   "metadata": {},
   "outputs": [
    {
     "data": {
      "text/html": [
       "<div>\n",
       "<style scoped>\n",
       "    .dataframe tbody tr th:only-of-type {\n",
       "        vertical-align: middle;\n",
       "    }\n",
       "\n",
       "    .dataframe tbody tr th {\n",
       "        vertical-align: top;\n",
       "    }\n",
       "\n",
       "    .dataframe thead th {\n",
       "        text-align: right;\n",
       "    }\n",
       "</style>\n",
       "<table border=\"1\" class=\"dataframe\">\n",
       "  <thead>\n",
       "    <tr style=\"text-align: right;\">\n",
       "      <th></th>\n",
       "      <th>A</th>\n",
       "      <th>B</th>\n",
       "    </tr>\n",
       "    <tr>\n",
       "      <th>Date</th>\n",
       "      <th></th>\n",
       "      <th></th>\n",
       "    </tr>\n",
       "  </thead>\n",
       "  <tbody>\n",
       "    <tr>\n",
       "      <th>2017-05-08</th>\n",
       "      <td>1.010000</td>\n",
       "      <td>1.020000</td>\n",
       "    </tr>\n",
       "    <tr>\n",
       "      <th>2017-05-15</th>\n",
       "      <td>0.990099</td>\n",
       "      <td>1.078431</td>\n",
       "    </tr>\n",
       "  </tbody>\n",
       "</table>\n",
       "</div>"
      ],
      "text/plain": [
       "                   A         B\n",
       "Date                          \n",
       "2017-05-08  1.010000  1.020000\n",
       "2017-05-15  0.990099  1.078431"
      ]
     },
     "execution_count": null,
     "metadata": {},
     "output_type": "execute_result"
    }
   ],
   "source": [
    "per_rets_wr"
   ]
  },
  {
   "cell_type": "code",
   "execution_count": null,
   "metadata": {},
   "outputs": [
    {
     "data": {
      "text/html": [
       "<div>\n",
       "<style scoped>\n",
       "    .dataframe tbody tr th:only-of-type {\n",
       "        vertical-align: middle;\n",
       "    }\n",
       "\n",
       "    .dataframe tbody tr th {\n",
       "        vertical-align: top;\n",
       "    }\n",
       "\n",
       "    .dataframe thead th {\n",
       "        text-align: right;\n",
       "    }\n",
       "</style>\n",
       "<table border=\"1\" class=\"dataframe\">\n",
       "  <thead>\n",
       "    <tr style=\"text-align: right;\">\n",
       "      <th></th>\n",
       "      <th>A</th>\n",
       "      <th>B</th>\n",
       "    </tr>\n",
       "    <tr>\n",
       "      <th>Date</th>\n",
       "      <th></th>\n",
       "      <th></th>\n",
       "    </tr>\n",
       "  </thead>\n",
       "  <tbody>\n",
       "    <tr>\n",
       "      <th>2017-05-08</th>\n",
       "      <td>1.01</td>\n",
       "      <td>1.02</td>\n",
       "    </tr>\n",
       "    <tr>\n",
       "      <th>2017-05-15</th>\n",
       "      <td>1.00</td>\n",
       "      <td>1.10</td>\n",
       "    </tr>\n",
       "  </tbody>\n",
       "</table>\n",
       "</div>"
      ],
      "text/plain": [
       "               A     B\n",
       "Date                  \n",
       "2017-05-08  1.01  1.02\n",
       "2017-05-15  1.00  1.10"
      ]
     },
     "execution_count": null,
     "metadata": {},
     "output_type": "execute_result"
    }
   ],
   "source": [
    "# compute cumulative returns for input to cum_wr_to_period_returns\n",
    "cum_rets = np.cumprod(per_rets_wr, axis=0)\n",
    "cum_rets"
   ]
  },
  {
   "cell_type": "code",
   "execution_count": null,
   "metadata": {},
   "outputs": [
    {
     "data": {
      "text/plain": [
       "array([ 0.01      , -0.00990099])"
      ]
     },
     "execution_count": null,
     "metadata": {},
     "output_type": "execute_result"
    }
   ],
   "source": [
    "per_rets_A = cum_wr_to_period_returns(cum_rets['A'])\n",
    "per_rets_A"
   ]
  },
  {
   "cell_type": "code",
   "execution_count": null,
   "metadata": {},
   "outputs": [],
   "source": [
    "%nbdev_hide\n",
    "# verify result of cum_wr_to_period_returns is equal to original period returns\n",
    "test_eq(cum_wr_to_period_returns(cum_rets['A']), per_rets['A'])\n",
    "test_eq(cum_wr_to_period_returns(cum_rets['B']), per_rets['B'])"
   ]
  },
  {
   "cell_type": "markdown",
   "metadata": {},
   "source": [
    "## Portfolio Returns"
   ]
  },
  {
   "cell_type": "code",
   "execution_count": null,
   "metadata": {},
   "outputs": [],
   "source": [
    "%nbdev_export_internal\n",
    "def pf_cum_wr_seq(price_df, weights, rebal_period, normalize_wts=False):\n",
    "    \"\"\"\n",
    "    Compute the sequence of cumulative portfolio wealth ratios from a sequence of asset prices, with \n",
    "    rebalancing at a fixed interval. \n",
    "    \n",
    "    Args:\n",
    "        price_df: Dataframe of asset returns as (noncumulative) wealth ratios, indexed by date\n",
    "        weights [list]: portfolio weights for each asset ordered the same as columns of `price_df`\n",
    "        rebal_period: length of the rebalance period, expressed in number of rows of `price_df`\n",
    "        \n",
    "    Returns:\n",
    "        A python (double) array containing the sequence of portfolio values (cumulative wealth ratios)\n",
    "    \"\"\"\n",
    "    # weights, as a 1-row 2D matrix\n",
    "    weight_ar = np.array([weights])\n",
    "    \n",
    "    if normalize_wts:\n",
    "        weight_ar = weight_ar / weight_ar.sum()\n",
    "    \n",
    "    # cols: wr's for a ticker.  rows: dates\n",
    "    returns = price_df.to_numpy()\n",
    "    \n",
    "    period_start_ind = 0\n",
    "    pf_val = 1\n",
    "    \n",
    "    # list of pf values:\n",
    "    pf_values = array.array('d')\n",
    "    \n",
    "    while (period_start_ind < returns.shape[0]):\n",
    "        # first row of array for cumprod is the initial capital per asset\n",
    "        row_1 = weight_ar * pf_val\n",
    "        \n",
    "        # get the data for the next rebalance period\n",
    "        rebal_period_return_data = returns[period_start_ind:period_start_ind+rebal_period]\n",
    "        \n",
    "        # Result of this operation: first row is initial capital per asset after rebalancing; \n",
    "        # each subsequent row is the capital at subsequent dates\n",
    "        ar_for_cumprod = np.append(row_1, rebal_period_return_data, axis=0)\n",
    "        asset_values = np.cumprod(ar_for_cumprod, axis=0)\n",
    "        \n",
    "        # Compute sequence of portfolio values: sum of columns (asset vals) for each row.\n",
    "        # Drop first value as it was the sum of the intitializing values (asset values).\n",
    "        pf_rebal_period_values = np.sum(asset_values, axis=1)[1:]\n",
    "        \n",
    "        # append portfolio values for the rebalancing period to `pf_values`\n",
    "        pf_values.extend(pf_rebal_period_values)\n",
    "        \n",
    "        # portfolio value at the end of the rebal period; use to compute starting capital\n",
    "        # for each asset at the start of the next rebalancing period.\n",
    "        pf_val = pf_rebal_period_values[-1]\n",
    "        \n",
    "        period_start_ind += rebal_period\n",
    "        \n",
    "    return pf_values"
   ]
  },
  {
   "cell_type": "code",
   "execution_count": null,
   "metadata": {},
   "outputs": [],
   "source": [
    "%nbdev_export_internal\n",
    "def pf_period_returns(price_df, weights, rebal_period, pf_name, pf_start_val = 1, normalize_wts=False):\n",
    "    \"\"\"\n",
    "    Compute the sequence of portfolio period returns from a sequence of asset prices, with rebalancing \n",
    "    at a fixed interval.\n",
    "    \n",
    "    Arguments:\n",
    "        price_df: Dataframe of asset returns as (noncumulative) wealth ratios, indexed by date\n",
    "        weights: portfolio weights for each asset ordered the same as columns of `price_df`\n",
    "        pf_name: name for this portfolio -- will appear as column name\n",
    "        rebal_period: length of the rebalance period, expressed in number of rows of `price_df`\n",
    "        \n",
    "    Returns:\n",
    "        A DataFrame containing the sequence of portfolio period returns\n",
    "    \"\"\"\n",
    "    # Compute portfolio cumulative wealth ratios (with rebalancing).\n",
    "    pf_val_ar = np.asarray(pf_cum_wr_seq(price_df, weights, rebal_period, normalize_wts))\n",
    "    \n",
    "    # Cumulative wealth ratios to period returns\n",
    "    pf_ret_ar = cum_wr_to_period_returns(pf_val_ar)\n",
    "    \n",
    "    return pd.DataFrame(pf_ret_ar, index=price_df.index, columns=[pf_name])"
   ]
  },
  {
   "cell_type": "markdown",
   "metadata": {},
   "source": [
    "**Following is the usual entry point.**"
   ]
  },
  {
   "cell_type": "code",
   "execution_count": null,
   "metadata": {},
   "outputs": [],
   "source": [
    "%nbdev_export\n",
    "def computePortfolioReturns(p_src: PriceSource, asset_weights, pf_name, rebal_period, \n",
    "                            period='weekly',start_date='2017-05-01', normalize_wts=False):\n",
    "    \"\"\"\n",
    "    Given tickers and their weights, compute the sequence of portfolio returns with rebalancing at a fixed interval.\n",
    "    \n",
    "    Arguments:\n",
    "        p_src\n",
    "        asset_weights: dictionary from ticker to weight for this asset in pf (weights will)\n",
    "        pf_name: name for this portfolio -- will appear as column name\n",
    "        rebal_period: length of the rebalance period, expressed in number of rows of `price_df`\n",
    "        period: 'weekly', or 'monthly'\n",
    "        start_date: date of first period in sequence; first rebalance period begins with this period\n",
    "        normalize_wts: if true, normalize weights to sum to 1\n",
    "        \n",
    "    Returns:\n",
    "        A DataFrame containing the sequence of portfolio returns (value of 0.01 => 1% return), indexed by date.\n",
    "    \"\"\"\n",
    "    adjPrices = p_src.loadAllAdjustedPrices(list(asset_weights.keys()), subdir=period)\n",
    "    asset_returns = period_returns_from_prices(adjPrices, wr=True).loc[start_date:]\n",
    "    \n",
    "    return pf_period_returns(asset_returns, list(asset_weights.values()), rebal_period, pf_name, normalize_wts=normalize_wts).loc[start_date:]"
   ]
  },
  {
   "cell_type": "markdown",
   "metadata": {},
   "source": [
    "### Tests"
   ]
  },
  {
   "cell_type": "markdown",
   "metadata": {},
   "source": [
    "**Set up data**"
   ]
  },
  {
   "cell_type": "code",
   "execution_count": null,
   "metadata": {},
   "outputs": [],
   "source": [
    "prices_6040 = tst_src.loadAllAdjustedPrices(['TLT', 'SPY'])\n",
    "wr_6040 = period_returns_from_prices(prices_6040, wr=True)"
   ]
  },
  {
   "cell_type": "code",
   "execution_count": null,
   "metadata": {},
   "outputs": [
    {
     "data": {
      "text/html": [
       "<div>\n",
       "<style scoped>\n",
       "    .dataframe tbody tr th:only-of-type {\n",
       "        vertical-align: middle;\n",
       "    }\n",
       "\n",
       "    .dataframe tbody tr th {\n",
       "        vertical-align: top;\n",
       "    }\n",
       "\n",
       "    .dataframe thead th {\n",
       "        text-align: right;\n",
       "    }\n",
       "</style>\n",
       "<table border=\"1\" class=\"dataframe\">\n",
       "  <thead>\n",
       "    <tr style=\"text-align: right;\">\n",
       "      <th></th>\n",
       "      <th>TLT</th>\n",
       "      <th>SPY</th>\n",
       "    </tr>\n",
       "    <tr>\n",
       "      <th>Date</th>\n",
       "      <th></th>\n",
       "      <th></th>\n",
       "    </tr>\n",
       "  </thead>\n",
       "  <tbody>\n",
       "    <tr>\n",
       "      <th>2017-04-10</th>\n",
       "      <td>1.025030</td>\n",
       "      <td>0.988563</td>\n",
       "    </tr>\n",
       "    <tr>\n",
       "      <th>2017-04-17</th>\n",
       "      <td>1.000567</td>\n",
       "      <td>1.008946</td>\n",
       "    </tr>\n",
       "    <tr>\n",
       "      <th>2017-04-24</th>\n",
       "      <td>0.990368</td>\n",
       "      <td>1.014877</td>\n",
       "    </tr>\n",
       "    <tr>\n",
       "      <th>2017-05-01</th>\n",
       "      <td>0.991336</td>\n",
       "      <td>1.006804</td>\n",
       "    </tr>\n",
       "    <tr>\n",
       "      <th>2017-05-08</th>\n",
       "      <td>1.002915</td>\n",
       "      <td>0.996996</td>\n",
       "    </tr>\n",
       "  </tbody>\n",
       "</table>\n",
       "</div>"
      ],
      "text/plain": [
       "                 TLT       SPY\n",
       "Date                          \n",
       "2017-04-10  1.025030  0.988563\n",
       "2017-04-17  1.000567  1.008946\n",
       "2017-04-24  0.990368  1.014877\n",
       "2017-05-01  0.991336  1.006804\n",
       "2017-05-08  1.002915  0.996996"
      ]
     },
     "execution_count": null,
     "metadata": {},
     "output_type": "execute_result"
    }
   ],
   "source": [
    "wr_6040.head()"
   ]
  },
  {
   "cell_type": "code",
   "execution_count": null,
   "metadata": {},
   "outputs": [
    {
     "data": {
      "text/html": [
       "<div>\n",
       "<style scoped>\n",
       "    .dataframe tbody tr th:only-of-type {\n",
       "        vertical-align: middle;\n",
       "    }\n",
       "\n",
       "    .dataframe tbody tr th {\n",
       "        vertical-align: top;\n",
       "    }\n",
       "\n",
       "    .dataframe thead th {\n",
       "        text-align: right;\n",
       "    }\n",
       "</style>\n",
       "<table border=\"1\" class=\"dataframe\">\n",
       "  <thead>\n",
       "    <tr style=\"text-align: right;\">\n",
       "      <th></th>\n",
       "      <th>TLT</th>\n",
       "      <th>SPY</th>\n",
       "    </tr>\n",
       "    <tr>\n",
       "      <th>Date</th>\n",
       "      <th></th>\n",
       "      <th></th>\n",
       "    </tr>\n",
       "  </thead>\n",
       "  <tbody>\n",
       "    <tr>\n",
       "      <th>2020-02-17</th>\n",
       "      <td>1.024144</td>\n",
       "      <td>0.987796</td>\n",
       "    </tr>\n",
       "    <tr>\n",
       "      <th>2020-02-24</th>\n",
       "      <td>1.049108</td>\n",
       "      <td>0.888389</td>\n",
       "    </tr>\n",
       "    <tr>\n",
       "      <th>2020-03-02</th>\n",
       "      <td>1.073788</td>\n",
       "      <td>1.004050</td>\n",
       "    </tr>\n",
       "    <tr>\n",
       "      <th>2020-03-09</th>\n",
       "      <td>0.924431</td>\n",
       "      <td>0.905399</td>\n",
       "    </tr>\n",
       "    <tr>\n",
       "      <th>2020-03-16</th>\n",
       "      <td>1.035663</td>\n",
       "      <td>0.849547</td>\n",
       "    </tr>\n",
       "    <tr>\n",
       "      <th>2020-03-23</th>\n",
       "      <td>1.051872</td>\n",
       "      <td>1.114118</td>\n",
       "    </tr>\n",
       "    <tr>\n",
       "      <th>2020-03-30</th>\n",
       "      <td>1.004771</td>\n",
       "      <td>0.979362</td>\n",
       "    </tr>\n",
       "  </tbody>\n",
       "</table>\n",
       "</div>"
      ],
      "text/plain": [
       "                 TLT       SPY\n",
       "Date                          \n",
       "2020-02-17  1.024144  0.987796\n",
       "2020-02-24  1.049108  0.888389\n",
       "2020-03-02  1.073788  1.004050\n",
       "2020-03-09  0.924431  0.905399\n",
       "2020-03-16  1.035663  0.849547\n",
       "2020-03-23  1.051872  1.114118\n",
       "2020-03-30  1.004771  0.979362"
      ]
     },
     "execution_count": null,
     "metadata": {},
     "output_type": "execute_result"
    }
   ],
   "source": [
    "# assume a rebalance period of 3\n",
    "# For interest, choose a short period of high volatility\n",
    "test_6040 = wr_6040.loc['2020-02-17':'2020-03-30']\n",
    "test_6040"
   ]
  },
  {
   "cell_type": "code",
   "execution_count": null,
   "metadata": {},
   "outputs": [
    {
     "data": {
      "text/html": [
       "<div>\n",
       "<style scoped>\n",
       "    .dataframe tbody tr th:only-of-type {\n",
       "        vertical-align: middle;\n",
       "    }\n",
       "\n",
       "    .dataframe tbody tr th {\n",
       "        vertical-align: top;\n",
       "    }\n",
       "\n",
       "    .dataframe thead th {\n",
       "        text-align: right;\n",
       "    }\n",
       "</style>\n",
       "<table border=\"1\" class=\"dataframe\">\n",
       "  <thead>\n",
       "    <tr style=\"text-align: right;\">\n",
       "      <th></th>\n",
       "      <th>TLT</th>\n",
       "      <th>SPY</th>\n",
       "    </tr>\n",
       "    <tr>\n",
       "      <th>Date</th>\n",
       "      <th></th>\n",
       "      <th></th>\n",
       "    </tr>\n",
       "  </thead>\n",
       "  <tbody>\n",
       "    <tr>\n",
       "      <th>2020-02-17</th>\n",
       "      <td>1.024144</td>\n",
       "      <td>0.987796</td>\n",
       "    </tr>\n",
       "    <tr>\n",
       "      <th>2020-02-24</th>\n",
       "      <td>1.049108</td>\n",
       "      <td>0.888389</td>\n",
       "    </tr>\n",
       "    <tr>\n",
       "      <th>2020-03-02</th>\n",
       "      <td>1.073788</td>\n",
       "      <td>1.004050</td>\n",
       "    </tr>\n",
       "    <tr>\n",
       "      <th>2020-03-09</th>\n",
       "      <td>0.924431</td>\n",
       "      <td>0.905399</td>\n",
       "    </tr>\n",
       "    <tr>\n",
       "      <th>2020-03-16</th>\n",
       "      <td>1.035663</td>\n",
       "      <td>0.849547</td>\n",
       "    </tr>\n",
       "    <tr>\n",
       "      <th>2020-03-23</th>\n",
       "      <td>1.051872</td>\n",
       "      <td>1.114118</td>\n",
       "    </tr>\n",
       "    <tr>\n",
       "      <th>2020-03-30</th>\n",
       "      <td>1.004771</td>\n",
       "      <td>0.979362</td>\n",
       "    </tr>\n",
       "  </tbody>\n",
       "</table>\n",
       "</div>"
      ],
      "text/plain": [
       "                 TLT       SPY\n",
       "Date                          \n",
       "2020-02-17  1.024144  0.987796\n",
       "2020-02-24  1.049108  0.888389\n",
       "2020-03-02  1.073788  1.004050\n",
       "2020-03-09  0.924431  0.905399\n",
       "2020-03-16  1.035663  0.849547\n",
       "2020-03-23  1.051872  1.114118\n",
       "2020-03-30  1.004771  0.979362"
      ]
     },
     "execution_count": null,
     "metadata": {},
     "output_type": "execute_result"
    }
   ],
   "source": [
    "# Frozen display of value used in test\n",
    "test_6040"
   ]
  },
  {
   "cell_type": "markdown",
   "metadata": {},
   "source": [
    "**Test pf_cum_wr_seq()**"
   ]
  },
  {
   "cell_type": "code",
   "execution_count": null,
   "metadata": {},
   "outputs": [],
   "source": [
    "expected_py_array = array.array('d', [1.00233529086481, 0.9563036816433197, 0.9901485047549465, 0.9040172073166807, 0.8361477995951826, 0.9079644552327022, 0.8984541223283018])\n",
    "assert pf_cum_wr_seq(test_6040, [0.4, 0.6], 3) == expected_py_array"
   ]
  },
  {
   "cell_type": "code",
   "execution_count": null,
   "metadata": {},
   "outputs": [],
   "source": [
    "# test normalization of scaled weight list\n",
    "assert pf_cum_wr_seq(test_6040, [0.8, 1.2], 3, normalize_wts=True) == expected_py_array"
   ]
  },
  {
   "cell_type": "markdown",
   "metadata": {},
   "source": [
    "**Test pf_period_returns()**"
   ]
  },
  {
   "cell_type": "code",
   "execution_count": null,
   "metadata": {},
   "outputs": [
    {
     "name": "stderr",
     "output_type": "stream",
     "text": [
      "C:\\Users\\USER\\anaconda3\\envs\\jptrlab-pip\\lib\\site-packages\\pandas_datareader\\compat\\__init__.py:7: FutureWarning: pandas.util.testing is deprecated. Use the functions in the public API at pandas.testing instead.\n",
      "  from pandas.util.testing import assert_frame_equal\n"
     ]
    }
   ],
   "source": [
    "import empyrical.stats as estats"
   ]
  },
  {
   "cell_type": "code",
   "execution_count": null,
   "metadata": {},
   "outputs": [],
   "source": [
    "# note fractional returns, not wealth ratios\n",
    "pf_return_df = pf_period_returns(test_6040, [0.4, 0.6], 3, 'My Portfolio')\n",
    "assert list(estats.cum_returns(pf_return_df['My Portfolio'], starting_value=1)) == list(expected_py_array)\n",
    "# pf_return_df"
   ]
  },
  {
   "cell_type": "code",
   "execution_count": null,
   "metadata": {},
   "outputs": [
    {
     "data": {
      "text/html": [
       "<div>\n",
       "<style scoped>\n",
       "    .dataframe tbody tr th:only-of-type {\n",
       "        vertical-align: middle;\n",
       "    }\n",
       "\n",
       "    .dataframe tbody tr th {\n",
       "        vertical-align: top;\n",
       "    }\n",
       "\n",
       "    .dataframe thead th {\n",
       "        text-align: right;\n",
       "    }\n",
       "</style>\n",
       "<table border=\"1\" class=\"dataframe\">\n",
       "  <thead>\n",
       "    <tr style=\"text-align: right;\">\n",
       "      <th></th>\n",
       "      <th>My Portfolio</th>\n",
       "    </tr>\n",
       "    <tr>\n",
       "      <th>Date</th>\n",
       "      <th></th>\n",
       "    </tr>\n",
       "  </thead>\n",
       "  <tbody>\n",
       "    <tr>\n",
       "      <th>2020-02-17</th>\n",
       "      <td>0.002335</td>\n",
       "    </tr>\n",
       "    <tr>\n",
       "      <th>2020-02-24</th>\n",
       "      <td>-0.045924</td>\n",
       "    </tr>\n",
       "    <tr>\n",
       "      <th>2020-03-02</th>\n",
       "      <td>0.035391</td>\n",
       "    </tr>\n",
       "    <tr>\n",
       "      <th>2020-03-09</th>\n",
       "      <td>-0.086988</td>\n",
       "    </tr>\n",
       "    <tr>\n",
       "      <th>2020-03-16</th>\n",
       "      <td>-0.075075</td>\n",
       "    </tr>\n",
       "    <tr>\n",
       "      <th>2020-03-23</th>\n",
       "      <td>0.085890</td>\n",
       "    </tr>\n",
       "    <tr>\n",
       "      <th>2020-03-30</th>\n",
       "      <td>-0.010474</td>\n",
       "    </tr>\n",
       "  </tbody>\n",
       "</table>\n",
       "</div>"
      ],
      "text/plain": [
       "            My Portfolio\n",
       "Date                    \n",
       "2020-02-17      0.002335\n",
       "2020-02-24     -0.045924\n",
       "2020-03-02      0.035391\n",
       "2020-03-09     -0.086988\n",
       "2020-03-16     -0.075075\n",
       "2020-03-23      0.085890\n",
       "2020-03-30     -0.010474"
      ]
     },
     "execution_count": null,
     "metadata": {},
     "output_type": "execute_result"
    }
   ],
   "source": [
    "# Validate we get the same results if we start computing the returns much earlier -- as long\n",
    "# as the rebalance periods are aligned.\n",
    "# skip the first two elements of wr_6040 -- rebalance times must align to get the same result\n",
    "pf_period_returns(wr_6040.iloc[2:, :], [0.4, 0.6], 3, 'My Portfolio').loc['2020-02-17':].head(7)"
   ]
  },
  {
   "cell_type": "markdown",
   "metadata": {},
   "source": [
    "**Tests for computePortfolioReturns()**"
   ]
  },
  {
   "cell_type": "code",
   "execution_count": null,
   "metadata": {},
   "outputs": [
    {
     "data": {
      "text/html": [
       "<div>\n",
       "<style scoped>\n",
       "    .dataframe tbody tr th:only-of-type {\n",
       "        vertical-align: middle;\n",
       "    }\n",
       "\n",
       "    .dataframe tbody tr th {\n",
       "        vertical-align: top;\n",
       "    }\n",
       "\n",
       "    .dataframe thead th {\n",
       "        text-align: right;\n",
       "    }\n",
       "</style>\n",
       "<table border=\"1\" class=\"dataframe\">\n",
       "  <thead>\n",
       "    <tr style=\"text-align: right;\">\n",
       "      <th></th>\n",
       "      <th>MyPf</th>\n",
       "    </tr>\n",
       "    <tr>\n",
       "      <th>Date</th>\n",
       "      <th></th>\n",
       "    </tr>\n",
       "  </thead>\n",
       "  <tbody>\n",
       "    <tr>\n",
       "      <th>2020-02-17</th>\n",
       "      <td>0.002335</td>\n",
       "    </tr>\n",
       "    <tr>\n",
       "      <th>2020-02-24</th>\n",
       "      <td>-0.045924</td>\n",
       "    </tr>\n",
       "    <tr>\n",
       "      <th>2020-03-02</th>\n",
       "      <td>0.035391</td>\n",
       "    </tr>\n",
       "    <tr>\n",
       "      <th>2020-03-09</th>\n",
       "      <td>-0.086988</td>\n",
       "    </tr>\n",
       "    <tr>\n",
       "      <th>2020-03-16</th>\n",
       "      <td>-0.075075</td>\n",
       "    </tr>\n",
       "    <tr>\n",
       "      <th>2020-03-23</th>\n",
       "      <td>0.085890</td>\n",
       "    </tr>\n",
       "    <tr>\n",
       "      <th>2020-03-30</th>\n",
       "      <td>-0.010474</td>\n",
       "    </tr>\n",
       "  </tbody>\n",
       "</table>\n",
       "</div>"
      ],
      "text/plain": [
       "                MyPf\n",
       "Date                \n",
       "2020-02-17  0.002335\n",
       "2020-02-24 -0.045924\n",
       "2020-03-02  0.035391\n",
       "2020-03-09 -0.086988\n",
       "2020-03-16 -0.075075\n",
       "2020-03-23  0.085890\n",
       "2020-03-30 -0.010474"
      ]
     },
     "execution_count": null,
     "metadata": {},
     "output_type": "execute_result"
    }
   ],
   "source": [
    "# computePortfolioValues(asset_weights, pf_name, rebal_period, period='weekly',start_date='2017-05-01', normalize_wts=False):\n",
    "cpv_df = computePortfolioReturns(tst_src, {'SPY':0.60, 'TLT': 0.40}, \"MyPf\", 3, start_date='2020-02-17')\n",
    "assert (cpv_df.iloc[:7,:].values == pf_return_df.values).all()\n",
    "cpv_df.head(7)"
   ]
  },
  {
   "cell_type": "code",
   "execution_count": null,
   "metadata": {},
   "outputs": [],
   "source": []
  }
 ],
 "metadata": {
  "kernelspec": {
   "display_name": "Python 3",
   "language": "python",
   "name": "python3"
  }
 },
 "nbformat": 4,
 "nbformat_minor": 2
}
