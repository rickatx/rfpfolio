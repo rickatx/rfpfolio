{
 "cells": [
  {
   "cell_type": "code",
   "execution_count": null,
   "metadata": {},
   "outputs": [],
   "source": [
    "#default_exp core"
   ]
  },
  {
   "cell_type": "markdown",
   "metadata": {},
   "source": [
    "# rfpfolio\n",
    "\n",
    "> Create portfolios with rebalancing, and measure performance."
   ]
  },
  {
   "cell_type": "code",
   "execution_count": null,
   "metadata": {},
   "outputs": [],
   "source": [
    "#hide\n",
    "from nbdev.showdoc import show_doc\n",
    "from fastcore.test import *\n",
    "from nbdev.export import notebook2script"
   ]
  },
  {
   "cell_type": "markdown",
   "metadata": {},
   "source": [
    "## Load Price Data"
   ]
  },
  {
   "cell_type": "code",
   "execution_count": null,
   "metadata": {},
   "outputs": [],
   "source": [
    "#export\n",
    "import pandas as pd\n",
    "import numpy as np\n",
    "import array\n",
    "import os.path\n",
    "import glob\n",
    "from dataclasses import dataclass\n",
    "from datetime import datetime\n",
    "from typing import List\n",
    "from typing import NamedTuple"
   ]
  },
  {
   "cell_type": "code",
   "execution_count": null,
   "metadata": {},
   "outputs": [],
   "source": [
    "#export\n",
    "class PriceSource:\n",
    "    \n",
    "    def __init__(self, data_root, subdir_default='weekly'):\n",
    "        \"\"\"\n",
    "        Args:\n",
    "            - data_root (str): Relative or absolute path to the root directory to load data from.\n",
    "            - In the root should be one or more directories named 'weekly', 'monthly', etc.\n",
    "        \"\"\"\n",
    "        self.data_root = os.path.abspath(data_root)\n",
    "        self.subdir_default = subdir_default\n",
    "        \n",
    "    def __repr__(self):\n",
    "        return (self.__class__.__qualname__ + f\"(data_root={self.data_root})\")\n",
    "    \n",
    "    def list_return_dates(self, subdir=None):\n",
    "        \"\"\"\n",
    "        Print the range of return dates available for each csv file in the specified directory.\n",
    "        \"\"\"\n",
    "        subdir =  subdir if subdir is not None else self.subdir_default\n",
    "        glob_path = os.path.join(self.data_root, subdir, '*.csv')\n",
    "        for path in glob.iglob(glob_path):\n",
    "            prices = pd.read_csv(path, parse_dates=[0])\n",
    "            start_date = prices.Date.iloc[0].date().isoformat()\n",
    "            end_date = prices.Date.iloc[-1].date().isoformat()\n",
    "            print(f\"{start_date} => {end_date}  {os.path.basename(path)}\")\n",
    "            \n",
    "    def loadAdjustedPrices(self, ticker, subdir=None):\n",
    "        \"\"\"\n",
    "        Load data in to single column dataframe, indexed by date.\n",
    "        The column has the name of the ticker, and is the adjusted price.\n",
    "        Note: for Yahoo weekly data, the adj price is the adjusted closing price for the \n",
    "        week beginning on the specified date.\n",
    "        \n",
    "        Args:\n",
    "            - ticker (str): Name of file to load, without '.csv' extension.\n",
    "            - subdir (str): Subdir of data_root wherein to find file to load.\n",
    "            \n",
    "        Returns:\n",
    "            - A dataframe with the specified data, indexed by date.\n",
    "        \"\"\"\n",
    "        subdir =  subdir if subdir is not None else self.subdir_default\n",
    "        csv_path =  os.path.join(self.data_root, subdir, f\"{ticker}.csv\")\n",
    "        prices = pd.read_csv(csv_path, parse_dates=[0])\n",
    "        prices = prices[['Date', 'Adj Close']]\n",
    "        prices.columns = ['Date', ticker]\n",
    "        return prices.set_index('Date')\n",
    "    \n",
    "    \n",
    "    def loadAllAdjustedPrices(self, tik_list, subdir=None):\n",
    "        \"\"\"\n",
    "        Load adjusted price data for all tickers to a dataframe, indexed by date.\n",
    "        Each column name is a ticker, and the column values are the sequence of adjusted prices.\n",
    "        \n",
    "        Returns:\n",
    "            - A dataframe with the specified data, indexed by date.\n",
    "        \"\"\"\n",
    "        subdir =  subdir if subdir is not None else self.subdir_default\n",
    "        tik_dict = {tik:  self.loadAdjustedPrices(tik, subdir) for tik in tik_list}\n",
    "        return pd.concat([tik_dict[tik] for tik in tik_list], axis=1, join='inner')\n",
    "    \n",
    "    def load_period_returns_ticker(self, ticker, subdir=None):\n",
    "        \"\"\"Submethod of load_period_returns(). Load period returns for an asset.\"\"\"\n",
    "        subdir =  subdir if subdir is not None else self.subdir_default\n",
    "        df = self.loadAdjustedPrices(ticker, subdir)\n",
    "        return df.pct_change().dropna()\n",
    "    \n",
    "    def load_period_returns(self, spec, subdir=None):\n",
    "        \"\"\"Load period returns for an asset, or a specified temporal sequence of assets.\n",
    "        \n",
    "        Args:\n",
    "            - spec: Specifier of asset price data to load. Either a string (filename) or SpliceSpec\n",
    "            - subdir: subdirectory of root to find data. Usual convention is to specify interval: \n",
    "            'daily', 'weekly', 'monthly'\n",
    "            - name: name for this asset return sequence (will be DataFrame's column name)\n",
    "            \n",
    "        Returns:\n",
    "            - DataFrame of period returns for asset (or asset sequence) described by `spec`.\n",
    "        \"\"\"\n",
    "        \n",
    "        def date_selector(df, start, end):\n",
    "            \"\"\"Return a selector (boolean ndarray) of df for the specified start and end date. \n",
    "            Selected rows have date index >= `start` and < `end`.\n",
    "            \"\"\"\n",
    "            if start is None and end is None:\n",
    "                # all rows\n",
    "                return np.full(df.shape[0], True)\n",
    "            elif start is None:\n",
    "                return df.index < end\n",
    "            elif end is None:\n",
    "                return df.index >= start\n",
    "            else:\n",
    "                return (df.index >= start) & (df.index < end)\n",
    "            \n",
    "        subdir =  subdir if subdir is not None else self.subdir_default\n",
    "        if isinstance(spec, str):\n",
    "            return self.load_period_returns_ticker(spec, subdir)\n",
    "        \n",
    "        else:\n",
    "            assert isinstance(spec, SpliceSpec)\n",
    "            \n",
    "            # with start_list = [d0, d1, d2], resulting date intervals are [d0, d1), [d1, d2), [d2, ..)\n",
    "            start_list = [x.start for x in spec.sequence]\n",
    "            df_seq = (self.load_period_returns_ticker(x.fname, subdir) for x in spec.sequence)\n",
    "            \n",
    "            # ... start_list, start_list[1:]+[None] -- this produces desired date intervals\n",
    "            sub_dfs = [df[date_selector(df, start, end)] for df, start, end in zip(df_seq, start_list, start_list[1:]+[None])]\n",
    "            \n",
    "            # give the column of all sub_dfs the same name\n",
    "            for df in sub_dfs:\n",
    "                df.columns = [spec.name]\n",
    "                \n",
    "            return pd.concat(sub_dfs)"
   ]
  },
  {
   "cell_type": "code",
   "execution_count": null,
   "metadata": {},
   "outputs": [
    {
     "data": {
      "text/markdown": [
       "<h4 id=\"PriceSource.__init__\" class=\"doc_header\"><code>PriceSource.__init__</code><a href=\"__main__.py#L4\" class=\"source_link\" style=\"float:right\">[source]</a></h4>\n",
       "\n",
       "> <code>PriceSource.__init__</code>(**`data_root`**, **`subdir_default`**=*`'weekly'`*)\n",
       "\n",
       "Args:\n",
       "    - data_root (str): Relative or absolute path to the root directory to load data from.\n",
       "    - In the root should be one or more directories named 'weekly', 'monthly', etc."
      ],
      "text/plain": [
       "<IPython.core.display.Markdown object>"
      ]
     },
     "metadata": {},
     "output_type": "display_data"
    },
    {
     "data": {
      "text/markdown": [
       "<h4 id=\"PriceSource.list_return_dates\" class=\"doc_header\"><code>PriceSource.list_return_dates</code><a href=\"__main__.py#L37\" class=\"source_link\" style=\"float:right\">[source]</a></h4>\n",
       "\n",
       "> <code>PriceSource.list_return_dates</code>(**`subdir`**=*`None`*)\n",
       "\n",
       "Print the range of return dates available for each csv file in the specified directory."
      ],
      "text/plain": [
       "<IPython.core.display.Markdown object>"
      ]
     },
     "metadata": {},
     "output_type": "display_data"
    },
    {
     "data": {
      "text/markdown": [
       "<h4 id=\"PriceSource.load_period_returns\" class=\"doc_header\"><code>PriceSource.load_period_returns</code><a href=\"__main__.py#L66\" class=\"source_link\" style=\"float:right\">[source]</a></h4>\n",
       "\n",
       "> <code>PriceSource.load_period_returns</code>(**`spec`**, **`subdir`**=*`None`*)\n",
       "\n",
       "Load period returns for an asset, or a specified temporal sequence of assets.\n",
       "\n",
       "Args:\n",
       "    - spec: Specifier of asset price data to load. Either a string (filename) or SpliceSpec\n",
       "    - subdir: subdirectory of root to find data. Usual convention is to specify interval: \n",
       "    'daily', 'weekly', 'monthly'\n",
       "    - name: name for this asset return sequence (will be DataFrame's column name)\n",
       "    \n",
       "Returns:\n",
       "    - DataFrame of period returns for asset (or asset sequence) described by `spec`."
      ],
      "text/plain": [
       "<IPython.core.display.Markdown object>"
      ]
     },
     "metadata": {},
     "output_type": "display_data"
    },
    {
     "data": {
      "text/markdown": [
       "<h4 id=\"PriceSource.loadAdjustedPrices\" class=\"doc_header\"><code>PriceSource.loadAdjustedPrices</code><a href=\"__main__.py#L16\" class=\"source_link\" style=\"float:right\">[source]</a></h4>\n",
       "\n",
       "> <code>PriceSource.loadAdjustedPrices</code>(**`ticker`**, **`subdir`**=*`None`*)\n",
       "\n",
       "Load data in to single column dataframe, indexed by date.\n",
       "The column has the name of the ticker, and is the adjusted price.\n",
       "Note: for Yahoo weekly data, the adj price is the adjusted closing price for the \n",
       "week beginning on the specified date.\n",
       "\n",
       "Args:\n",
       "    - ticker (str): Name of file to load, without '.csv' extension.\n",
       "    - subdir (str): Subdir of data_root wherein to find file to load.\n",
       "    \n",
       "Returns:\n",
       "    - A dataframe with the specified data, indexed by date."
      ],
      "text/plain": [
       "<IPython.core.display.Markdown object>"
      ]
     },
     "metadata": {},
     "output_type": "display_data"
    },
    {
     "data": {
      "text/markdown": [
       "<h4 id=\"PriceSource.loadAllAdjustedPrices\" class=\"doc_header\"><code>PriceSource.loadAllAdjustedPrices</code><a href=\"__main__.py#L49\" class=\"source_link\" style=\"float:right\">[source]</a></h4>\n",
       "\n",
       "> <code>PriceSource.loadAllAdjustedPrices</code>(**`tik_list`**, **`subdir`**=*`None`*)\n",
       "\n",
       "Load adjusted price data for all tickers to a dataframe, indexed by date.\n",
       "Each column name is a ticker, and the column values are the sequence of adjusted prices.\n",
       "\n",
       "Returns:\n",
       "    - A dataframe with the specified data, indexed by date."
      ],
      "text/plain": [
       "<IPython.core.display.Markdown object>"
      ]
     },
     "metadata": {},
     "output_type": "display_data"
    }
   ],
   "source": [
    "# Is this needed to show the doc for methods?\n",
    "for elt in '__init__ list_return_dates load_period_returns loadAdjustedPrices loadAllAdjustedPrices'.split():\n",
    "    show_doc(eval('PriceSource.'+elt))"
   ]
  },
  {
   "cell_type": "markdown",
   "metadata": {},
   "source": [
    "Here is an example of loading some weekly adjusted price data:"
   ]
  },
  {
   "cell_type": "code",
   "execution_count": null,
   "metadata": {},
   "outputs": [],
   "source": [
    "tst_src = PriceSource('testdata/2017-Apr')"
   ]
  },
  {
   "cell_type": "markdown",
   "metadata": {},
   "source": [
    "We can see what data files are available in subdirectory, and their date coverage."
   ]
  },
  {
   "cell_type": "code",
   "execution_count": null,
   "metadata": {},
   "outputs": [
    {
     "name": "stdout",
     "output_type": "stream",
     "text": [
      "2017-03-27 => 2020-05-25  AGG.csv\n",
      "2017-04-03 => 2020-06-29  GLD.csv\n",
      "2017-04-03 => 2020-06-29  IEI.csv\n",
      "2017-04-03 => 2020-06-29  PDBC.csv\n",
      "2017-04-03 => 2020-06-29  SHV.csv\n",
      "2017-04-03 => 2020-06-29  SPY.csv\n",
      "2017-04-03 => 2020-06-29  TLT.csv\n",
      "2017-03-27 => 2020-05-25  VT.csv\n",
      "2017-04-03 => 2020-06-29  VTI.csv\n"
     ]
    }
   ],
   "source": [
    "tst_src.list_return_dates('weekly')"
   ]
  },
  {
   "cell_type": "code",
   "execution_count": null,
   "metadata": {},
   "outputs": [
    {
     "data": {
      "text/html": [
       "<div>\n",
       "<style scoped>\n",
       "    .dataframe tbody tr th:only-of-type {\n",
       "        vertical-align: middle;\n",
       "    }\n",
       "\n",
       "    .dataframe tbody tr th {\n",
       "        vertical-align: top;\n",
       "    }\n",
       "\n",
       "    .dataframe thead th {\n",
       "        text-align: right;\n",
       "    }\n",
       "</style>\n",
       "<table border=\"1\" class=\"dataframe\">\n",
       "  <thead>\n",
       "    <tr style=\"text-align: right;\">\n",
       "      <th></th>\n",
       "      <th>SPY</th>\n",
       "      <th>IEI</th>\n",
       "      <th>GLD</th>\n",
       "    </tr>\n",
       "    <tr>\n",
       "      <th>Date</th>\n",
       "      <th></th>\n",
       "      <th></th>\n",
       "      <th></th>\n",
       "    </tr>\n",
       "  </thead>\n",
       "  <tbody>\n",
       "    <tr>\n",
       "      <th>2017-04-03</th>\n",
       "      <td>220.896225</td>\n",
       "      <td>115.845558</td>\n",
       "      <td>119.459999</td>\n",
       "    </tr>\n",
       "    <tr>\n",
       "      <th>2017-04-10</th>\n",
       "      <td>218.369843</td>\n",
       "      <td>116.867851</td>\n",
       "      <td>122.599998</td>\n",
       "    </tr>\n",
       "    <tr>\n",
       "      <th>2017-04-17</th>\n",
       "      <td>220.323349</td>\n",
       "      <td>116.943314</td>\n",
       "      <td>122.309998</td>\n",
       "    </tr>\n",
       "    <tr>\n",
       "      <th>2017-04-24</th>\n",
       "      <td>223.601120</td>\n",
       "      <td>116.688652</td>\n",
       "      <td>120.769997</td>\n",
       "    </tr>\n",
       "    <tr>\n",
       "      <th>2017-05-01</th>\n",
       "      <td>225.122589</td>\n",
       "      <td>116.301956</td>\n",
       "      <td>117.010002</td>\n",
       "    </tr>\n",
       "  </tbody>\n",
       "</table>\n",
       "</div>"
      ],
      "text/plain": [
       "                   SPY         IEI         GLD\n",
       "Date                                          \n",
       "2017-04-03  220.896225  115.845558  119.459999\n",
       "2017-04-10  218.369843  116.867851  122.599998\n",
       "2017-04-17  220.323349  116.943314  122.309998\n",
       "2017-04-24  223.601120  116.688652  120.769997\n",
       "2017-05-01  225.122589  116.301956  117.010002"
      ]
     },
     "execution_count": null,
     "metadata": {},
     "output_type": "execute_result"
    }
   ],
   "source": [
    "price_data = tst_src.loadAllAdjustedPrices(['SPY', 'IEI', 'GLD'])\n",
    "price_data.head()"
   ]
  },
  {
   "cell_type": "code",
   "execution_count": null,
   "metadata": {},
   "outputs": [],
   "source": [
    "#hide\n",
    "# top 5 rows of data\n",
    "spy_5 = price_data.loc[:'2017-05-01', 'SPY']\n",
    "test_close(list(spy_5), [220.896225, 218.369843, 220.323349, 223.60112, 225.122589])\n",
    "\n",
    "iei_5 = price_data.loc[:'2017-05-01', 'IEI']\n",
    "test_close(list(iei_5), [115.845558, 116.867851, 116.943314, 116.688652, 116.301956])\n",
    "\n",
    "gld_5 = price_data.loc[:'2017-05-01', 'GLD']\n",
    "test_close(list(gld_5), [119.459999, 122.599998, 122.309998, 120.769997, 117.010002])\n",
    "\n",
    "# last row of data\n",
    "last = price_data.iloc[-1:,:]\n",
    "# 2020-06-29 data for spy, iei, gld\n",
    "last.to_numpy()[0] = np.array([310.519989, 133.316208, 166.619995])"
   ]
  },
  {
   "cell_type": "markdown",
   "metadata": {},
   "source": [
    "`load_period_returns()` will return the period returns for an asset, rather than adjusted prices."
   ]
  },
  {
   "cell_type": "code",
   "execution_count": null,
   "metadata": {},
   "outputs": [
    {
     "data": {
      "text/html": [
       "<div>\n",
       "<style scoped>\n",
       "    .dataframe tbody tr th:only-of-type {\n",
       "        vertical-align: middle;\n",
       "    }\n",
       "\n",
       "    .dataframe tbody tr th {\n",
       "        vertical-align: top;\n",
       "    }\n",
       "\n",
       "    .dataframe thead th {\n",
       "        text-align: right;\n",
       "    }\n",
       "</style>\n",
       "<table border=\"1\" class=\"dataframe\">\n",
       "  <thead>\n",
       "    <tr style=\"text-align: right;\">\n",
       "      <th></th>\n",
       "      <th>GLD</th>\n",
       "    </tr>\n",
       "    <tr>\n",
       "      <th>Date</th>\n",
       "      <th></th>\n",
       "    </tr>\n",
       "  </thead>\n",
       "  <tbody>\n",
       "    <tr>\n",
       "      <th>2017-04-10</th>\n",
       "      <td>0.026285</td>\n",
       "    </tr>\n",
       "    <tr>\n",
       "      <th>2017-04-17</th>\n",
       "      <td>-0.002365</td>\n",
       "    </tr>\n",
       "    <tr>\n",
       "      <th>2017-04-24</th>\n",
       "      <td>-0.012591</td>\n",
       "    </tr>\n",
       "    <tr>\n",
       "      <th>2017-05-01</th>\n",
       "      <td>-0.031134</td>\n",
       "    </tr>\n",
       "    <tr>\n",
       "      <th>2017-05-08</th>\n",
       "      <td>-0.001538</td>\n",
       "    </tr>\n",
       "  </tbody>\n",
       "</table>\n",
       "</div>"
      ],
      "text/plain": [
       "                 GLD\n",
       "Date                \n",
       "2017-04-10  0.026285\n",
       "2017-04-17 -0.002365\n",
       "2017-04-24 -0.012591\n",
       "2017-05-01 -0.031134\n",
       "2017-05-08 -0.001538"
      ]
     },
     "execution_count": null,
     "metadata": {},
     "output_type": "execute_result"
    }
   ],
   "source": [
    "return_data = tst_src.load_period_returns('GLD', 'weekly')\n",
    "return_data.head()"
   ]
  },
  {
   "cell_type": "markdown",
   "metadata": {},
   "source": [
    "### Load Return Data from Spliced Data Sources"
   ]
  },
  {
   "cell_type": "markdown",
   "metadata": {},
   "source": [
    "When period returns are loaded (using method `load_period_returns()`) there is an option of specifying a sequence of data sources that are spliced together. This feature was originally added to support combining data sets from multiple sources to represent the performance of one asset class. This was needed when a single source of data did not cover the entire period of interest.\n",
    "\n",
    "The following classes `SpliceSpec` and `PSeg` are used to describe sequences of data to splice together."
   ]
  },
  {
   "cell_type": "code",
   "execution_count": null,
   "metadata": {},
   "outputs": [],
   "source": [
    "#export\n",
    "\n",
    "@dataclass(frozen=True)\n",
    "class PSeg:\n",
    "    \"\"\"Asset filename and start date -- used to specify sequential concatenations of various asset prices.\n",
    "    \"\"\"\n",
    "    fname: str\n",
    "    start: str\n",
    "        \n",
    "    def __post_init__(self):\n",
    "        if self.start is None:\n",
    "            return\n",
    "        if not (isinstance(self.start, str) or isinstance(self.start, datetime)):\n",
    "            raise ValueError(\"The date field must be a string or datetime\")\n",
    "        # confirm that the 'date' string can be converted to a pd.Timestamp\n",
    "        pd.Timestamp(self.start)\n",
    "        \n",
    "    def __repr__(self):\n",
    "        # Show how the date string will be interpreted as by pd.Timestamp -- e.g., '2015'\n",
    "        # will be interpreted as the first day of the year, '2015-01-01'.\n",
    "        date_str = pd.Timestamp(self.start).date().isoformat()\n",
    "        return f\"{self.__class__.__qualname__}(fname={self.fname}, start={date_str})\"\n",
    "    \n",
    "    \n",
    "class SpliceSpec(NamedTuple):\n",
    "    \"\"\"Specification for a data source created from a sequence of asset prices.\n",
    "    \n",
    "    Fields:\n",
    "        - name: a name for the sequence\n",
    "        - sequence: a list of PSeg, indicating a sequence of asset price segments\n",
    "    \"\"\"\n",
    "    name: str\n",
    "    sequence: List[PSeg]"
   ]
  },
  {
   "cell_type": "markdown",
   "metadata": {},
   "source": [
    "Here is an example of loading period returns from a sequence of spliced data sources."
   ]
  },
  {
   "cell_type": "code",
   "execution_count": null,
   "metadata": {},
   "outputs": [
    {
     "data": {
      "text/html": [
       "<div>\n",
       "<style scoped>\n",
       "    .dataframe tbody tr th:only-of-type {\n",
       "        vertical-align: middle;\n",
       "    }\n",
       "\n",
       "    .dataframe tbody tr th {\n",
       "        vertical-align: top;\n",
       "    }\n",
       "\n",
       "    .dataframe thead th {\n",
       "        text-align: right;\n",
       "    }\n",
       "</style>\n",
       "<table border=\"1\" class=\"dataframe\">\n",
       "  <thead>\n",
       "    <tr style=\"text-align: right;\">\n",
       "      <th></th>\n",
       "      <th>Combined</th>\n",
       "    </tr>\n",
       "    <tr>\n",
       "      <th>Date</th>\n",
       "      <th></th>\n",
       "    </tr>\n",
       "  </thead>\n",
       "  <tbody>\n",
       "    <tr>\n",
       "      <th>2018-05-14</th>\n",
       "      <td>0.000272</td>\n",
       "    </tr>\n",
       "    <tr>\n",
       "      <th>2018-05-21</th>\n",
       "      <td>0.000544</td>\n",
       "    </tr>\n",
       "    <tr>\n",
       "      <th>2018-05-28</th>\n",
       "      <td>-0.001087</td>\n",
       "    </tr>\n",
       "    <tr>\n",
       "      <th>2018-06-04</th>\n",
       "      <td>0.016776</td>\n",
       "    </tr>\n",
       "    <tr>\n",
       "      <th>2018-06-11</th>\n",
       "      <td>-0.003810</td>\n",
       "    </tr>\n",
       "    <tr>\n",
       "      <th>2018-06-18</th>\n",
       "      <td>-0.004172</td>\n",
       "    </tr>\n",
       "    <tr>\n",
       "      <th>2018-06-25</th>\n",
       "      <td>-0.012594</td>\n",
       "    </tr>\n",
       "    <tr>\n",
       "      <th>2018-07-02</th>\n",
       "      <td>0.015261</td>\n",
       "    </tr>\n",
       "  </tbody>\n",
       "</table>\n",
       "</div>"
      ],
      "text/plain": [
       "            Combined\n",
       "Date                \n",
       "2018-05-14  0.000272\n",
       "2018-05-21  0.000544\n",
       "2018-05-28 -0.001087\n",
       "2018-06-04  0.016776\n",
       "2018-06-11 -0.003810\n",
       "2018-06-18 -0.004172\n",
       "2018-06-25 -0.012594\n",
       "2018-07-02  0.015261"
      ]
     },
     "execution_count": null,
     "metadata": {},
     "output_type": "execute_result"
    }
   ],
   "source": [
    "spec1 = SpliceSpec('Combined', [PSeg('SHV', None), PSeg('SPY', '2018-06')])\n",
    "res = tst_src.load_period_returns(spec1, subdir='weekly')\n",
    "\n",
    "# Note volatility of SHV is much lower than SPY, so you can easily see where the returns are spliced.\n",
    "res1 = res.loc['2018-05-14':'2018-07-02']\n",
    "res1"
   ]
  },
  {
   "cell_type": "code",
   "execution_count": null,
   "metadata": {},
   "outputs": [
    {
     "data": {
      "text/html": [
       "<div>\n",
       "<style scoped>\n",
       "    .dataframe tbody tr th:only-of-type {\n",
       "        vertical-align: middle;\n",
       "    }\n",
       "\n",
       "    .dataframe tbody tr th {\n",
       "        vertical-align: top;\n",
       "    }\n",
       "\n",
       "    .dataframe thead th {\n",
       "        text-align: right;\n",
       "    }\n",
       "</style>\n",
       "<table border=\"1\" class=\"dataframe\">\n",
       "  <thead>\n",
       "    <tr style=\"text-align: right;\">\n",
       "      <th></th>\n",
       "      <th>SHV</th>\n",
       "      <th>SPY</th>\n",
       "    </tr>\n",
       "    <tr>\n",
       "      <th>Date</th>\n",
       "      <th></th>\n",
       "      <th></th>\n",
       "    </tr>\n",
       "  </thead>\n",
       "  <tbody>\n",
       "    <tr>\n",
       "      <th>2018-05-14</th>\n",
       "      <td>0.000272</td>\n",
       "      <td>-0.005571</td>\n",
       "    </tr>\n",
       "    <tr>\n",
       "      <th>2018-05-21</th>\n",
       "      <td>0.000544</td>\n",
       "      <td>0.003022</td>\n",
       "    </tr>\n",
       "    <tr>\n",
       "      <th>2018-05-28</th>\n",
       "      <td>-0.001087</td>\n",
       "      <td>0.005328</td>\n",
       "    </tr>\n",
       "    <tr>\n",
       "      <th>2018-06-04</th>\n",
       "      <td>0.001524</td>\n",
       "      <td>0.016776</td>\n",
       "    </tr>\n",
       "    <tr>\n",
       "      <th>2018-06-11</th>\n",
       "      <td>0.000363</td>\n",
       "      <td>-0.003810</td>\n",
       "    </tr>\n",
       "    <tr>\n",
       "      <th>2018-06-18</th>\n",
       "      <td>0.000453</td>\n",
       "      <td>-0.004172</td>\n",
       "    </tr>\n",
       "    <tr>\n",
       "      <th>2018-06-25</th>\n",
       "      <td>0.000453</td>\n",
       "      <td>-0.012594</td>\n",
       "    </tr>\n",
       "    <tr>\n",
       "      <th>2018-07-02</th>\n",
       "      <td>-0.001087</td>\n",
       "      <td>0.015261</td>\n",
       "    </tr>\n",
       "  </tbody>\n",
       "</table>\n",
       "</div>"
      ],
      "text/plain": [
       "                 SHV       SPY\n",
       "Date                          \n",
       "2018-05-14  0.000272 -0.005571\n",
       "2018-05-21  0.000544  0.003022\n",
       "2018-05-28 -0.001087  0.005328\n",
       "2018-06-04  0.001524  0.016776\n",
       "2018-06-11  0.000363 -0.003810\n",
       "2018-06-18  0.000453 -0.004172\n",
       "2018-06-25  0.000453 -0.012594\n",
       "2018-07-02 -0.001087  0.015261"
      ]
     },
     "execution_count": null,
     "metadata": {},
     "output_type": "execute_result"
    }
   ],
   "source": [
    "#hide\n",
    "# For test:\n",
    "# load price data for comparison\n",
    "tst_prices = tst_src.loadAllAdjustedPrices(['SHV', 'SPY'], 'weekly').loc['2018-05':'2018-07-02']\n",
    "\n",
    "# Compute period returns for each of SHV, SPY\n",
    "tst_returns = tst_prices.pct_change().dropna()\n",
    "tst_returns"
   ]
  },
  {
   "cell_type": "code",
   "execution_count": null,
   "metadata": {},
   "outputs": [],
   "source": [
    "#hide\n",
    "# verify values of result are as expected -- \n",
    "# SHV returns through 2018-05\n",
    "assert np.array_equal(res1.Combined.loc[:'2018-05'].values, tst_returns.SHV.loc[:'2018-05'].values)\n",
    "# SPY returns from 2018-06\n",
    "assert np.array_equal(res1.Combined.loc['2018-06':].values, tst_returns.SPY.loc['2018-06':].values)"
   ]
  },
  {
   "cell_type": "markdown",
   "metadata": {},
   "source": [
    "## Compute Returns"
   ]
  },
  {
   "cell_type": "code",
   "execution_count": null,
   "metadata": {},
   "outputs": [],
   "source": [
    "#export\n",
    "def period_returns_from_prices(tik_prices, wr=False):\n",
    "    \"\"\"\n",
    "    Given one or more sequences of prices, compute the returns over each adjacent pair of rows.\n",
    "    Returns a dataframe containing period returns with row count one less than `tik_prices`.\n",
    "    \n",
    "    NOTE: You can also simply do: tik_prices.pct_change() for percent returns, or \n",
    "    tik_prices.pct_change() + 1 for wealth ratios.\n",
    "    \n",
    "    Arguments:\n",
    "        tik_prices: DataFrame of ordered prices: ticker column names, rows indexed by date\n",
    "        wr: if true, returns are represented as wealth ratios (1.01 <=> 1% return), else as \n",
    "        fractional returns (0.01 <=> 1% return)\n",
    "    \"\"\"\n",
    "    prices = tik_prices.to_numpy()\n",
    "    # 1st row of ratios is 2nd row of prices divided by first, & so forth\n",
    "    ratios = prices[1:] / prices[:-1]\n",
    "    returns = ratios - 1\n",
    "    return pd.DataFrame(ratios if wr else returns, index=tik_prices.index[1:], columns=tik_prices.columns)"
   ]
  },
  {
   "cell_type": "markdown",
   "metadata": {},
   "source": [
    "Create some example data to demonstrate usage of `period_returns_from_prices()`:"
   ]
  },
  {
   "cell_type": "code",
   "execution_count": null,
   "metadata": {},
   "outputs": [
    {
     "data": {
      "text/html": [
       "<div>\n",
       "<style scoped>\n",
       "    .dataframe tbody tr th:only-of-type {\n",
       "        vertical-align: middle;\n",
       "    }\n",
       "\n",
       "    .dataframe tbody tr th {\n",
       "        vertical-align: top;\n",
       "    }\n",
       "\n",
       "    .dataframe thead th {\n",
       "        text-align: right;\n",
       "    }\n",
       "</style>\n",
       "<table border=\"1\" class=\"dataframe\">\n",
       "  <thead>\n",
       "    <tr style=\"text-align: right;\">\n",
       "      <th></th>\n",
       "      <th>A</th>\n",
       "      <th>B</th>\n",
       "    </tr>\n",
       "    <tr>\n",
       "      <th>Date</th>\n",
       "      <th></th>\n",
       "      <th></th>\n",
       "    </tr>\n",
       "  </thead>\n",
       "  <tbody>\n",
       "    <tr>\n",
       "      <th>2017-05-01</th>\n",
       "      <td>1.00</td>\n",
       "      <td>1.00</td>\n",
       "    </tr>\n",
       "    <tr>\n",
       "      <th>2017-05-08</th>\n",
       "      <td>1.01</td>\n",
       "      <td>1.02</td>\n",
       "    </tr>\n",
       "    <tr>\n",
       "      <th>2017-05-15</th>\n",
       "      <td>1.00</td>\n",
       "      <td>1.10</td>\n",
       "    </tr>\n",
       "  </tbody>\n",
       "</table>\n",
       "</div>"
      ],
      "text/plain": [
       "               A     B\n",
       "Date                  \n",
       "2017-05-01  1.00  1.00\n",
       "2017-05-08  1.01  1.02\n",
       "2017-05-15  1.00  1.10"
      ]
     },
     "execution_count": null,
     "metadata": {},
     "output_type": "execute_result"
    }
   ],
   "source": [
    "# An easy way to get a datetime index\n",
    "spy_wk = tst_src.loadAdjustedPrices('SPY')\n",
    "\n",
    "# These values are ajdusted prices\n",
    "xmpl_data = pd.DataFrame({'A': [1.0, 1.01, 1.0],\n",
    "                          'B': [1.0, 1.02, 1.1]},\n",
    "                         index = spy_wk.index[4:7])\n",
    "xmpl_data"
   ]
  },
  {
   "cell_type": "markdown",
   "metadata": {},
   "source": [
    "Compute period returns."
   ]
  },
  {
   "cell_type": "code",
   "execution_count": null,
   "metadata": {},
   "outputs": [
    {
     "data": {
      "text/html": [
       "<div>\n",
       "<style scoped>\n",
       "    .dataframe tbody tr th:only-of-type {\n",
       "        vertical-align: middle;\n",
       "    }\n",
       "\n",
       "    .dataframe tbody tr th {\n",
       "        vertical-align: top;\n",
       "    }\n",
       "\n",
       "    .dataframe thead th {\n",
       "        text-align: right;\n",
       "    }\n",
       "</style>\n",
       "<table border=\"1\" class=\"dataframe\">\n",
       "  <thead>\n",
       "    <tr style=\"text-align: right;\">\n",
       "      <th></th>\n",
       "      <th>A</th>\n",
       "      <th>B</th>\n",
       "    </tr>\n",
       "    <tr>\n",
       "      <th>Date</th>\n",
       "      <th></th>\n",
       "      <th></th>\n",
       "    </tr>\n",
       "  </thead>\n",
       "  <tbody>\n",
       "    <tr>\n",
       "      <th>2017-05-08</th>\n",
       "      <td>0.010000</td>\n",
       "      <td>0.020000</td>\n",
       "    </tr>\n",
       "    <tr>\n",
       "      <th>2017-05-15</th>\n",
       "      <td>-0.009901</td>\n",
       "      <td>0.078431</td>\n",
       "    </tr>\n",
       "  </tbody>\n",
       "</table>\n",
       "</div>"
      ],
      "text/plain": [
       "                   A         B\n",
       "Date                          \n",
       "2017-05-08  0.010000  0.020000\n",
       "2017-05-15 -0.009901  0.078431"
      ]
     },
     "execution_count": null,
     "metadata": {},
     "output_type": "execute_result"
    }
   ],
   "source": [
    "per_rets = period_returns_from_prices(xmpl_data)\n",
    "per_rets"
   ]
  },
  {
   "cell_type": "markdown",
   "metadata": {},
   "source": [
    "Compute period returns as wealth ratios."
   ]
  },
  {
   "cell_type": "code",
   "execution_count": null,
   "metadata": {},
   "outputs": [
    {
     "data": {
      "text/html": [
       "<div>\n",
       "<style scoped>\n",
       "    .dataframe tbody tr th:only-of-type {\n",
       "        vertical-align: middle;\n",
       "    }\n",
       "\n",
       "    .dataframe tbody tr th {\n",
       "        vertical-align: top;\n",
       "    }\n",
       "\n",
       "    .dataframe thead th {\n",
       "        text-align: right;\n",
       "    }\n",
       "</style>\n",
       "<table border=\"1\" class=\"dataframe\">\n",
       "  <thead>\n",
       "    <tr style=\"text-align: right;\">\n",
       "      <th></th>\n",
       "      <th>A</th>\n",
       "      <th>B</th>\n",
       "    </tr>\n",
       "    <tr>\n",
       "      <th>Date</th>\n",
       "      <th></th>\n",
       "      <th></th>\n",
       "    </tr>\n",
       "  </thead>\n",
       "  <tbody>\n",
       "    <tr>\n",
       "      <th>2017-05-08</th>\n",
       "      <td>1.010000</td>\n",
       "      <td>1.020000</td>\n",
       "    </tr>\n",
       "    <tr>\n",
       "      <th>2017-05-15</th>\n",
       "      <td>0.990099</td>\n",
       "      <td>1.078431</td>\n",
       "    </tr>\n",
       "  </tbody>\n",
       "</table>\n",
       "</div>"
      ],
      "text/plain": [
       "                   A         B\n",
       "Date                          \n",
       "2017-05-08  1.010000  1.020000\n",
       "2017-05-15  0.990099  1.078431"
      ]
     },
     "execution_count": null,
     "metadata": {},
     "output_type": "execute_result"
    }
   ],
   "source": [
    "per_rets_wr = period_returns_from_prices(xmpl_data, wr=True)\n",
    "per_rets_wr"
   ]
  },
  {
   "cell_type": "code",
   "execution_count": null,
   "metadata": {},
   "outputs": [],
   "source": [
    "#hide\n",
    "\n",
    "# Automated Tests\n",
    "\n",
    "# period returns\n",
    "res1 = period_returns_from_prices(xmpl_data)\n",
    "test_eq(res1.iloc[0, 0], 1.01 / 1.0 - 1)\n",
    "test_eq(res1.iloc[1, 0], 1.00 / 1.01 - 1)\n",
    "test_eq(res1.iloc[0, 1], 1.02 / 1.0 - 1)\n",
    "test_eq(res1.iloc[1, 1], 1.1 / 1.02 - 1)\n",
    "\n",
    "# wealth ratios\n",
    "res1 = period_returns_from_prices(xmpl_data, wr=True)\n",
    "test_eq(res1.iloc[0, 0], 1.01 / 1.0)\n",
    "test_eq(res1.iloc[1, 0], 1.00 / 1.01)\n",
    "test_eq(res1.iloc[0, 1], 1.02 / 1.0)\n",
    "test_eq(res1.iloc[1, 1], 1.1 / 1.02)"
   ]
  },
  {
   "cell_type": "code",
   "execution_count": null,
   "metadata": {},
   "outputs": [],
   "source": [
    "#exporti\n",
    "# Internal use: used in computation of portfolio returns.\n",
    "\n",
    "def cum_wr_to_period_returns(cum_wr_ar, use_log = False):\n",
    "    \"\"\"\n",
    "    Convert 1D array of cumulative wealth ratios to period fractional returns (0.01 = 1% return)\n",
    "    The first element of `cum_wr_ar` is the wealth ratio for the corresponding period. (e.g., the first\n",
    "    element will be 1.01 if the corresponding period return is 1%.)\n",
    "    \n",
    "    Cumulative wealth ratios are used in the computation of rebalanced portfolio returns; use this \n",
    "    to convert from portfolio cumulative wr to portfolio period returns.\n",
    "    \n",
    "    Arguments:\n",
    "        cum_wr_ar: numpy array - dim 0 is time\n",
    "        \n",
    "    Return: \n",
    "        numpy array of period returns\n",
    "    \"\"\"\n",
    "    # add initial 1 so the ratio of `cum_wr_ar` offset by one with itself will be period returns\n",
    "    row1 = np.array([1.0])\n",
    "    ar_plus = np.concatenate([row1, cum_wr_ar], axis=0)\n",
    "    \n",
    "    if use_log:\n",
    "        return np.exp(np.log(ar_plus[1:]) - np.log(ar_plus[:-1])) - 1\n",
    "    else:\n",
    "        return ar_plus[1:] / ar_plus[:-1] - 1"
   ]
  },
  {
   "cell_type": "code",
   "execution_count": null,
   "metadata": {},
   "outputs": [
    {
     "data": {
      "text/html": [
       "<div>\n",
       "<style scoped>\n",
       "    .dataframe tbody tr th:only-of-type {\n",
       "        vertical-align: middle;\n",
       "    }\n",
       "\n",
       "    .dataframe tbody tr th {\n",
       "        vertical-align: top;\n",
       "    }\n",
       "\n",
       "    .dataframe thead th {\n",
       "        text-align: right;\n",
       "    }\n",
       "</style>\n",
       "<table border=\"1\" class=\"dataframe\">\n",
       "  <thead>\n",
       "    <tr style=\"text-align: right;\">\n",
       "      <th></th>\n",
       "      <th>A</th>\n",
       "      <th>B</th>\n",
       "    </tr>\n",
       "    <tr>\n",
       "      <th>Date</th>\n",
       "      <th></th>\n",
       "      <th></th>\n",
       "    </tr>\n",
       "  </thead>\n",
       "  <tbody>\n",
       "    <tr>\n",
       "      <th>2017-05-08</th>\n",
       "      <td>1.010000</td>\n",
       "      <td>1.020000</td>\n",
       "    </tr>\n",
       "    <tr>\n",
       "      <th>2017-05-15</th>\n",
       "      <td>0.990099</td>\n",
       "      <td>1.078431</td>\n",
       "    </tr>\n",
       "  </tbody>\n",
       "</table>\n",
       "</div>"
      ],
      "text/plain": [
       "                   A         B\n",
       "Date                          \n",
       "2017-05-08  1.010000  1.020000\n",
       "2017-05-15  0.990099  1.078431"
      ]
     },
     "execution_count": null,
     "metadata": {},
     "output_type": "execute_result"
    }
   ],
   "source": [
    "#hide\n",
    "# Example data to show usage of `cum_wr_to_period_returns()`\n",
    "per_rets_wr"
   ]
  },
  {
   "cell_type": "code",
   "execution_count": null,
   "metadata": {},
   "outputs": [
    {
     "data": {
      "text/html": [
       "<div>\n",
       "<style scoped>\n",
       "    .dataframe tbody tr th:only-of-type {\n",
       "        vertical-align: middle;\n",
       "    }\n",
       "\n",
       "    .dataframe tbody tr th {\n",
       "        vertical-align: top;\n",
       "    }\n",
       "\n",
       "    .dataframe thead th {\n",
       "        text-align: right;\n",
       "    }\n",
       "</style>\n",
       "<table border=\"1\" class=\"dataframe\">\n",
       "  <thead>\n",
       "    <tr style=\"text-align: right;\">\n",
       "      <th></th>\n",
       "      <th>A</th>\n",
       "      <th>B</th>\n",
       "    </tr>\n",
       "    <tr>\n",
       "      <th>Date</th>\n",
       "      <th></th>\n",
       "      <th></th>\n",
       "    </tr>\n",
       "  </thead>\n",
       "  <tbody>\n",
       "    <tr>\n",
       "      <th>2017-05-08</th>\n",
       "      <td>1.01</td>\n",
       "      <td>1.02</td>\n",
       "    </tr>\n",
       "    <tr>\n",
       "      <th>2017-05-15</th>\n",
       "      <td>1.00</td>\n",
       "      <td>1.10</td>\n",
       "    </tr>\n",
       "  </tbody>\n",
       "</table>\n",
       "</div>"
      ],
      "text/plain": [
       "               A     B\n",
       "Date                  \n",
       "2017-05-08  1.01  1.02\n",
       "2017-05-15  1.00  1.10"
      ]
     },
     "execution_count": null,
     "metadata": {},
     "output_type": "execute_result"
    }
   ],
   "source": [
    "#hide\n",
    "# compute cumulative returns for input to cum_wr_to_period_returns\n",
    "cum_rets = np.cumprod(per_rets_wr, axis=0)\n",
    "cum_rets"
   ]
  },
  {
   "cell_type": "code",
   "execution_count": null,
   "metadata": {},
   "outputs": [
    {
     "data": {
      "text/plain": [
       "array([ 0.01      , -0.00990099])"
      ]
     },
     "execution_count": null,
     "metadata": {},
     "output_type": "execute_result"
    }
   ],
   "source": [
    "#hide\n",
    "per_rets_A = cum_wr_to_period_returns(cum_rets['A'])\n",
    "per_rets_A"
   ]
  },
  {
   "cell_type": "code",
   "execution_count": null,
   "metadata": {},
   "outputs": [],
   "source": [
    "#hide\n",
    "# verify result of cum_wr_to_period_returns is equal to original period returns\n",
    "test_eq(cum_wr_to_period_returns(cum_rets['A']), per_rets['A'])\n",
    "test_eq(cum_wr_to_period_returns(cum_rets['B']), per_rets['B'])"
   ]
  },
  {
   "cell_type": "markdown",
   "metadata": {},
   "source": [
    "## Portfolio Returns"
   ]
  },
  {
   "cell_type": "code",
   "execution_count": null,
   "metadata": {},
   "outputs": [],
   "source": [
    "#exporti\n",
    "def pf_cum_wr_seq(price_df, weights, rebal_period, normalize_wts=False):\n",
    "    \"\"\"\n",
    "    Compute the sequence of cumulative portfolio wealth ratios from a sequence of asset prices, with \n",
    "    rebalancing at a fixed interval. \n",
    "    \n",
    "    Args:\n",
    "        price_df: Dataframe of asset returns as (noncumulative) wealth ratios, indexed by date\n",
    "        weights [list]: portfolio weights for each asset ordered the same as columns of `price_df`\n",
    "        rebal_period: length of the rebalance period, expressed in number of rows of `price_df`\n",
    "        \n",
    "    Returns:\n",
    "        A python (double) array containing the sequence of portfolio values (cumulative wealth ratios)\n",
    "    \"\"\"\n",
    "    # weights, as a 1-row 2D matrix\n",
    "    weight_ar = np.array([weights])\n",
    "    \n",
    "    if normalize_wts:\n",
    "        weight_ar = weight_ar / weight_ar.sum()\n",
    "    \n",
    "    # cols: wr's for a ticker.  rows: dates\n",
    "    returns = price_df.to_numpy()\n",
    "    \n",
    "    period_start_ind = 0\n",
    "    pf_val = 1\n",
    "    \n",
    "    # list of pf values:\n",
    "    pf_values = array.array('d')\n",
    "    \n",
    "    while (period_start_ind < returns.shape[0]):\n",
    "        # first row of array for cumprod is the initial capital per asset\n",
    "        row_1 = weight_ar * pf_val\n",
    "        \n",
    "        # get the data for the next rebalance period\n",
    "        rebal_period_return_data = returns[period_start_ind:period_start_ind+rebal_period]\n",
    "        \n",
    "        # Result of this operation: first row is initial capital per asset after rebalancing; \n",
    "        # each subsequent row is the capital at subsequent dates\n",
    "        ar_for_cumprod = np.append(row_1, rebal_period_return_data, axis=0)\n",
    "        asset_values = np.cumprod(ar_for_cumprod, axis=0)\n",
    "        \n",
    "        # Compute sequence of portfolio values: sum of columns (asset vals) for each row.\n",
    "        # Drop first value as it was the sum of the intitializing values (asset values).\n",
    "        pf_rebal_period_values = np.sum(asset_values, axis=1)[1:]\n",
    "        \n",
    "        # append portfolio values for the rebalancing period to `pf_values`\n",
    "        pf_values.extend(pf_rebal_period_values)\n",
    "        \n",
    "        # portfolio value at the end of the rebal period; use to compute starting capital\n",
    "        # for each asset at the start of the next rebalancing period.\n",
    "        pf_val = pf_rebal_period_values[-1]\n",
    "        \n",
    "        period_start_ind += rebal_period\n",
    "        \n",
    "    return pf_values"
   ]
  },
  {
   "cell_type": "code",
   "execution_count": null,
   "metadata": {},
   "outputs": [],
   "source": [
    "#export\n",
    "def pf_period_returns(price_df, weights, rebal_period, pf_name, pf_start_val = 1, normalize_wts=False):\n",
    "    \"\"\"\n",
    "    Compute the sequence of portfolio period returns from a sequence of asset prices, with rebalancing \n",
    "    at a fixed interval.\n",
    "    \n",
    "    Arguments:\n",
    "        price_df: Dataframe of asset returns as (noncumulative) wealth ratios, indexed by date\n",
    "        weights: portfolio weights for each asset ordered the same as columns of `price_df`\n",
    "        pf_name: name for this portfolio -- will appear as column name\n",
    "        rebal_period: length of the rebalance period, expressed in number of rows of `price_df`\n",
    "        \n",
    "    Returns:\n",
    "        A DataFrame containing the sequence of portfolio period returns\n",
    "    \"\"\"\n",
    "    # Compute portfolio cumulative wealth ratios (with rebalancing).\n",
    "    pf_val_ar = np.asarray(pf_cum_wr_seq(price_df, weights, rebal_period, normalize_wts))\n",
    "    \n",
    "    # Cumulative wealth ratios to period returns\n",
    "    pf_ret_ar = cum_wr_to_period_returns(pf_val_ar)\n",
    "    \n",
    "    return pd.DataFrame(pf_ret_ar, index=price_df.index, columns=[pf_name])"
   ]
  },
  {
   "cell_type": "markdown",
   "metadata": {},
   "source": [
    "**Entry point for computing portfolio returns:**"
   ]
  },
  {
   "cell_type": "code",
   "execution_count": null,
   "metadata": {},
   "outputs": [],
   "source": [
    "#export\n",
    "def computePortfolioReturns(p_src: PriceSource, asset_weights, pf_name, rebal_period, \n",
    "                            period='weekly',start_date='2017-05-01', normalize_wts=True, wr=False):\n",
    "    \"\"\"\n",
    "    Given tickers and their weights, compute the sequence of portfolio returns with rebalancing at the specified interval.\n",
    "    \n",
    "    Arguments:\n",
    "        p_src\n",
    "        asset_weights: dictionary from ticker to weight for this asset in pf (weights will)\n",
    "        pf_name: name for this portfolio -- will appear as column name\n",
    "        rebal_period: length of the rebalance period, expressed in number of rows of `price_df`\n",
    "        period: 'weekly', or 'monthly'\n",
    "        start_date: date of first period in sequence; first rebalance period begins with this period\n",
    "        normalize_wts: if true, normalize weights to sum to 1\n",
    "        wr: if False, returns expressed as period returns (value of 0.01 => 1% return) else as wealth ratios\n",
    "        (value of 1.01 => 1% return)\n",
    "        \n",
    "    Returns:\n",
    "        A DataFrame containing the sequence of portfolio returns , indexed by date.\n",
    "    \"\"\"\n",
    "    adjPrices = p_src.loadAllAdjustedPrices(list(asset_weights.keys()), subdir=period)\n",
    "    asset_returns = period_returns_from_prices(adjPrices, wr=True).loc[start_date:]\n",
    "    \n",
    "    per_returns = pf_period_returns(asset_returns, \n",
    "                             list(asset_weights.values()), \n",
    "                             rebal_period, \n",
    "                             pf_name, \n",
    "                             normalize_wts=normalize_wts).loc[start_date:]\n",
    "    if wr:\n",
    "        return 1 + per_returns\n",
    "    else:\n",
    "        return per_returns"
   ]
  },
  {
   "cell_type": "markdown",
   "metadata": {},
   "source": [
    "**Entry Point that allows SpliceSpec**"
   ]
  },
  {
   "cell_type": "code",
   "execution_count": null,
   "metadata": {},
   "outputs": [],
   "source": [
    "#export\n",
    "def computePortfolioReturns2(p_src: PriceSource, asset_wt_list, pf_name, rebal_period, \n",
    "                            period=None, start_date=None, normalize_wts=True, wr=False):\n",
    "    \"\"\"\n",
    "    Given asset specs and their weights, compute the sequence of portfolio returns with rebalancing at the specified interval.\n",
    "    \n",
    "    Arguments:\n",
    "     - p_src: PriceSource for price data\n",
    "     - asset_wt_list: list of (asset_spec, asset_weight)\n",
    "     - pf_name: name for this portfolio -- will appear as column name\n",
    "     - rebal_period: length of the rebalance period, expressed in number of rows of `price_df`\n",
    "     - period: Either None, 'daily', 'weekly', or 'monthly'. If None, use `p_src` default.\n",
    "     - start_date: None or date of first period in sequence; first rebalance period begins with this period.\n",
    "       If None, use first date available for all assets.\n",
    "     - normalize_wts: if true, normalize weights to sum to 1\n",
    "     - wr: if False, returns expressed as period returns (value of 0.01 => 1% return) else as wealth ratios\n",
    "        (value of 1.01 => 1% return)\n",
    "        \n",
    "    Returns:\n",
    "        A DataFrame containing the sequence of portfolio returns , indexed by date.\n",
    "    \"\"\"\n",
    "    all_period_returns = [p_src.load_period_returns(spec, period) for spec, _ in asset_wt_list]\n",
    "    asset_returns = pd.concat(all_period_returns, axis=1, join='inner')\n",
    "    # return asset_returns\n",
    "    asset_returns = asset_returns + 1  # returns as wealth ratios\n",
    "    if start_date:\n",
    "        asset_returns = asset_returns.loc[start_date:]\n",
    "    \n",
    "    per_returns = pf_period_returns(asset_returns, \n",
    "                             [wt for _, wt in asset_wt_list], \n",
    "                             rebal_period, \n",
    "                             pf_name, \n",
    "                             normalize_wts=normalize_wts)\n",
    "    if wr:\n",
    "        return 1 + per_returns\n",
    "    else:\n",
    "        return per_returns"
   ]
  },
  {
   "cell_type": "code",
   "execution_count": null,
   "metadata": {},
   "outputs": [],
   "source": [
    "src1 = PriceSource(r'..\\data\\TrendFollowing', subdir_default='monthly')"
   ]
  },
  {
   "cell_type": "code",
   "execution_count": null,
   "metadata": {},
   "outputs": [],
   "source": [
    "commodities_spec = SpliceSpec('Commodities', [PSeg('crb_spot_adj_2_07', None), PSeg('dbiq_index', '1988-12-01')])\n",
    "# Do the best we can with what's available\n",
    "# - before 1980, just interm treasuries in place of long-term\n",
    "# - after 1980, use Fidelity bond as stand-in for both parts of bond portfolio\n",
    "# - TLT data starts in 2002 -- here we can follow actual prescribed allocation\n",
    "lt_bond_spec =  SpliceSpec('LT_Bond', [PSeg('US10yr', None), PSeg('FBNDX', '1980-01'), PSeg('TLT', '2002-07')])\n",
    "int_bond_spec = SpliceSpec('IT_Bond', [PSeg('US10yr', None), PSeg('FBNDX', '1980-01'), PSeg('US10yr', '2002-07')])"
   ]
  },
  {
   "cell_type": "code",
   "execution_count": null,
   "metadata": {},
   "outputs": [],
   "source": [
    "asset_spec = [('^GSPC', 0.3), (int_bond_spec, .15), (lt_bond_spec, .40), (commodities_spec, .075), ('gold', 0.075)]\n",
    "df = computePortfolioReturns2(src1, asset_spec, \"All_Weather\", 3)"
   ]
  },
  {
   "cell_type": "code",
   "execution_count": null,
   "metadata": {},
   "outputs": [
    {
     "data": {
      "text/html": [
       "<div>\n",
       "<style scoped>\n",
       "    .dataframe tbody tr th:only-of-type {\n",
       "        vertical-align: middle;\n",
       "    }\n",
       "\n",
       "    .dataframe tbody tr th {\n",
       "        vertical-align: top;\n",
       "    }\n",
       "\n",
       "    .dataframe thead th {\n",
       "        text-align: right;\n",
       "    }\n",
       "</style>\n",
       "<table border=\"1\" class=\"dataframe\">\n",
       "  <thead>\n",
       "    <tr style=\"text-align: right;\">\n",
       "      <th></th>\n",
       "      <th>^GSPC</th>\n",
       "      <th>IT_Bond</th>\n",
       "      <th>LT_Bond</th>\n",
       "      <th>Commodities</th>\n",
       "      <th>gold</th>\n",
       "    </tr>\n",
       "    <tr>\n",
       "      <th>Date</th>\n",
       "      <th></th>\n",
       "      <th></th>\n",
       "      <th></th>\n",
       "      <th></th>\n",
       "      <th></th>\n",
       "    </tr>\n",
       "  </thead>\n",
       "  <tbody>\n",
       "    <tr>\n",
       "      <th>1970-03-01</th>\n",
       "      <td>0.001452</td>\n",
       "      <td>-0.006921</td>\n",
       "      <td>-0.006921</td>\n",
       "      <td>-0.008281</td>\n",
       "      <td>0.007995</td>\n",
       "    </tr>\n",
       "    <tr>\n",
       "      <th>1970-04-01</th>\n",
       "      <td>-0.090483</td>\n",
       "      <td>-0.044506</td>\n",
       "      <td>-0.044506</td>\n",
       "      <td>-0.027712</td>\n",
       "      <td>0.015581</td>\n",
       "    </tr>\n",
       "    <tr>\n",
       "      <th>1970-05-01</th>\n",
       "      <td>-0.060967</td>\n",
       "      <td>-0.002288</td>\n",
       "      <td>-0.002288</td>\n",
       "      <td>-0.044557</td>\n",
       "      <td>-0.011158</td>\n",
       "    </tr>\n",
       "    <tr>\n",
       "      <th>1970-06-01</th>\n",
       "      <td>-0.050033</td>\n",
       "      <td>0.025130</td>\n",
       "      <td>0.025130</td>\n",
       "      <td>0.012324</td>\n",
       "      <td>0.001128</td>\n",
       "    </tr>\n",
       "  </tbody>\n",
       "</table>\n",
       "</div>"
      ],
      "text/plain": [
       "               ^GSPC   IT_Bond   LT_Bond  Commodities      gold\n",
       "Date                                                           \n",
       "1970-03-01  0.001452 -0.006921 -0.006921    -0.008281  0.007995\n",
       "1970-04-01 -0.090483 -0.044506 -0.044506    -0.027712  0.015581\n",
       "1970-05-01 -0.060967 -0.002288 -0.002288    -0.044557 -0.011158\n",
       "1970-06-01 -0.050033  0.025130  0.025130     0.012324  0.001128"
      ]
     },
     "execution_count": null,
     "metadata": {},
     "output_type": "execute_result"
    }
   ],
   "source": [
    "df.head(4)"
   ]
  },
  {
   "cell_type": "code",
   "execution_count": null,
   "metadata": {},
   "outputs": [
    {
     "data": {
      "text/html": [
       "<div>\n",
       "<style scoped>\n",
       "    .dataframe tbody tr th:only-of-type {\n",
       "        vertical-align: middle;\n",
       "    }\n",
       "\n",
       "    .dataframe tbody tr th {\n",
       "        vertical-align: top;\n",
       "    }\n",
       "\n",
       "    .dataframe thead th {\n",
       "        text-align: right;\n",
       "    }\n",
       "</style>\n",
       "<table border=\"1\" class=\"dataframe\">\n",
       "  <thead>\n",
       "    <tr style=\"text-align: right;\">\n",
       "      <th></th>\n",
       "      <th>^GSPC</th>\n",
       "      <th>IT_Bond</th>\n",
       "      <th>LT_Bond</th>\n",
       "      <th>Commodities</th>\n",
       "      <th>gold</th>\n",
       "    </tr>\n",
       "    <tr>\n",
       "      <th>Date</th>\n",
       "      <th></th>\n",
       "      <th></th>\n",
       "      <th></th>\n",
       "      <th></th>\n",
       "      <th></th>\n",
       "    </tr>\n",
       "  </thead>\n",
       "  <tbody>\n",
       "    <tr>\n",
       "      <th>2019-02-01</th>\n",
       "      <td>0.029729</td>\n",
       "      <td>-0.006445</td>\n",
       "      <td>-0.015987</td>\n",
       "      <td>0.028842</td>\n",
       "      <td>-0.003098</td>\n",
       "    </tr>\n",
       "    <tr>\n",
       "      <th>2019-03-01</th>\n",
       "      <td>0.017924</td>\n",
       "      <td>0.030352</td>\n",
       "      <td>0.055872</td>\n",
       "      <td>-0.004953</td>\n",
       "      <td>-0.018004</td>\n",
       "    </tr>\n",
       "    <tr>\n",
       "      <th>2019-04-01</th>\n",
       "      <td>0.039313</td>\n",
       "      <td>-0.006722</td>\n",
       "      <td>-0.020000</td>\n",
       "      <td>0.010310</td>\n",
       "      <td>-0.010113</td>\n",
       "    </tr>\n",
       "    <tr>\n",
       "      <th>2019-05-01</th>\n",
       "      <td>-0.065778</td>\n",
       "      <td>0.034994</td>\n",
       "      <td>0.068503</td>\n",
       "      <td>-0.058215</td>\n",
       "      <td>0.010333</td>\n",
       "    </tr>\n",
       "  </tbody>\n",
       "</table>\n",
       "</div>"
      ],
      "text/plain": [
       "               ^GSPC   IT_Bond   LT_Bond  Commodities      gold\n",
       "Date                                                           \n",
       "2019-02-01  0.029729 -0.006445 -0.015987     0.028842 -0.003098\n",
       "2019-03-01  0.017924  0.030352  0.055872    -0.004953 -0.018004\n",
       "2019-04-01  0.039313 -0.006722 -0.020000     0.010310 -0.010113\n",
       "2019-05-01 -0.065778  0.034994  0.068503    -0.058215  0.010333"
      ]
     },
     "execution_count": null,
     "metadata": {},
     "output_type": "execute_result"
    }
   ],
   "source": [
    "df.tail(4)"
   ]
  },
  {
   "cell_type": "code",
   "execution_count": null,
   "metadata": {},
   "outputs": [],
   "source": [
    "import empyrical.stats as estats\n",
    "import matplotlib.pyplot as plt\n",
    "\n",
    "%matplotlib inline"
   ]
  },
  {
   "cell_type": "code",
   "execution_count": null,
   "metadata": {},
   "outputs": [
    {
     "data": {
      "image/png": "[encoded data removed]",
      "text/plain": [
       "<Figure size 864x432 with 1 Axes>"
      ]
     },
     "metadata": {
      "needs_background": "light"
     },
     "output_type": "display_data"
    }
   ],
   "source": [
    "estats.cum_returns(df, 100).plot.line(figsize=(12,6));\n",
    "plt.yscale('log')"
   ]
  },
  {
   "cell_type": "code",
   "execution_count": null,
   "metadata": {},
   "outputs": [],
   "source": [
    "df_pf = computePortfolioReturns2(src1, asset_spec, \"All_Weather\", 3)"
   ]
  },
  {
   "cell_type": "code",
   "execution_count": null,
   "metadata": {},
   "outputs": [
    {
     "data": {
      "image/png": "[encoded data removed]",
      "text/plain": [
       "<Figure size 864x432 with 1 Axes>"
      ]
     },
     "metadata": {
      "needs_background": "light"
     },
     "output_type": "display_data"
    }
   ],
   "source": [
    "estats.cum_returns(df_pf, 100).plot.line(figsize=(12,6));\n",
    "plt.yscale('log')"
   ]
  },
  {
   "cell_type": "code",
   "execution_count": null,
   "metadata": {},
   "outputs": [
    {
     "data": {
      "text/html": [
       "<div>\n",
       "<style scoped>\n",
       "    .dataframe tbody tr th:only-of-type {\n",
       "        vertical-align: middle;\n",
       "    }\n",
       "\n",
       "    .dataframe tbody tr th {\n",
       "        vertical-align: top;\n",
       "    }\n",
       "\n",
       "    .dataframe thead th {\n",
       "        text-align: right;\n",
       "    }\n",
       "</style>\n",
       "<table border=\"1\" class=\"dataframe\">\n",
       "  <thead>\n",
       "    <tr style=\"text-align: right;\">\n",
       "      <th></th>\n",
       "      <th>^GSPC</th>\n",
       "      <th>IT_Bond</th>\n",
       "      <th>LT_Bond</th>\n",
       "      <th>Commodities</th>\n",
       "      <th>gold</th>\n",
       "      <th>All_Weather</th>\n",
       "    </tr>\n",
       "    <tr>\n",
       "      <th>Date</th>\n",
       "      <th></th>\n",
       "      <th></th>\n",
       "      <th></th>\n",
       "      <th></th>\n",
       "      <th></th>\n",
       "      <th></th>\n",
       "    </tr>\n",
       "  </thead>\n",
       "  <tbody>\n",
       "    <tr>\n",
       "      <th>1970-03-01</th>\n",
       "      <td>0.001452</td>\n",
       "      <td>-0.006921</td>\n",
       "      <td>-0.006921</td>\n",
       "      <td>-0.008281</td>\n",
       "      <td>0.007995</td>\n",
       "      <td>-0.003392</td>\n",
       "    </tr>\n",
       "    <tr>\n",
       "      <th>1970-04-01</th>\n",
       "      <td>-0.090483</td>\n",
       "      <td>-0.044506</td>\n",
       "      <td>-0.044506</td>\n",
       "      <td>-0.027712</td>\n",
       "      <td>0.015581</td>\n",
       "      <td>-0.052555</td>\n",
       "    </tr>\n",
       "    <tr>\n",
       "      <th>1970-05-01</th>\n",
       "      <td>-0.060967</td>\n",
       "      <td>-0.002288</td>\n",
       "      <td>-0.002288</td>\n",
       "      <td>-0.044557</td>\n",
       "      <td>-0.011158</td>\n",
       "      <td>-0.023227</td>\n",
       "    </tr>\n",
       "    <tr>\n",
       "      <th>1970-06-01</th>\n",
       "      <td>-0.050033</td>\n",
       "      <td>0.025130</td>\n",
       "      <td>0.025130</td>\n",
       "      <td>0.012324</td>\n",
       "      <td>0.001128</td>\n",
       "      <td>-0.000179</td>\n",
       "    </tr>\n",
       "    <tr>\n",
       "      <th>1970-07-01</th>\n",
       "      <td>0.073295</td>\n",
       "      <td>0.027237</td>\n",
       "      <td>0.027237</td>\n",
       "      <td>0.006742</td>\n",
       "      <td>-0.005354</td>\n",
       "      <td>0.036362</td>\n",
       "    </tr>\n",
       "  </tbody>\n",
       "</table>\n",
       "</div>"
      ],
      "text/plain": [
       "               ^GSPC   IT_Bond   LT_Bond  Commodities      gold  All_Weather\n",
       "Date                                                                        \n",
       "1970-03-01  0.001452 -0.006921 -0.006921    -0.008281  0.007995    -0.003392\n",
       "1970-04-01 -0.090483 -0.044506 -0.044506    -0.027712  0.015581    -0.052555\n",
       "1970-05-01 -0.060967 -0.002288 -0.002288    -0.044557 -0.011158    -0.023227\n",
       "1970-06-01 -0.050033  0.025130  0.025130     0.012324  0.001128    -0.000179\n",
       "1970-07-01  0.073295  0.027237  0.027237     0.006742 -0.005354     0.036362"
      ]
     },
     "execution_count": null,
     "metadata": {},
     "output_type": "execute_result"
    }
   ],
   "source": [
    "df_all = pd.concat([df, df_pf], axis=1, join='inner')\n",
    "df_all.head()"
   ]
  },
  {
   "cell_type": "code",
   "execution_count": null,
   "metadata": {},
   "outputs": [
    {
     "data": {
      "image/png": "[encoded data removed]",
      "text/plain": [
       "<Figure size 1152x720 with 1 Axes>"
      ]
     },
     "metadata": {
      "needs_background": "light"
     },
     "output_type": "display_data"
    }
   ],
   "source": [
    "estats.cum_returns(df_all, 100).plot.line(figsize=(16,10));\n",
    "plt.yscale('log')"
   ]
  },
  {
   "cell_type": "code",
   "execution_count": null,
   "metadata": {},
   "outputs": [
    {
     "data": {
      "text/html": [
       "<div>\n",
       "<style scoped>\n",
       "    .dataframe tbody tr th:only-of-type {\n",
       "        vertical-align: middle;\n",
       "    }\n",
       "\n",
       "    .dataframe tbody tr th {\n",
       "        vertical-align: top;\n",
       "    }\n",
       "\n",
       "    .dataframe thead th {\n",
       "        text-align: right;\n",
       "    }\n",
       "</style>\n",
       "<table border=\"1\" class=\"dataframe\">\n",
       "  <thead>\n",
       "    <tr style=\"text-align: right;\">\n",
       "      <th></th>\n",
       "      <th>All_Weather</th>\n",
       "    </tr>\n",
       "    <tr>\n",
       "      <th>Date</th>\n",
       "      <th></th>\n",
       "    </tr>\n",
       "  </thead>\n",
       "  <tbody>\n",
       "    <tr>\n",
       "      <th>1970-03-01</th>\n",
       "      <td>-0.003392</td>\n",
       "    </tr>\n",
       "    <tr>\n",
       "      <th>1970-04-01</th>\n",
       "      <td>-0.052555</td>\n",
       "    </tr>\n",
       "    <tr>\n",
       "      <th>1970-05-01</th>\n",
       "      <td>-0.023227</td>\n",
       "    </tr>\n",
       "    <tr>\n",
       "      <th>1970-06-01</th>\n",
       "      <td>-0.000179</td>\n",
       "    </tr>\n",
       "    <tr>\n",
       "      <th>1970-07-01</th>\n",
       "      <td>0.036362</td>\n",
       "    </tr>\n",
       "  </tbody>\n",
       "</table>\n",
       "</div>"
      ],
      "text/plain": [
       "            All_Weather\n",
       "Date                   \n",
       "1970-03-01    -0.003392\n",
       "1970-04-01    -0.052555\n",
       "1970-05-01    -0.023227\n",
       "1970-06-01    -0.000179\n",
       "1970-07-01     0.036362"
      ]
     },
     "execution_count": null,
     "metadata": {},
     "output_type": "execute_result"
    }
   ],
   "source": [
    "df_pf.head()"
   ]
  },
  {
   "cell_type": "code",
   "execution_count": null,
   "metadata": {},
   "outputs": [
    {
     "data": {
      "text/html": [
       "<div>\n",
       "<style scoped>\n",
       "    .dataframe tbody tr th:only-of-type {\n",
       "        vertical-align: middle;\n",
       "    }\n",
       "\n",
       "    .dataframe tbody tr th {\n",
       "        vertical-align: top;\n",
       "    }\n",
       "\n",
       "    .dataframe thead th {\n",
       "        text-align: right;\n",
       "    }\n",
       "</style>\n",
       "<table border=\"1\" class=\"dataframe\">\n",
       "  <thead>\n",
       "    <tr style=\"text-align: right;\">\n",
       "      <th></th>\n",
       "      <th>All_Weather</th>\n",
       "    </tr>\n",
       "    <tr>\n",
       "      <th>Date</th>\n",
       "      <th></th>\n",
       "    </tr>\n",
       "  </thead>\n",
       "  <tbody>\n",
       "    <tr>\n",
       "      <th>2019-01-01</th>\n",
       "      <td>0.034060</td>\n",
       "    </tr>\n",
       "    <tr>\n",
       "      <th>2019-02-01</th>\n",
       "      <td>0.002787</td>\n",
       "    </tr>\n",
       "    <tr>\n",
       "      <th>2019-03-01</th>\n",
       "      <td>0.030557</td>\n",
       "    </tr>\n",
       "    <tr>\n",
       "      <th>2019-04-01</th>\n",
       "      <td>0.002469</td>\n",
       "    </tr>\n",
       "    <tr>\n",
       "      <th>2019-05-01</th>\n",
       "      <td>0.008918</td>\n",
       "    </tr>\n",
       "  </tbody>\n",
       "</table>\n",
       "</div>"
      ],
      "text/plain": [
       "            All_Weather\n",
       "Date                   \n",
       "2019-01-01     0.034060\n",
       "2019-02-01     0.002787\n",
       "2019-03-01     0.030557\n",
       "2019-04-01     0.002469\n",
       "2019-05-01     0.008918"
      ]
     },
     "execution_count": null,
     "metadata": {},
     "output_type": "execute_result"
    }
   ],
   "source": [
    "df_pf.tail()"
   ]
  },
  {
   "cell_type": "markdown",
   "metadata": {},
   "source": [
    "### Tests"
   ]
  },
  {
   "cell_type": "markdown",
   "metadata": {},
   "source": [
    "**Set up data**"
   ]
  },
  {
   "cell_type": "code",
   "execution_count": null,
   "metadata": {},
   "outputs": [],
   "source": [
    "prices_6040 = tst_src.loadAllAdjustedPrices(['TLT', 'SPY'])\n",
    "wr_6040 = period_returns_from_prices(prices_6040, wr=True)"
   ]
  },
  {
   "cell_type": "code",
   "execution_count": null,
   "metadata": {},
   "outputs": [
    {
     "data": {
      "text/html": [
       "<div>\n",
       "<style scoped>\n",
       "    .dataframe tbody tr th:only-of-type {\n",
       "        vertical-align: middle;\n",
       "    }\n",
       "\n",
       "    .dataframe tbody tr th {\n",
       "        vertical-align: top;\n",
       "    }\n",
       "\n",
       "    .dataframe thead th {\n",
       "        text-align: right;\n",
       "    }\n",
       "</style>\n",
       "<table border=\"1\" class=\"dataframe\">\n",
       "  <thead>\n",
       "    <tr style=\"text-align: right;\">\n",
       "      <th></th>\n",
       "      <th>TLT</th>\n",
       "      <th>SPY</th>\n",
       "    </tr>\n",
       "    <tr>\n",
       "      <th>Date</th>\n",
       "      <th></th>\n",
       "      <th></th>\n",
       "    </tr>\n",
       "  </thead>\n",
       "  <tbody>\n",
       "    <tr>\n",
       "      <th>2017-04-10</th>\n",
       "      <td>1.025030</td>\n",
       "      <td>0.988563</td>\n",
       "    </tr>\n",
       "    <tr>\n",
       "      <th>2017-04-17</th>\n",
       "      <td>1.000567</td>\n",
       "      <td>1.008946</td>\n",
       "    </tr>\n",
       "    <tr>\n",
       "      <th>2017-04-24</th>\n",
       "      <td>0.990368</td>\n",
       "      <td>1.014877</td>\n",
       "    </tr>\n",
       "    <tr>\n",
       "      <th>2017-05-01</th>\n",
       "      <td>0.991336</td>\n",
       "      <td>1.006804</td>\n",
       "    </tr>\n",
       "    <tr>\n",
       "      <th>2017-05-08</th>\n",
       "      <td>1.002915</td>\n",
       "      <td>0.996996</td>\n",
       "    </tr>\n",
       "  </tbody>\n",
       "</table>\n",
       "</div>"
      ],
      "text/plain": [
       "                 TLT       SPY\n",
       "Date                          \n",
       "2017-04-10  1.025030  0.988563\n",
       "2017-04-17  1.000567  1.008946\n",
       "2017-04-24  0.990368  1.014877\n",
       "2017-05-01  0.991336  1.006804\n",
       "2017-05-08  1.002915  0.996996"
      ]
     },
     "execution_count": null,
     "metadata": {},
     "output_type": "execute_result"
    }
   ],
   "source": [
    "wr_6040.head()"
   ]
  },
  {
   "cell_type": "code",
   "execution_count": null,
   "metadata": {},
   "outputs": [
    {
     "data": {
      "text/html": [
       "<div>\n",
       "<style scoped>\n",
       "    .dataframe tbody tr th:only-of-type {\n",
       "        vertical-align: middle;\n",
       "    }\n",
       "\n",
       "    .dataframe tbody tr th {\n",
       "        vertical-align: top;\n",
       "    }\n",
       "\n",
       "    .dataframe thead th {\n",
       "        text-align: right;\n",
       "    }\n",
       "</style>\n",
       "<table border=\"1\" class=\"dataframe\">\n",
       "  <thead>\n",
       "    <tr style=\"text-align: right;\">\n",
       "      <th></th>\n",
       "      <th>TLT</th>\n",
       "      <th>SPY</th>\n",
       "    </tr>\n",
       "    <tr>\n",
       "      <th>Date</th>\n",
       "      <th></th>\n",
       "      <th></th>\n",
       "    </tr>\n",
       "  </thead>\n",
       "  <tbody>\n",
       "    <tr>\n",
       "      <th>2020-02-17</th>\n",
       "      <td>1.024144</td>\n",
       "      <td>0.987796</td>\n",
       "    </tr>\n",
       "    <tr>\n",
       "      <th>2020-02-24</th>\n",
       "      <td>1.049108</td>\n",
       "      <td>0.888389</td>\n",
       "    </tr>\n",
       "    <tr>\n",
       "      <th>2020-03-02</th>\n",
       "      <td>1.073788</td>\n",
       "      <td>1.004050</td>\n",
       "    </tr>\n",
       "    <tr>\n",
       "      <th>2020-03-09</th>\n",
       "      <td>0.924431</td>\n",
       "      <td>0.905399</td>\n",
       "    </tr>\n",
       "    <tr>\n",
       "      <th>2020-03-16</th>\n",
       "      <td>1.035663</td>\n",
       "      <td>0.849547</td>\n",
       "    </tr>\n",
       "    <tr>\n",
       "      <th>2020-03-23</th>\n",
       "      <td>1.051872</td>\n",
       "      <td>1.114118</td>\n",
       "    </tr>\n",
       "    <tr>\n",
       "      <th>2020-03-30</th>\n",
       "      <td>1.004771</td>\n",
       "      <td>0.979362</td>\n",
       "    </tr>\n",
       "  </tbody>\n",
       "</table>\n",
       "</div>"
      ],
      "text/plain": [
       "                 TLT       SPY\n",
       "Date                          \n",
       "2020-02-17  1.024144  0.987796\n",
       "2020-02-24  1.049108  0.888389\n",
       "2020-03-02  1.073788  1.004050\n",
       "2020-03-09  0.924431  0.905399\n",
       "2020-03-16  1.035663  0.849547\n",
       "2020-03-23  1.051872  1.114118\n",
       "2020-03-30  1.004771  0.979362"
      ]
     },
     "execution_count": null,
     "metadata": {},
     "output_type": "execute_result"
    }
   ],
   "source": [
    "# assume a rebalance period of 3\n",
    "# For interest, choose a short period of high volatility\n",
    "test_6040 = wr_6040.loc['2020-02-17':'2020-03-30']\n",
    "test_6040"
   ]
  },
  {
   "cell_type": "code",
   "execution_count": null,
   "metadata": {},
   "outputs": [
    {
     "data": {
      "text/html": [
       "<div>\n",
       "<style scoped>\n",
       "    .dataframe tbody tr th:only-of-type {\n",
       "        vertical-align: middle;\n",
       "    }\n",
       "\n",
       "    .dataframe tbody tr th {\n",
       "        vertical-align: top;\n",
       "    }\n",
       "\n",
       "    .dataframe thead th {\n",
       "        text-align: right;\n",
       "    }\n",
       "</style>\n",
       "<table border=\"1\" class=\"dataframe\">\n",
       "  <thead>\n",
       "    <tr style=\"text-align: right;\">\n",
       "      <th></th>\n",
       "      <th>TLT</th>\n",
       "      <th>SPY</th>\n",
       "    </tr>\n",
       "    <tr>\n",
       "      <th>Date</th>\n",
       "      <th></th>\n",
       "      <th></th>\n",
       "    </tr>\n",
       "  </thead>\n",
       "  <tbody>\n",
       "    <tr>\n",
       "      <th>2020-02-17</th>\n",
       "      <td>1.024144</td>\n",
       "      <td>0.987796</td>\n",
       "    </tr>\n",
       "    <tr>\n",
       "      <th>2020-02-24</th>\n",
       "      <td>1.049108</td>\n",
       "      <td>0.888389</td>\n",
       "    </tr>\n",
       "    <tr>\n",
       "      <th>2020-03-02</th>\n",
       "      <td>1.073788</td>\n",
       "      <td>1.004050</td>\n",
       "    </tr>\n",
       "    <tr>\n",
       "      <th>2020-03-09</th>\n",
       "      <td>0.924431</td>\n",
       "      <td>0.905399</td>\n",
       "    </tr>\n",
       "    <tr>\n",
       "      <th>2020-03-16</th>\n",
       "      <td>1.035663</td>\n",
       "      <td>0.849547</td>\n",
       "    </tr>\n",
       "    <tr>\n",
       "      <th>2020-03-23</th>\n",
       "      <td>1.051872</td>\n",
       "      <td>1.114118</td>\n",
       "    </tr>\n",
       "    <tr>\n",
       "      <th>2020-03-30</th>\n",
       "      <td>1.004771</td>\n",
       "      <td>0.979362</td>\n",
       "    </tr>\n",
       "  </tbody>\n",
       "</table>\n",
       "</div>"
      ],
      "text/plain": [
       "                 TLT       SPY\n",
       "Date                          \n",
       "2020-02-17  1.024144  0.987796\n",
       "2020-02-24  1.049108  0.888389\n",
       "2020-03-02  1.073788  1.004050\n",
       "2020-03-09  0.924431  0.905399\n",
       "2020-03-16  1.035663  0.849547\n",
       "2020-03-23  1.051872  1.114118\n",
       "2020-03-30  1.004771  0.979362"
      ]
     },
     "execution_count": null,
     "metadata": {},
     "output_type": "execute_result"
    }
   ],
   "source": [
    "#hide\n",
    "# Frozen display of value used in test\n",
    "test_6040"
   ]
  },
  {
   "cell_type": "code",
   "execution_count": null,
   "metadata": {},
   "outputs": [],
   "source": [
    "#hide\n",
    "##\n",
    "## Test pf_cum_wr_seq()\n",
    "##\n",
    "\n",
    "expected_py_array = array.array('d', [1.00233529086481, 0.9563036816433197, 0.9901485047549465, 0.9040172073166807, 0.8361477995951826, 0.9079644552327022, 0.8984541223283018])\n",
    "assert pf_cum_wr_seq(test_6040, [0.4, 0.6], 3) == expected_py_array"
   ]
  },
  {
   "cell_type": "code",
   "execution_count": null,
   "metadata": {},
   "outputs": [],
   "source": [
    "#hide\n",
    "# test normalization of scaled weight list\n",
    "assert pf_cum_wr_seq(test_6040, [0.8, 1.2], 3, normalize_wts=True) == expected_py_array"
   ]
  },
  {
   "cell_type": "markdown",
   "metadata": {},
   "source": [
    " "
   ]
  },
  {
   "cell_type": "code",
   "execution_count": null,
   "metadata": {},
   "outputs": [
    {
     "name": "stderr",
     "output_type": "stream",
     "text": [
      "C:\\Users\\USER\\anaconda3\\envs\\jptrlab-pip\\lib\\site-packages\\pandas_datareader\\compat\\__init__.py:7: FutureWarning: pandas.util.testing is deprecated. Use the functions in the public API at pandas.testing instead.\n",
      "  from pandas.util.testing import assert_frame_equal\n"
     ]
    }
   ],
   "source": [
    "#hide\n",
    "#\n",
    "# Test  pf_period_returns()\n",
    "#\n",
    "\n",
    "import empyrical.stats as estats\n",
    "\n",
    "# note fractional returns, not wealth ratios\n",
    "pf_return_df = pf_period_returns(test_6040, [0.4, 0.6], 3, 'My Portfolio')\n",
    "assert list(estats.cum_returns(pf_return_df['My Portfolio'], starting_value=1)) == list(expected_py_array)"
   ]
  },
  {
   "cell_type": "code",
   "execution_count": null,
   "metadata": {},
   "outputs": [
    {
     "data": {
      "text/html": [
       "<div>\n",
       "<style scoped>\n",
       "    .dataframe tbody tr th:only-of-type {\n",
       "        vertical-align: middle;\n",
       "    }\n",
       "\n",
       "    .dataframe tbody tr th {\n",
       "        vertical-align: top;\n",
       "    }\n",
       "\n",
       "    .dataframe thead th {\n",
       "        text-align: right;\n",
       "    }\n",
       "</style>\n",
       "<table border=\"1\" class=\"dataframe\">\n",
       "  <thead>\n",
       "    <tr style=\"text-align: right;\">\n",
       "      <th></th>\n",
       "      <th>My Portfolio</th>\n",
       "    </tr>\n",
       "    <tr>\n",
       "      <th>Date</th>\n",
       "      <th></th>\n",
       "    </tr>\n",
       "  </thead>\n",
       "  <tbody>\n",
       "    <tr>\n",
       "      <th>2020-02-17</th>\n",
       "      <td>0.002335</td>\n",
       "    </tr>\n",
       "    <tr>\n",
       "      <th>2020-02-24</th>\n",
       "      <td>-0.045924</td>\n",
       "    </tr>\n",
       "    <tr>\n",
       "      <th>2020-03-02</th>\n",
       "      <td>0.035391</td>\n",
       "    </tr>\n",
       "    <tr>\n",
       "      <th>2020-03-09</th>\n",
       "      <td>-0.086988</td>\n",
       "    </tr>\n",
       "    <tr>\n",
       "      <th>2020-03-16</th>\n",
       "      <td>-0.075075</td>\n",
       "    </tr>\n",
       "    <tr>\n",
       "      <th>2020-03-23</th>\n",
       "      <td>0.085890</td>\n",
       "    </tr>\n",
       "    <tr>\n",
       "      <th>2020-03-30</th>\n",
       "      <td>-0.010474</td>\n",
       "    </tr>\n",
       "  </tbody>\n",
       "</table>\n",
       "</div>"
      ],
      "text/plain": [
       "            My Portfolio\n",
       "Date                    \n",
       "2020-02-17      0.002335\n",
       "2020-02-24     -0.045924\n",
       "2020-03-02      0.035391\n",
       "2020-03-09     -0.086988\n",
       "2020-03-16     -0.075075\n",
       "2020-03-23      0.085890\n",
       "2020-03-30     -0.010474"
      ]
     },
     "execution_count": null,
     "metadata": {},
     "output_type": "execute_result"
    }
   ],
   "source": [
    "#hide\n",
    "# Validate we get the same results if we start computing the returns much earlier -- as long\n",
    "# as the rebalance periods are aligned.\n",
    "# skip the first two elements of wr_6040 -- rebalance times must align to get the same result\n",
    "pf_period_returns(wr_6040.iloc[2:, :], [0.4, 0.6], 3, 'My Portfolio').loc['2020-02-17':].head(7)"
   ]
  },
  {
   "cell_type": "markdown",
   "metadata": {},
   "source": [
    "**Test computePortfolioReturns()**"
   ]
  },
  {
   "cell_type": "code",
   "execution_count": null,
   "metadata": {},
   "outputs": [
    {
     "data": {
      "text/html": [
       "<div>\n",
       "<style scoped>\n",
       "    .dataframe tbody tr th:only-of-type {\n",
       "        vertical-align: middle;\n",
       "    }\n",
       "\n",
       "    .dataframe tbody tr th {\n",
       "        vertical-align: top;\n",
       "    }\n",
       "\n",
       "    .dataframe thead th {\n",
       "        text-align: right;\n",
       "    }\n",
       "</style>\n",
       "<table border=\"1\" class=\"dataframe\">\n",
       "  <thead>\n",
       "    <tr style=\"text-align: right;\">\n",
       "      <th></th>\n",
       "      <th>MyPf</th>\n",
       "    </tr>\n",
       "    <tr>\n",
       "      <th>Date</th>\n",
       "      <th></th>\n",
       "    </tr>\n",
       "  </thead>\n",
       "  <tbody>\n",
       "    <tr>\n",
       "      <th>2020-02-17</th>\n",
       "      <td>0.002335</td>\n",
       "    </tr>\n",
       "    <tr>\n",
       "      <th>2020-02-24</th>\n",
       "      <td>-0.045924</td>\n",
       "    </tr>\n",
       "    <tr>\n",
       "      <th>2020-03-02</th>\n",
       "      <td>0.035391</td>\n",
       "    </tr>\n",
       "    <tr>\n",
       "      <th>2020-03-09</th>\n",
       "      <td>-0.086988</td>\n",
       "    </tr>\n",
       "    <tr>\n",
       "      <th>2020-03-16</th>\n",
       "      <td>-0.075075</td>\n",
       "    </tr>\n",
       "    <tr>\n",
       "      <th>2020-03-23</th>\n",
       "      <td>0.085890</td>\n",
       "    </tr>\n",
       "    <tr>\n",
       "      <th>2020-03-30</th>\n",
       "      <td>-0.010474</td>\n",
       "    </tr>\n",
       "  </tbody>\n",
       "</table>\n",
       "</div>"
      ],
      "text/plain": [
       "                MyPf\n",
       "Date                \n",
       "2020-02-17  0.002335\n",
       "2020-02-24 -0.045924\n",
       "2020-03-02  0.035391\n",
       "2020-03-09 -0.086988\n",
       "2020-03-16 -0.075075\n",
       "2020-03-23  0.085890\n",
       "2020-03-30 -0.010474"
      ]
     },
     "execution_count": null,
     "metadata": {},
     "output_type": "execute_result"
    }
   ],
   "source": [
    "#hide\n",
    "# computePortfolioValues(asset_weights, pf_name, rebal_period, period='weekly',start_date='2017-05-01', normalize_wts=False):\n",
    "cpv_df = computePortfolioReturns(tst_src, {'SPY':0.60, 'TLT': 0.40}, \"MyPf\", 3, start_date='2020-02-17')\n",
    "assert (cpv_df.iloc[:7,:].values == pf_return_df.values).all()\n",
    "cpv_df.head(7)"
   ]
  },
  {
   "cell_type": "code",
   "execution_count": null,
   "metadata": {},
   "outputs": [
    {
     "data": {
      "text/html": [
       "<div>\n",
       "<style scoped>\n",
       "    .dataframe tbody tr th:only-of-type {\n",
       "        vertical-align: middle;\n",
       "    }\n",
       "\n",
       "    .dataframe tbody tr th {\n",
       "        vertical-align: top;\n",
       "    }\n",
       "\n",
       "    .dataframe thead th {\n",
       "        text-align: right;\n",
       "    }\n",
       "</style>\n",
       "<table border=\"1\" class=\"dataframe\">\n",
       "  <thead>\n",
       "    <tr style=\"text-align: right;\">\n",
       "      <th></th>\n",
       "      <th>MyPf</th>\n",
       "    </tr>\n",
       "    <tr>\n",
       "      <th>Date</th>\n",
       "      <th></th>\n",
       "    </tr>\n",
       "  </thead>\n",
       "  <tbody>\n",
       "    <tr>\n",
       "      <th>2020-02-17</th>\n",
       "      <td>1.002335</td>\n",
       "    </tr>\n",
       "    <tr>\n",
       "      <th>2020-02-24</th>\n",
       "      <td>0.954076</td>\n",
       "    </tr>\n",
       "    <tr>\n",
       "      <th>2020-03-02</th>\n",
       "      <td>1.035391</td>\n",
       "    </tr>\n",
       "    <tr>\n",
       "      <th>2020-03-09</th>\n",
       "      <td>0.913012</td>\n",
       "    </tr>\n",
       "    <tr>\n",
       "      <th>2020-03-16</th>\n",
       "      <td>0.924925</td>\n",
       "    </tr>\n",
       "    <tr>\n",
       "      <th>2020-03-23</th>\n",
       "      <td>1.085890</td>\n",
       "    </tr>\n",
       "    <tr>\n",
       "      <th>2020-03-30</th>\n",
       "      <td>0.989526</td>\n",
       "    </tr>\n",
       "  </tbody>\n",
       "</table>\n",
       "</div>"
      ],
      "text/plain": [
       "                MyPf\n",
       "Date                \n",
       "2020-02-17  1.002335\n",
       "2020-02-24  0.954076\n",
       "2020-03-02  1.035391\n",
       "2020-03-09  0.913012\n",
       "2020-03-16  0.924925\n",
       "2020-03-23  1.085890\n",
       "2020-03-30  0.989526"
      ]
     },
     "execution_count": null,
     "metadata": {},
     "output_type": "execute_result"
    }
   ],
   "source": [
    "#hide\n",
    "# Verify the `wr` parameter works as intended\n",
    "cpv_df_wr = computePortfolioReturns(tst_src, {'SPY':0.60, 'TLT': 0.40}, \"MyPf\", 3, start_date='2020-02-17', wr=True)\n",
    "assert((cpv_df.values + 1 == cpv_df_wr.values).all())\n",
    "cpv_df_wr.head(7)"
   ]
  },
  {
   "cell_type": "markdown",
   "metadata": {},
   "source": [
    "## Notebook Export"
   ]
  },
  {
   "cell_type": "code",
   "execution_count": null,
   "metadata": {},
   "outputs": [
    {
     "name": "stdout",
     "output_type": "stream",
     "text": [
      "Converted 00_core.ipynb.\n",
      "Converted 01_Stats.ipynb.\n",
      "Converted index.ipynb.\n"
     ]
    }
   ],
   "source": [
    "#hide\n",
    "notebook2script()"
   ]
  }
 ],
 "metadata": {
  "kernelspec": {
   "display_name": "Python 3",
   "language": "python",
   "name": "python3"
  }
 },
 "nbformat": 4,
 "nbformat_minor": 2
}
